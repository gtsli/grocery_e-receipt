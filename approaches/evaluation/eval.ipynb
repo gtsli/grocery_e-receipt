{
 "cells": [
  {
   "cell_type": "code",
   "execution_count": 1,
   "metadata": {},
   "outputs": [],
   "source": [
    "actual_value = ['STRAWBERRIES PREMIUM',\n",
    "                'NATURE VALLEY VALUE PACK PROTEIN',\n",
    "                'WATERMENLON CHUNKS SEEDLESS',\n",
    "                'TRIPLE 0 4PACK BERRY',\n",
    "                'RITZ CRACKER',\n",
    "                'PUBLIX CREAM CHEESE',\n",
    "                'BELVITA BROWN SUGAR',\n",
    "                'BANANAS'\n",
    "               ]\n",
    "predicted_value = ['STRAWBERRIES AND CREAM',\n",
    "                   'NOW SPORTS, PEA PROTEIN',\n",
    "                   'WATERMELON CHUNKS',\n",
    "                   'TRIPLE B BAKED PROTEINS',\n",
    "                   'RITZ CRACKERS',\n",
    "                   'PLAIN CREAM CHEESE',\n",
    "                   'PURE LIGHT BROWN SUGAR',\n",
    "                   'BANANAS'\n",
    "                  ]\n"
   ]
  },
  {
   "cell_type": "code",
   "execution_count": null,
   "metadata": {},
   "outputs": [],
   "source": [
    "'''\n",
    "exact match: 0.5\n",
    "num words match: 0.1\n",
    "any word matches (without plurals): 0.2\n",
    "number of chars differ: 0.2 * score\n",
    "\n",
    "    EX: pred --> 5 a's, 3 b's, 4 c's\n",
    "        actual --> 5 a's, 1 b's, 6 c's\n",
    "        output --> 0 a's, 2 b's, 2 c's\n",
    "        \n",
    "        score: diff / total == 4 / (len(pred)+len(actual)) == 1 - (4 / 12) * multiplier\n",
    "'''"
   ]
  },
  {
   "cell_type": "code",
   "execution_count": 3,
   "metadata": {},
   "outputs": [
    {
     "data": {
      "text/plain": [
       "'hello'"
      ]
     },
     "execution_count": 3,
     "metadata": {},
     "output_type": "execute_result"
    }
   ],
   "source": [
    "test = 'hellos'\n",
    "test[:len(test)-1]"
   ]
  },
  {
   "cell_type": "code",
   "execution_count": 61,
   "metadata": {},
   "outputs": [
    {
     "name": "stdout",
     "output_type": "stream",
     "text": [
      "0.46842105263157896\n",
      "0.4729869326199447\n",
      "Lists are not the same size. Ending\n",
      "None\n"
     ]
    }
   ],
   "source": [
    " def partial_acc(pred, actual):\n",
    "    '''\n",
    "    Calculates partial accuracy.\n",
    "\n",
    "    Arguments:\n",
    "    pred -- list containing all the predicted values from the model\n",
    "    actual -- list containing all the actual values (true labels)\n",
    "\n",
    "    NOTE: pred[i] must correlate directly with actual[i]\n",
    "\n",
    "    Return: The partial accuracy score of the model from 0-100.\n",
    "    '''\n",
    "    if len(pred) != len(actual):\n",
    "        print (\"Lists are not the same size. Ending\")\n",
    "        return\n",
    "    pred = [x.upper() for x in pred]\n",
    "    actual = [x.upper() for x in actual]\n",
    "    score = 0\n",
    "    for i, val in enumerate(pred):\n",
    "        # calc exact match ##\n",
    "        if pred[i] == actual[i]:\n",
    "            score += 0.5\n",
    "\n",
    "        ## calc num words match ##\n",
    "        if len(pred[i].split(\" \")) == len(actual[i].split(\" \")):\n",
    "            score += 0.1\n",
    "\n",
    "        ## find if there are any word matches ##\n",
    "        match = False\n",
    "        for each_word_pred in pred[i].split(\" \"):\n",
    "            if match:\n",
    "                break\n",
    "            if each_word_pred[-1] == 'S':\n",
    "                each_word_pred = each_word_pred[:len(each_word_pred)-1]\n",
    "            for each_word_actual in actual[i].split(\" \"):\n",
    "                if each_word_actual[-1] == 'S':\n",
    "                    each_word_actual = each_word_actual[:len(each_word_actual)-1]\n",
    "                if each_word_actual == each_word_pred:\n",
    "                    score += 0.2\n",
    "                    match = True\n",
    "                    break\n",
    "        \n",
    "        ## find char level score ##\n",
    "        actual_dict = Counter(actual[i])\n",
    "        pred_dict = Counter(pred[i])\n",
    "        \n",
    "        for each_char in actual_dict.keys():\n",
    "            if each_char in pred_dict.keys():\n",
    "                pred_dict[each_char] = int(math.fabs(pred_dict[each_char] - actual_dict[each_char]))\n",
    "            else:\n",
    "                pred_dict[each_char] = actual_dict[each_char]\n",
    "        percent = 1 - (sum(pred_dict.values()) / (len(pred[i]) + len(actual[i])))\n",
    "        score += percent * 0.2\n",
    "    return score / len(pred)\n",
    "\n",
    "print (partial_acc(['strawberries premium'], ['strawberries cream']))\n",
    "print (partial_acc(predicted_value, actual_value))\n",
    "print (partial_acc(['1', '2'], ['1']))"
   ]
  }
 ],
 "metadata": {
  "kernelspec": {
   "display_name": "Python 3",
   "language": "python",
   "name": "python3"
  },
  "language_info": {
   "codemirror_mode": {
    "name": "ipython",
    "version": 3
   },
   "file_extension": ".py",
   "mimetype": "text/x-python",
   "name": "python",
   "nbconvert_exporter": "python",
   "pygments_lexer": "ipython3",
   "version": "3.5.4"
  }
 },
 "nbformat": 4,
 "nbformat_minor": 2
}
