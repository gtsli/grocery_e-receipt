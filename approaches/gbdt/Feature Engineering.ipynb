{
 "cells": [
  {
   "cell_type": "code",
   "execution_count": 1,
   "metadata": {},
   "outputs": [],
   "source": [
    "import pandas as pd\n",
    "import numpy\n",
    "import json\n",
    "import string"
   ]
  },
  {
   "cell_type": "code",
   "execution_count": 2,
   "metadata": {},
   "outputs": [],
   "source": [
    "path_name = \"../../synthetic_data/data/final_train_labels.json\"\n",
    "with open(path_name) as f:\n",
    "    data = json.load(f)"
   ]
  },
  {
   "cell_type": "code",
   "execution_count": 3,
   "metadata": {},
   "outputs": [],
   "source": [
    "y = [item[0] for item in data]\n",
    "x = [item[1] for item in data]"
   ]
  },
  {
   "cell_type": "code",
   "execution_count": 4,
   "metadata": {},
   "outputs": [],
   "source": [
    "colors = [\n",
    "\"BG\", \"BEIGE\",\n",
    "\"BK\", \"BLACK\", \"BLCK\", \"BLK\",\n",
    "\"BL\", \"BLUE\", \"BLU\",\n",
    "\"BN\", \"BROWN\", \"BRWN\",\n",
    "\"BZ\", \"BRONZE\", \"BRNZ\",\n",
    "\"CH\", \"CHARCOAL\", \"CHRCL\",\n",
    "\"CL\", \"CLEAR\", \"CLR\",\n",
    "\"DK\", \"DARK\", \"DRK\"\n",
    "\"GD\", \"GOLD\", \"GLD\",\n",
    "\"GN\", \"GREEN\", \"GRN\",\n",
    "\"GY\", \"GRAY\", \"GRY\",\n",
    "\"GT\", \"GRANITE\", \"GRNT\",\n",
    "\"LT\", \"LIGHT\", \"LGHT\",\n",
    "\"OR\", \"ORANGE\", \"ORNG\",\n",
    "\"PK\", \"PINK\", \"PNK\",\n",
    "\"RD\", \"RED\",\n",
    "\"TL\", \"TRANSLUCENT\", \"TRNSLCNT\",\n",
    "\"TN\", \"TAN\",\n",
    "\"TP\", \"TRANSPARENT\", \"TRNSPRNT\",\n",
    "\"VT\", \"VIOLET\", \"VLT\"\n",
    "\"WT\", \"WHITE\", \"WHT\"\n",
    "\"YL\", \"YELLOW\", \"YLLW\", \"YLW\"]"
   ]
  },
  {
   "cell_type": "code",
   "execution_count": 7,
   "metadata": {},
   "outputs": [],
   "source": [
    "def num_vowels(x):\n",
    "    num_vowels=0\n",
    "    for char in x:\n",
    "        if char in \"aeiouAEIOU\":\n",
    "            num_vowels += 1\n",
    "    return num_vowels"
   ]
  },
  {
   "cell_type": "code",
   "execution_count": 7,
   "metadata": {},
   "outputs": [],
   "source": [
    "def num_words(x):\n",
    "    return len(x.split())"
   ]
  },
  {
   "cell_type": "code",
   "execution_count": 8,
   "metadata": {},
   "outputs": [],
   "source": [
    "def num_chars(x):\n",
    "    return len(x)"
   ]
  },
  {
   "cell_type": "code",
   "execution_count": 9,
   "metadata": {},
   "outputs": [],
   "source": [
    "def num_digits(x):\n",
    "    num_digits=0\n",
    "    for char in x:\n",
    "        if char.isnumeric():\n",
    "            num_digits += 1\n",
    "    return num_digits"
   ]
  },
  {
   "cell_type": "code",
   "execution_count": 10,
   "metadata": {},
   "outputs": [],
   "source": [
    "def num_symbols(x):\n",
    "    num_symbols=0\n",
    "    for char in x:\n",
    "        if not char.isnumeric() and not char.isspace() and not char.isalpha():\n",
    "            num_symbols += 1\n",
    "    return num_symbols"
   ]
  },
  {
   "cell_type": "code",
   "execution_count": 11,
   "metadata": {},
   "outputs": [],
   "source": [
    "def num_letters(x, letter):\n",
    "    num_letters=0\n",
    "    for char in x:\n",
    "        if char == letter:\n",
    "            num_letters += 1\n",
    "    return num_letters"
   ]
  },
  {
   "cell_type": "code",
   "execution_count": 12,
   "metadata": {},
   "outputs": [],
   "source": [
    "def is_plural(x):\n",
    "    return x[len(x) - 1] == 'S'"
   ]
  },
  {
   "cell_type": "code",
   "execution_count": 17,
   "metadata": {},
   "outputs": [],
   "source": [
    "def has_char_repeat(x):\n",
    "    for i in range(1, len(x) - 1):\n",
    "        if x[i - 1] == x[i]:\n",
    "            return True\n",
    "    return False"
   ]
  },
  {
   "cell_type": "code",
   "execution_count": 8,
   "metadata": {},
   "outputs": [],
   "source": [
    "def has_color(x):\n",
    "    words = x.split()\n",
    "    for word in words:\n",
    "        if word in colors:\n",
    "            return True\n",
    "    return False"
   ]
  },
  {
   "cell_type": "code",
   "execution_count": 7,
   "metadata": {},
   "outputs": [
    {
     "data": {
      "text/html": [
       "<div>\n",
       "<style scoped>\n",
       "    .dataframe tbody tr th:only-of-type {\n",
       "        vertical-align: middle;\n",
       "    }\n",
       "\n",
       "    .dataframe tbody tr th {\n",
       "        vertical-align: top;\n",
       "    }\n",
       "\n",
       "    .dataframe thead th {\n",
       "        text-align: right;\n",
       "    }\n",
       "</style>\n",
       "<table border=\"1\" class=\"dataframe\">\n",
       "  <thead>\n",
       "    <tr style=\"text-align: right;\">\n",
       "      <th></th>\n",
       "      <th>x</th>\n",
       "      <th>y</th>\n",
       "    </tr>\n",
       "  </thead>\n",
       "  <tbody>\n",
       "    <tr>\n",
       "      <th>0</th>\n",
       "      <td>RGNC CRMY TLN DRSSNG &amp; QCK MRND</td>\n",
       "      <td>ORGANIC CREAMY ITALIAN DRESSING &amp; QUICK MARINADE</td>\n",
       "    </tr>\n",
       "    <tr>\n",
       "      <th>1</th>\n",
       "      <td>SPRSS CC CRNCH</td>\n",
       "      <td>ESPRESSO CACAO CRUNCH</td>\n",
       "    </tr>\n",
       "    <tr>\n",
       "      <th>2</th>\n",
       "      <td>JLLYBNS CBDY</td>\n",
       "      <td>JELLYBEANS CABDY</td>\n",
       "    </tr>\n",
       "    <tr>\n",
       "      <th>3</th>\n",
       "      <td>DR. TRMR</td>\n",
       "      <td>DR. TREMOR</td>\n",
       "    </tr>\n",
       "    <tr>\n",
       "      <th>4</th>\n",
       "      <td>WHT &amp; BL TRTLL CHPS</td>\n",
       "      <td>WHITE &amp; BLUE TORTILLA CHIPS</td>\n",
       "    </tr>\n",
       "  </tbody>\n",
       "</table>\n",
       "</div>"
      ],
      "text/plain": [
       "                                 x  \\\n",
       "0  RGNC CRMY TLN DRSSNG & QCK MRND   \n",
       "1                   SPRSS CC CRNCH   \n",
       "2                     JLLYBNS CBDY   \n",
       "3                         DR. TRMR   \n",
       "4              WHT & BL TRTLL CHPS   \n",
       "\n",
       "                                                  y  \n",
       "0  ORGANIC CREAMY ITALIAN DRESSING & QUICK MARINADE  \n",
       "1                             ESPRESSO CACAO CRUNCH  \n",
       "2                                  JELLYBEANS CABDY  \n",
       "3                                        DR. TREMOR  \n",
       "4                       WHITE & BLUE TORTILLA CHIPS  "
      ]
     },
     "execution_count": 7,
     "metadata": {},
     "output_type": "execute_result"
    }
   ],
   "source": [
    "df = pd.DataFrame(data={\"x\":x, \"y\":y})\n",
    "df.head()"
   ]
  },
  {
   "cell_type": "code",
   "execution_count": 11,
   "metadata": {},
   "outputs": [],
   "source": [
    "df[\"num_vowels\"] = df.apply(lambda row: num_vowels(row.x), axis=1)"
   ]
  },
  {
   "cell_type": "code",
   "execution_count": 12,
   "metadata": {},
   "outputs": [],
   "source": [
    "df[\"num_words\"] = df.apply(lambda row: num_words(row.x), axis=1)"
   ]
  },
  {
   "cell_type": "code",
   "execution_count": 13,
   "metadata": {},
   "outputs": [],
   "source": [
    "df[\"num_chars\"] = df.apply(lambda row: num_chars(row.x), axis=1)"
   ]
  },
  {
   "cell_type": "code",
   "execution_count": 21,
   "metadata": {},
   "outputs": [],
   "source": [
    "df[\"num_digits\"] = df.apply(lambda row: num_digits(row.x), axis=1)"
   ]
  },
  {
   "cell_type": "code",
   "execution_count": 23,
   "metadata": {},
   "outputs": [],
   "source": [
    "df[\"num_symbols\"] = df.apply(lambda row: num_symbols(row.x), axis=1)"
   ]
  },
  {
   "cell_type": "code",
   "execution_count": 38,
   "metadata": {},
   "outputs": [],
   "source": [
    "for letter in string.ascii_uppercase:\n",
    "    df[\"num_\" + letter] = df.apply(lambda row: num_letters(row.x, letter), axis=1)"
   ]
  },
  {
   "cell_type": "code",
   "execution_count": 48,
   "metadata": {},
   "outputs": [],
   "source": [
    "df[\"is_plural\"] = df.apply(lambda row: is_plural(row.x), axis=1)"
   ]
  },
  {
   "cell_type": "code",
   "execution_count": 18,
   "metadata": {},
   "outputs": [],
   "source": [
    "df[\"has_char_repeat\"] = df.apply(lambda row: has_char_repeat(row.x), axis=1)"
   ]
  },
  {
   "cell_type": "code",
   "execution_count": 9,
   "metadata": {},
   "outputs": [],
   "source": [
    "df[\"has_color\"] = df.apply(lambda row: has_color(row.x), axis=1)"
   ]
  },
  {
   "cell_type": "code",
   "execution_count": 10,
   "metadata": {},
   "outputs": [
    {
     "data": {
      "text/html": [
       "<div>\n",
       "<style scoped>\n",
       "    .dataframe tbody tr th:only-of-type {\n",
       "        vertical-align: middle;\n",
       "    }\n",
       "\n",
       "    .dataframe tbody tr th {\n",
       "        vertical-align: top;\n",
       "    }\n",
       "\n",
       "    .dataframe thead th {\n",
       "        text-align: right;\n",
       "    }\n",
       "</style>\n",
       "<table border=\"1\" class=\"dataframe\">\n",
       "  <thead>\n",
       "    <tr style=\"text-align: right;\">\n",
       "      <th></th>\n",
       "      <th>x</th>\n",
       "      <th>y</th>\n",
       "      <th>has_color</th>\n",
       "    </tr>\n",
       "  </thead>\n",
       "  <tbody>\n",
       "    <tr>\n",
       "      <th>0</th>\n",
       "      <td>RGNC CRMY TLN DRSSNG &amp; QCK MRND</td>\n",
       "      <td>ORGANIC CREAMY ITALIAN DRESSING &amp; QUICK MARINADE</td>\n",
       "      <td>False</td>\n",
       "    </tr>\n",
       "    <tr>\n",
       "      <th>1</th>\n",
       "      <td>SPRSS CC CRNCH</td>\n",
       "      <td>ESPRESSO CACAO CRUNCH</td>\n",
       "      <td>False</td>\n",
       "    </tr>\n",
       "    <tr>\n",
       "      <th>2</th>\n",
       "      <td>JLLYBNS CBDY</td>\n",
       "      <td>JELLYBEANS CABDY</td>\n",
       "      <td>False</td>\n",
       "    </tr>\n",
       "    <tr>\n",
       "      <th>3</th>\n",
       "      <td>DR. TRMR</td>\n",
       "      <td>DR. TREMOR</td>\n",
       "      <td>False</td>\n",
       "    </tr>\n",
       "    <tr>\n",
       "      <th>4</th>\n",
       "      <td>WHT &amp; BL TRTLL CHPS</td>\n",
       "      <td>WHITE &amp; BLUE TORTILLA CHIPS</td>\n",
       "      <td>True</td>\n",
       "    </tr>\n",
       "  </tbody>\n",
       "</table>\n",
       "</div>"
      ],
      "text/plain": [
       "                                 x  \\\n",
       "0  RGNC CRMY TLN DRSSNG & QCK MRND   \n",
       "1                   SPRSS CC CRNCH   \n",
       "2                     JLLYBNS CBDY   \n",
       "3                         DR. TRMR   \n",
       "4              WHT & BL TRTLL CHPS   \n",
       "\n",
       "                                                  y  has_color  \n",
       "0  ORGANIC CREAMY ITALIAN DRESSING & QUICK MARINADE      False  \n",
       "1                             ESPRESSO CACAO CRUNCH      False  \n",
       "2                                  JELLYBEANS CABDY      False  \n",
       "3                                        DR. TREMOR      False  \n",
       "4                       WHITE & BLUE TORTILLA CHIPS       True  "
      ]
     },
     "execution_count": 10,
     "metadata": {},
     "output_type": "execute_result"
    }
   ],
   "source": [
    "df.head()"
   ]
  }
 ],
 "metadata": {
  "kernelspec": {
   "display_name": "Python 3",
   "language": "python",
   "name": "python3"
  },
  "language_info": {
   "codemirror_mode": {
    "name": "ipython",
    "version": 3
   },
   "file_extension": ".py",
   "mimetype": "text/x-python",
   "name": "python",
   "nbconvert_exporter": "python",
   "pygments_lexer": "ipython3",
   "version": "3.7.2"
  }
 },
 "nbformat": 4,
 "nbformat_minor": 2
}
