{
 "cells": [
  {
   "cell_type": "code",
   "execution_count": 129,
   "metadata": {},
   "outputs": [],
   "source": [
    "import pandas as pd\n",
    "import numpy\n",
    "import json\n",
    "import string"
   ]
  },
  {
   "cell_type": "code",
   "execution_count": 130,
   "metadata": {},
   "outputs": [],
   "source": [
    "path_name = \"../../synthetic_data/data/final_branded_train_labels.json\"\n",
    "with open(path_name) as f:\n",
    "    data = json.load(f)"
   ]
  },
  {
   "cell_type": "code",
   "execution_count": 131,
   "metadata": {},
   "outputs": [],
   "source": [
    "y = [item[0] for item in data]\n",
    "x = [item[1] for item in data]"
   ]
  },
  {
   "cell_type": "code",
   "execution_count": 132,
   "metadata": {},
   "outputs": [],
   "source": [
    "colors = [\n",
    "\"BG\", \"BEIGE\",\n",
    "\"BK\", \"BLACK\", \"BLCK\", \"BLK\",\n",
    "\"BL\", \"BLUE\", \"BLU\",\n",
    "\"BN\", \"BROWN\", \"BRWN\",\n",
    "\"BZ\", \"BRONZE\", \"BRNZ\",\n",
    "\"CH\", \"CHARCOAL\", \"CHRCL\",\n",
    "\"CL\", \"CLEAR\", \"CLR\",\n",
    "\"DK\", \"DARK\", \"DRK\"\n",
    "\"GD\", \"GOLD\", \"GLD\",\n",
    "\"GN\", \"GREEN\", \"GRN\",\n",
    "\"GY\", \"GRAY\", \"GRY\",\n",
    "\"GT\", \"GRANITE\", \"GRNT\",\n",
    "\"LT\", \"LIGHT\", \"LGHT\",\n",
    "\"OR\", \"ORANGE\", \"ORNG\",\n",
    "\"PK\", \"PINK\", \"PNK\",\n",
    "\"RD\", \"RED\",\n",
    "\"TL\", \"TRANSLUCENT\", \"TRNSLCNT\",\n",
    "\"TN\", \"TAN\",\n",
    "\"TP\", \"TRANSPARENT\", \"TRNSPRNT\",\n",
    "\"VT\", \"VIOLET\", \"VLT\"\n",
    "\"WT\", \"WHITE\", \"WHT\"\n",
    "\"YL\", \"YELLOW\", \"YLLW\", \"YLW\"]\n",
    "\n",
    "units = [\n",
    "        'PACK',\n",
    "        'PCK',\n",
    "        'PK'\n",
    "        'OZ',\n",
    "        'OUNCE',\n",
    "        'CT',\n",
    "        'COUNT',\n",
    "        'LB',\n",
    "        'LBS']"
   ]
  },
  {
   "cell_type": "code",
   "execution_count": 133,
   "metadata": {},
   "outputs": [],
   "source": [
    "with open('../../synthetic_data/data/abbreviated_brands.json') as json_file:  \n",
    "    data = json.load(json_file)\n",
    "    abbreviated_brands = [x[1] for x in data]\n",
    "    \n",
    "with open('../../synthetic_data/data/abbreviated_descriptors.json') as json_file:  \n",
    "    data = json.load(json_file)\n",
    "    abbreviated_descriptors = [x[1] for x in data]"
   ]
  },
  {
   "cell_type": "code",
   "execution_count": 134,
   "metadata": {},
   "outputs": [],
   "source": [
    "def num_vowels(x):\n",
    "    num_vowels=0\n",
    "    for char in x:\n",
    "        if char in \"aeiouAEIOU\":\n",
    "            num_vowels += 1\n",
    "    return int(num_vowels)"
   ]
  },
  {
   "cell_type": "code",
   "execution_count": 135,
   "metadata": {},
   "outputs": [],
   "source": [
    "def num_words(x):\n",
    "    return int(len(x.split()))"
   ]
  },
  {
   "cell_type": "code",
   "execution_count": 136,
   "metadata": {},
   "outputs": [],
   "source": [
    "def num_chars(x):\n",
    "    return int(len(x))"
   ]
  },
  {
   "cell_type": "code",
   "execution_count": 137,
   "metadata": {},
   "outputs": [],
   "source": [
    "def num_digits(x):\n",
    "    num_digits=0\n",
    "    for char in x:\n",
    "        if char.isnumeric():\n",
    "            num_digits += 1\n",
    "    return int(num_digits)"
   ]
  },
  {
   "cell_type": "code",
   "execution_count": 138,
   "metadata": {},
   "outputs": [],
   "source": [
    "def num_symbols(x):\n",
    "    num_symbols=0\n",
    "    for char in x:\n",
    "        if not char.isnumeric() and not char.isspace() and not char.isalpha():\n",
    "            num_symbols += 1\n",
    "    return int(num_symbols)"
   ]
  },
  {
   "cell_type": "code",
   "execution_count": 139,
   "metadata": {},
   "outputs": [],
   "source": [
    "def num_letters(x, letter):\n",
    "    num_letters=0\n",
    "    for char in x:\n",
    "        if char == letter:\n",
    "            num_letters += 1\n",
    "    return int(num_letters)"
   ]
  },
  {
   "cell_type": "code",
   "execution_count": 140,
   "metadata": {},
   "outputs": [],
   "source": [
    "def is_plural(x):\n",
    "    if x[len(x) - 1] == 'S':\n",
    "        return 1\n",
    "    return 0"
   ]
  },
  {
   "cell_type": "code",
   "execution_count": 141,
   "metadata": {},
   "outputs": [],
   "source": [
    "def has_char_repeat(x):\n",
    "    for i in range(1, len(x) - 1):\n",
    "        if x[i - 1] == x[i]:\n",
    "            return 1\n",
    "    return 0"
   ]
  },
  {
   "cell_type": "code",
   "execution_count": 142,
   "metadata": {},
   "outputs": [],
   "source": [
    "def has_color(x):\n",
    "    words = x.split()\n",
    "    for word in words:\n",
    "        if word in colors:\n",
    "            return 1\n",
    "    return 0"
   ]
  },
  {
   "cell_type": "code",
   "execution_count": 143,
   "metadata": {},
   "outputs": [],
   "source": [
    "def has_brand(x):\n",
    "    for abbr_brand in abbreviated_brands:\n",
    "        if abbr_brand in x:\n",
    "            return 1\n",
    "    return 0"
   ]
  },
  {
   "cell_type": "code",
   "execution_count": 144,
   "metadata": {},
   "outputs": [],
   "source": [
    "def has_descriptor(x):\n",
    "    for abbr_descriptor in abbreviated_descriptors:\n",
    "        if abbr_descriptor in x:\n",
    "            return 1\n",
    "    return 0"
   ]
  },
  {
   "cell_type": "code",
   "execution_count": 145,
   "metadata": {},
   "outputs": [],
   "source": [
    "def has_unit(x):\n",
    "    words = x.split()\n",
    "    for word in words:\n",
    "        if word in units:\n",
    "            return 1\n",
    "    return 0"
   ]
  },
  {
   "cell_type": "code",
   "execution_count": 146,
   "metadata": {},
   "outputs": [
    {
     "data": {
      "text/html": [
       "<div>\n",
       "<style scoped>\n",
       "    .dataframe tbody tr th:only-of-type {\n",
       "        vertical-align: middle;\n",
       "    }\n",
       "\n",
       "    .dataframe tbody tr th {\n",
       "        vertical-align: top;\n",
       "    }\n",
       "\n",
       "    .dataframe thead th {\n",
       "        text-align: right;\n",
       "    }\n",
       "</style>\n",
       "<table border=\"1\" class=\"dataframe\">\n",
       "  <thead>\n",
       "    <tr style=\"text-align: right;\">\n",
       "      <th></th>\n",
       "      <th>x</th>\n",
       "      <th>y</th>\n",
       "    </tr>\n",
       "  </thead>\n",
       "  <tbody>\n",
       "    <tr>\n",
       "      <th>0</th>\n",
       "      <td>LGHT NNFT YGRT</td>\n",
       "      <td>LIGHT NONFAT YOGURT</td>\n",
       "    </tr>\n",
       "    <tr>\n",
       "      <th>1</th>\n",
       "      <td>WRHDS CNDY WRMS</td>\n",
       "      <td>WARHEADS CANDY WORMS</td>\n",
       "    </tr>\n",
       "    <tr>\n",
       "      <th>2</th>\n",
       "      <td>WGMNS MN HRT</td>\n",
       "      <td>WEGMANS MINI HEART</td>\n",
       "    </tr>\n",
       "    <tr>\n",
       "      <th>3</th>\n",
       "      <td>RSN LMND CRNCH T CLSTRS</td>\n",
       "      <td>RAISIN ALMOND CRUNCH OAT CLUSTERS</td>\n",
       "    </tr>\n",
       "    <tr>\n",
       "      <th>4</th>\n",
       "      <td>WHT MT CRNBRRY PCN CHCKN SLD</td>\n",
       "      <td>WHITE MEAT CRANBERRY PECAN CHICKEN SALAD</td>\n",
       "    </tr>\n",
       "  </tbody>\n",
       "</table>\n",
       "</div>"
      ],
      "text/plain": [
       "                              x                                         y\n",
       "0                LGHT NNFT YGRT                       LIGHT NONFAT YOGURT\n",
       "1               WRHDS CNDY WRMS                      WARHEADS CANDY WORMS\n",
       "2                  WGMNS MN HRT                        WEGMANS MINI HEART\n",
       "3       RSN LMND CRNCH T CLSTRS         RAISIN ALMOND CRUNCH OAT CLUSTERS\n",
       "4  WHT MT CRNBRRY PCN CHCKN SLD  WHITE MEAT CRANBERRY PECAN CHICKEN SALAD"
      ]
     },
     "execution_count": 146,
     "metadata": {},
     "output_type": "execute_result"
    }
   ],
   "source": [
    "df = pd.DataFrame(data={\"x\":x, \"y\":y})\n",
    "df.head()"
   ]
  },
  {
   "cell_type": "code",
   "execution_count": 147,
   "metadata": {},
   "outputs": [],
   "source": [
    "df[\"num_vowels\"] = df.apply(lambda row: num_vowels(row.x), axis=1)"
   ]
  },
  {
   "cell_type": "code",
   "execution_count": 148,
   "metadata": {},
   "outputs": [],
   "source": [
    "df[\"num_words\"] = df.apply(lambda row: num_words(row.x), axis=1)"
   ]
  },
  {
   "cell_type": "code",
   "execution_count": 149,
   "metadata": {},
   "outputs": [],
   "source": [
    "df[\"num_chars\"] = df.apply(lambda row: num_chars(row.x), axis=1)"
   ]
  },
  {
   "cell_type": "code",
   "execution_count": 150,
   "metadata": {},
   "outputs": [],
   "source": [
    "df[\"num_digits\"] = df.apply(lambda row: num_digits(row.x), axis=1)"
   ]
  },
  {
   "cell_type": "code",
   "execution_count": 151,
   "metadata": {},
   "outputs": [],
   "source": [
    "df[\"num_symbols\"] = df.apply(lambda row: num_symbols(row.x), axis=1)"
   ]
  },
  {
   "cell_type": "code",
   "execution_count": 152,
   "metadata": {},
   "outputs": [
    {
     "name": "stdout",
     "output_type": "stream",
     "text": [
      "Wall time: 7min\n"
     ]
    }
   ],
   "source": [
    "%%time\n",
    "for letter in string.ascii_uppercase:\n",
    "    df[\"num_\" + letter] = df.apply(lambda row: num_letters(row.x, letter), axis=1)"
   ]
  },
  {
   "cell_type": "code",
   "execution_count": 153,
   "metadata": {},
   "outputs": [],
   "source": [
    "df[\"is_plural\"] = df.apply(lambda row: is_plural(row.x), axis=1)"
   ]
  },
  {
   "cell_type": "code",
   "execution_count": 154,
   "metadata": {},
   "outputs": [],
   "source": [
    "df[\"has_char_repeat\"] = df.apply(lambda row: has_char_repeat(row.x), axis=1)"
   ]
  },
  {
   "cell_type": "code",
   "execution_count": 155,
   "metadata": {},
   "outputs": [],
   "source": [
    "df[\"has_color\"] = df.apply(lambda row: has_color(row.x), axis=1)"
   ]
  },
  {
   "cell_type": "code",
   "execution_count": 156,
   "metadata": {},
   "outputs": [],
   "source": [
    "df[\"has_brand\"] = df.apply(lambda row: has_brand(row.x), axis=1)"
   ]
  },
  {
   "cell_type": "code",
   "execution_count": 157,
   "metadata": {},
   "outputs": [],
   "source": [
    "df[\"has_descriptor\"] = df.apply(lambda row: has_descriptor(row.x), axis=1)"
   ]
  },
  {
   "cell_type": "code",
   "execution_count": 158,
   "metadata": {},
   "outputs": [],
   "source": [
    "df[\"has_unit\"] = df.apply(lambda row: has_unit(row.x), axis=1)"
   ]
  },
  {
   "cell_type": "code",
   "execution_count": 166,
   "metadata": {},
   "outputs": [
    {
     "data": {
      "text/html": [
       "<div>\n",
       "<style scoped>\n",
       "    .dataframe tbody tr th:only-of-type {\n",
       "        vertical-align: middle;\n",
       "    }\n",
       "\n",
       "    .dataframe tbody tr th {\n",
       "        vertical-align: top;\n",
       "    }\n",
       "\n",
       "    .dataframe thead th {\n",
       "        text-align: right;\n",
       "    }\n",
       "</style>\n",
       "<table border=\"1\" class=\"dataframe\">\n",
       "  <thead>\n",
       "    <tr style=\"text-align: right;\">\n",
       "      <th></th>\n",
       "      <th>x</th>\n",
       "      <th>y</th>\n",
       "      <th>num_vowels</th>\n",
       "      <th>num_words</th>\n",
       "      <th>num_chars</th>\n",
       "      <th>num_digits</th>\n",
       "      <th>num_symbols</th>\n",
       "      <th>num_A</th>\n",
       "      <th>num_B</th>\n",
       "      <th>num_C</th>\n",
       "      <th>...</th>\n",
       "      <th>num_W</th>\n",
       "      <th>num_X</th>\n",
       "      <th>num_Y</th>\n",
       "      <th>num_Z</th>\n",
       "      <th>is_plural</th>\n",
       "      <th>has_char_repeat</th>\n",
       "      <th>has_color</th>\n",
       "      <th>has_brand</th>\n",
       "      <th>has_descriptor</th>\n",
       "      <th>has_unit</th>\n",
       "    </tr>\n",
       "  </thead>\n",
       "  <tbody>\n",
       "    <tr>\n",
       "      <th>0</th>\n",
       "      <td>LGHT NNFT YGRT</td>\n",
       "      <td>LIGHT NONFAT YOGURT</td>\n",
       "      <td>0</td>\n",
       "      <td>3</td>\n",
       "      <td>14</td>\n",
       "      <td>0</td>\n",
       "      <td>0</td>\n",
       "      <td>0</td>\n",
       "      <td>0</td>\n",
       "      <td>0</td>\n",
       "      <td>...</td>\n",
       "      <td>0</td>\n",
       "      <td>0</td>\n",
       "      <td>1</td>\n",
       "      <td>0</td>\n",
       "      <td>0</td>\n",
       "      <td>1</td>\n",
       "      <td>1</td>\n",
       "      <td>1</td>\n",
       "      <td>0</td>\n",
       "      <td>0</td>\n",
       "    </tr>\n",
       "    <tr>\n",
       "      <th>1</th>\n",
       "      <td>WRHDS CNDY WRMS</td>\n",
       "      <td>WARHEADS CANDY WORMS</td>\n",
       "      <td>0</td>\n",
       "      <td>3</td>\n",
       "      <td>15</td>\n",
       "      <td>0</td>\n",
       "      <td>0</td>\n",
       "      <td>0</td>\n",
       "      <td>0</td>\n",
       "      <td>1</td>\n",
       "      <td>...</td>\n",
       "      <td>2</td>\n",
       "      <td>0</td>\n",
       "      <td>1</td>\n",
       "      <td>0</td>\n",
       "      <td>1</td>\n",
       "      <td>0</td>\n",
       "      <td>0</td>\n",
       "      <td>1</td>\n",
       "      <td>1</td>\n",
       "      <td>0</td>\n",
       "    </tr>\n",
       "    <tr>\n",
       "      <th>2</th>\n",
       "      <td>WGMNS MN HRT</td>\n",
       "      <td>WEGMANS MINI HEART</td>\n",
       "      <td>0</td>\n",
       "      <td>3</td>\n",
       "      <td>12</td>\n",
       "      <td>0</td>\n",
       "      <td>0</td>\n",
       "      <td>0</td>\n",
       "      <td>0</td>\n",
       "      <td>0</td>\n",
       "      <td>...</td>\n",
       "      <td>1</td>\n",
       "      <td>0</td>\n",
       "      <td>0</td>\n",
       "      <td>0</td>\n",
       "      <td>0</td>\n",
       "      <td>0</td>\n",
       "      <td>0</td>\n",
       "      <td>1</td>\n",
       "      <td>0</td>\n",
       "      <td>0</td>\n",
       "    </tr>\n",
       "    <tr>\n",
       "      <th>3</th>\n",
       "      <td>RSN LMND CRNCH T CLSTRS</td>\n",
       "      <td>RAISIN ALMOND CRUNCH OAT CLUSTERS</td>\n",
       "      <td>0</td>\n",
       "      <td>5</td>\n",
       "      <td>23</td>\n",
       "      <td>0</td>\n",
       "      <td>0</td>\n",
       "      <td>0</td>\n",
       "      <td>0</td>\n",
       "      <td>3</td>\n",
       "      <td>...</td>\n",
       "      <td>0</td>\n",
       "      <td>0</td>\n",
       "      <td>0</td>\n",
       "      <td>0</td>\n",
       "      <td>1</td>\n",
       "      <td>0</td>\n",
       "      <td>0</td>\n",
       "      <td>1</td>\n",
       "      <td>0</td>\n",
       "      <td>0</td>\n",
       "    </tr>\n",
       "    <tr>\n",
       "      <th>4</th>\n",
       "      <td>WHT MT CRNBRRY PCN CHCKN SLD</td>\n",
       "      <td>WHITE MEAT CRANBERRY PECAN CHICKEN SALAD</td>\n",
       "      <td>0</td>\n",
       "      <td>6</td>\n",
       "      <td>28</td>\n",
       "      <td>0</td>\n",
       "      <td>0</td>\n",
       "      <td>0</td>\n",
       "      <td>1</td>\n",
       "      <td>4</td>\n",
       "      <td>...</td>\n",
       "      <td>1</td>\n",
       "      <td>0</td>\n",
       "      <td>1</td>\n",
       "      <td>0</td>\n",
       "      <td>0</td>\n",
       "      <td>1</td>\n",
       "      <td>0</td>\n",
       "      <td>1</td>\n",
       "      <td>0</td>\n",
       "      <td>0</td>\n",
       "    </tr>\n",
       "    <tr>\n",
       "      <th>5</th>\n",
       "      <td>PRMM PCH CBBLR MX</td>\n",
       "      <td>PREMIUM PEACH COBBLER MIX</td>\n",
       "      <td>0</td>\n",
       "      <td>4</td>\n",
       "      <td>17</td>\n",
       "      <td>0</td>\n",
       "      <td>0</td>\n",
       "      <td>0</td>\n",
       "      <td>2</td>\n",
       "      <td>2</td>\n",
       "      <td>...</td>\n",
       "      <td>0</td>\n",
       "      <td>1</td>\n",
       "      <td>0</td>\n",
       "      <td>0</td>\n",
       "      <td>0</td>\n",
       "      <td>1</td>\n",
       "      <td>0</td>\n",
       "      <td>1</td>\n",
       "      <td>1</td>\n",
       "      <td>0</td>\n",
       "    </tr>\n",
       "    <tr>\n",
       "      <th>6</th>\n",
       "      <td>RYL SNCKS RSTD &amp; NSLTD PNTS</td>\n",
       "      <td>ROYAL SNACKS ROASTED &amp; UNSALTED PEANUTS</td>\n",
       "      <td>0</td>\n",
       "      <td>6</td>\n",
       "      <td>27</td>\n",
       "      <td>0</td>\n",
       "      <td>1</td>\n",
       "      <td>0</td>\n",
       "      <td>0</td>\n",
       "      <td>1</td>\n",
       "      <td>...</td>\n",
       "      <td>0</td>\n",
       "      <td>0</td>\n",
       "      <td>1</td>\n",
       "      <td>0</td>\n",
       "      <td>1</td>\n",
       "      <td>0</td>\n",
       "      <td>0</td>\n",
       "      <td>1</td>\n",
       "      <td>0</td>\n",
       "      <td>0</td>\n",
       "    </tr>\n",
       "    <tr>\n",
       "      <th>7</th>\n",
       "      <td>FRMHS-STYL SSG SCRMBL</td>\n",
       "      <td>FARMHOUSE-STYLE SAUSAGE SCRAMBLE</td>\n",
       "      <td>0</td>\n",
       "      <td>3</td>\n",
       "      <td>21</td>\n",
       "      <td>0</td>\n",
       "      <td>1</td>\n",
       "      <td>0</td>\n",
       "      <td>1</td>\n",
       "      <td>1</td>\n",
       "      <td>...</td>\n",
       "      <td>0</td>\n",
       "      <td>0</td>\n",
       "      <td>1</td>\n",
       "      <td>0</td>\n",
       "      <td>0</td>\n",
       "      <td>1</td>\n",
       "      <td>0</td>\n",
       "      <td>1</td>\n",
       "      <td>0</td>\n",
       "      <td>0</td>\n",
       "    </tr>\n",
       "    <tr>\n",
       "      <th>8</th>\n",
       "      <td>PPLS</td>\n",
       "      <td>APPLES</td>\n",
       "      <td>0</td>\n",
       "      <td>1</td>\n",
       "      <td>4</td>\n",
       "      <td>0</td>\n",
       "      <td>0</td>\n",
       "      <td>0</td>\n",
       "      <td>0</td>\n",
       "      <td>0</td>\n",
       "      <td>...</td>\n",
       "      <td>0</td>\n",
       "      <td>0</td>\n",
       "      <td>0</td>\n",
       "      <td>0</td>\n",
       "      <td>1</td>\n",
       "      <td>1</td>\n",
       "      <td>0</td>\n",
       "      <td>1</td>\n",
       "      <td>0</td>\n",
       "      <td>0</td>\n",
       "    </tr>\n",
       "    <tr>\n",
       "      <th>9</th>\n",
       "      <td>TQNS CHS STCKS</td>\n",
       "      <td>TEQUENOS CHEESE STICKS</td>\n",
       "      <td>0</td>\n",
       "      <td>3</td>\n",
       "      <td>14</td>\n",
       "      <td>0</td>\n",
       "      <td>0</td>\n",
       "      <td>0</td>\n",
       "      <td>0</td>\n",
       "      <td>2</td>\n",
       "      <td>...</td>\n",
       "      <td>0</td>\n",
       "      <td>0</td>\n",
       "      <td>0</td>\n",
       "      <td>0</td>\n",
       "      <td>1</td>\n",
       "      <td>0</td>\n",
       "      <td>0</td>\n",
       "      <td>1</td>\n",
       "      <td>0</td>\n",
       "      <td>0</td>\n",
       "    </tr>\n",
       "  </tbody>\n",
       "</table>\n",
       "<p>10 rows × 39 columns</p>\n",
       "</div>"
      ],
      "text/plain": [
       "                              x                                         y  \\\n",
       "0                LGHT NNFT YGRT                       LIGHT NONFAT YOGURT   \n",
       "1               WRHDS CNDY WRMS                      WARHEADS CANDY WORMS   \n",
       "2                  WGMNS MN HRT                        WEGMANS MINI HEART   \n",
       "3       RSN LMND CRNCH T CLSTRS         RAISIN ALMOND CRUNCH OAT CLUSTERS   \n",
       "4  WHT MT CRNBRRY PCN CHCKN SLD  WHITE MEAT CRANBERRY PECAN CHICKEN SALAD   \n",
       "5             PRMM PCH CBBLR MX                 PREMIUM PEACH COBBLER MIX   \n",
       "6   RYL SNCKS RSTD & NSLTD PNTS   ROYAL SNACKS ROASTED & UNSALTED PEANUTS   \n",
       "7         FRMHS-STYL SSG SCRMBL          FARMHOUSE-STYLE SAUSAGE SCRAMBLE   \n",
       "8                          PPLS                                    APPLES   \n",
       "9                TQNS CHS STCKS                    TEQUENOS CHEESE STICKS   \n",
       "\n",
       "   num_vowels  num_words  num_chars  num_digits  num_symbols  num_A  num_B  \\\n",
       "0           0          3         14           0            0      0      0   \n",
       "1           0          3         15           0            0      0      0   \n",
       "2           0          3         12           0            0      0      0   \n",
       "3           0          5         23           0            0      0      0   \n",
       "4           0          6         28           0            0      0      1   \n",
       "5           0          4         17           0            0      0      2   \n",
       "6           0          6         27           0            1      0      0   \n",
       "7           0          3         21           0            1      0      1   \n",
       "8           0          1          4           0            0      0      0   \n",
       "9           0          3         14           0            0      0      0   \n",
       "\n",
       "   num_C  ...  num_W  num_X  num_Y  num_Z  is_plural  has_char_repeat  \\\n",
       "0      0  ...      0      0      1      0          0                1   \n",
       "1      1  ...      2      0      1      0          1                0   \n",
       "2      0  ...      1      0      0      0          0                0   \n",
       "3      3  ...      0      0      0      0          1                0   \n",
       "4      4  ...      1      0      1      0          0                1   \n",
       "5      2  ...      0      1      0      0          0                1   \n",
       "6      1  ...      0      0      1      0          1                0   \n",
       "7      1  ...      0      0      1      0          0                1   \n",
       "8      0  ...      0      0      0      0          1                1   \n",
       "9      2  ...      0      0      0      0          1                0   \n",
       "\n",
       "   has_color  has_brand  has_descriptor  has_unit  \n",
       "0          1          1               0         0  \n",
       "1          0          1               1         0  \n",
       "2          0          1               0         0  \n",
       "3          0          1               0         0  \n",
       "4          0          1               0         0  \n",
       "5          0          1               1         0  \n",
       "6          0          1               0         0  \n",
       "7          0          1               0         0  \n",
       "8          0          1               0         0  \n",
       "9          0          1               0         0  \n",
       "\n",
       "[10 rows x 39 columns]"
      ]
     },
     "execution_count": 166,
     "metadata": {},
     "output_type": "execute_result"
    }
   ],
   "source": [
    "df.head(10)"
   ]
  },
  {
   "cell_type": "code",
   "execution_count": 160,
   "metadata": {},
   "outputs": [
    {
     "data": {
      "text/plain": [
       "39"
      ]
     },
     "execution_count": 160,
     "metadata": {},
     "output_type": "execute_result"
    }
   ],
   "source": [
    "len(df.columns.values)"
   ]
  },
  {
   "cell_type": "code",
   "execution_count": 161,
   "metadata": {},
   "outputs": [
    {
     "data": {
      "text/plain": [
       "700530"
      ]
     },
     "execution_count": 161,
     "metadata": {},
     "output_type": "execute_result"
    }
   ],
   "source": [
    "len(df)"
   ]
  },
  {
   "cell_type": "code",
   "execution_count": 162,
   "metadata": {},
   "outputs": [],
   "source": [
    "df.to_csv(\"featured_df.csv\", index=False, encoding=\"utf-8\")"
   ]
  },
  {
   "cell_type": "code",
   "execution_count": null,
   "metadata": {},
   "outputs": [],
   "source": []
  }
 ],
 "metadata": {
  "kernelspec": {
   "display_name": "Python 3",
   "language": "python",
   "name": "python3"
  },
  "language_info": {
   "codemirror_mode": {
    "name": "ipython",
    "version": 3
   },
   "file_extension": ".py",
   "mimetype": "text/x-python",
   "name": "python",
   "nbconvert_exporter": "python",
   "pygments_lexer": "ipython3",
   "version": "3.7.2"
  }
 },
 "nbformat": 4,
 "nbformat_minor": 2
}
