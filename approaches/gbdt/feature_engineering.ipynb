{
 "cells": [
  {
   "cell_type": "code",
   "execution_count": 1,
   "metadata": {
    "collapsed": true
   },
   "outputs": [],
   "source": [
    "import pandas as pd\n",
    "import numpy\n",
    "import json\n",
    "import string"
   ]
  },
  {
   "cell_type": "code",
   "execution_count": 2,
   "metadata": {
    "collapsed": true
   },
   "outputs": [],
   "source": [
    "path_name = \"../../synthetic_data/data/final_train_labels.json\"\n",
    "with open(path_name) as f:\n",
    "    data = json.load(f)"
   ]
  },
  {
   "cell_type": "code",
   "execution_count": 3,
   "metadata": {
    "collapsed": true
   },
   "outputs": [],
   "source": [
    "y = [item[0] for item in data]\n",
    "x = [item[1] for item in data]"
   ]
  },
  {
   "cell_type": "code",
   "execution_count": 4,
   "metadata": {
    "collapsed": true
   },
   "outputs": [],
   "source": [
    "colors = [\n",
    "\"BG\", \"BEIGE\",\n",
    "\"BK\", \"BLACK\", \"BLCK\", \"BLK\",\n",
    "\"BL\", \"BLUE\", \"BLU\",\n",
    "\"BN\", \"BROWN\", \"BRWN\",\n",
    "\"BZ\", \"BRONZE\", \"BRNZ\",\n",
    "\"CH\", \"CHARCOAL\", \"CHRCL\",\n",
    "\"CL\", \"CLEAR\", \"CLR\",\n",
    "\"DK\", \"DARK\", \"DRK\"\n",
    "\"GD\", \"GOLD\", \"GLD\",\n",
    "\"GN\", \"GREEN\", \"GRN\",\n",
    "\"GY\", \"GRAY\", \"GRY\",\n",
    "\"GT\", \"GRANITE\", \"GRNT\",\n",
    "\"LT\", \"LIGHT\", \"LGHT\",\n",
    "\"OR\", \"ORANGE\", \"ORNG\",\n",
    "\"PK\", \"PINK\", \"PNK\",\n",
    "\"RD\", \"RED\",\n",
    "\"TL\", \"TRANSLUCENT\", \"TRNSLCNT\",\n",
    "\"TN\", \"TAN\",\n",
    "\"TP\", \"TRANSPARENT\", \"TRNSPRNT\",\n",
    "\"VT\", \"VIOLET\", \"VLT\"\n",
    "\"WT\", \"WHITE\", \"WHT\"\n",
    "\"YL\", \"YELLOW\", \"YLLW\", \"YLW\"]"
   ]
  },
  {
   "cell_type": "code",
   "execution_count": 5,
   "metadata": {
    "collapsed": true
   },
   "outputs": [],
   "source": [
    "def num_vowels(x):\n",
    "    num_vowels=0\n",
    "    for char in x:\n",
    "        if char in \"aeiouAEIOU\":\n",
    "            num_vowels += 1\n",
    "    return int(num_vowels)"
   ]
  },
  {
   "cell_type": "code",
   "execution_count": 6,
   "metadata": {
    "collapsed": true
   },
   "outputs": [],
   "source": [
    "def num_words(x):\n",
    "    return int(len(x.split()))"
   ]
  },
  {
   "cell_type": "code",
   "execution_count": 7,
   "metadata": {
    "collapsed": true
   },
   "outputs": [],
   "source": [
    "def num_chars(x):\n",
    "    return int(len(x))"
   ]
  },
  {
   "cell_type": "code",
   "execution_count": 8,
   "metadata": {
    "collapsed": true
   },
   "outputs": [],
   "source": [
    "def num_digits(x):\n",
    "    num_digits=0\n",
    "    for char in x:\n",
    "        if char.isnumeric():\n",
    "            num_digits += 1\n",
    "    return int(num_digits)"
   ]
  },
  {
   "cell_type": "code",
   "execution_count": 9,
   "metadata": {
    "collapsed": true
   },
   "outputs": [],
   "source": [
    "def num_symbols(x):\n",
    "    num_symbols=0\n",
    "    for char in x:\n",
    "        if not char.isnumeric() and not char.isspace() and not char.isalpha():\n",
    "            num_symbols += 1\n",
    "    return int(num_symbols)"
   ]
  },
  {
   "cell_type": "code",
   "execution_count": 10,
   "metadata": {
    "collapsed": true
   },
   "outputs": [],
   "source": [
    "def num_letters(x, letter):\n",
    "    num_letters=0\n",
    "    for char in x:\n",
    "        if char == letter:\n",
    "            num_letters += 1\n",
    "    return int(num_letters)"
   ]
  },
  {
   "cell_type": "code",
   "execution_count": 11,
   "metadata": {
    "collapsed": true
   },
   "outputs": [],
   "source": [
    "def is_plural(x):\n",
    "    if x[len(x) - 1] == 'S':\n",
    "        return 1\n",
    "    return 0"
   ]
  },
  {
   "cell_type": "code",
   "execution_count": 12,
   "metadata": {
    "collapsed": true
   },
   "outputs": [],
   "source": [
    "def has_char_repeat(x):\n",
    "    for i in range(1, len(x) - 1):\n",
    "        if x[i - 1] == x[i]:\n",
    "            return 1\n",
    "    return 0"
   ]
  },
  {
   "cell_type": "code",
   "execution_count": 13,
   "metadata": {
    "collapsed": true
   },
   "outputs": [],
   "source": [
    "def has_color(x):\n",
    "    words = x.split()\n",
    "    for word in words:\n",
    "        if word in colors:\n",
    "            return 1\n",
    "    return 0"
   ]
  },
  {
   "cell_type": "code",
   "execution_count": 14,
   "metadata": {},
   "outputs": [
    {
     "data": {
      "text/html": [
       "<div>\n",
       "<style>\n",
       "    .dataframe thead tr:only-child th {\n",
       "        text-align: right;\n",
       "    }\n",
       "\n",
       "    .dataframe thead th {\n",
       "        text-align: left;\n",
       "    }\n",
       "\n",
       "    .dataframe tbody tr th {\n",
       "        vertical-align: top;\n",
       "    }\n",
       "</style>\n",
       "<table border=\"1\" class=\"dataframe\">\n",
       "  <thead>\n",
       "    <tr style=\"text-align: right;\">\n",
       "      <th></th>\n",
       "      <th>x</th>\n",
       "      <th>y</th>\n",
       "    </tr>\n",
       "  </thead>\n",
       "  <tbody>\n",
       "    <tr>\n",
       "      <th>0</th>\n",
       "      <td>MXCN SHRDDD CHS BLND</td>\n",
       "      <td>MEXICAN SHREDDED CHEESE BLEND</td>\n",
       "    </tr>\n",
       "    <tr>\n",
       "      <th>1</th>\n",
       "      <td>VGTBL SHRTNNG</td>\n",
       "      <td>VEGETABLE SHORTENING</td>\n",
       "    </tr>\n",
       "    <tr>\n",
       "      <th>2</th>\n",
       "      <td>SQD</td>\n",
       "      <td>SQUID</td>\n",
       "    </tr>\n",
       "    <tr>\n",
       "      <th>3</th>\n",
       "      <td>SLCD MNZNLL LVS SLD</td>\n",
       "      <td>SLICED MANZANILLA OLIVES SALAD</td>\n",
       "    </tr>\n",
       "    <tr>\n",
       "      <th>4</th>\n",
       "      <td>PNPPL CHNKS TS WN JC</td>\n",
       "      <td>PINEAPPLE CHUNKS ITS OWN JUICE</td>\n",
       "    </tr>\n",
       "  </tbody>\n",
       "</table>\n",
       "</div>"
      ],
      "text/plain": [
       "                      x                               y\n",
       "0  MXCN SHRDDD CHS BLND   MEXICAN SHREDDED CHEESE BLEND\n",
       "1         VGTBL SHRTNNG            VEGETABLE SHORTENING\n",
       "2                   SQD                           SQUID\n",
       "3   SLCD MNZNLL LVS SLD  SLICED MANZANILLA OLIVES SALAD\n",
       "4  PNPPL CHNKS TS WN JC  PINEAPPLE CHUNKS ITS OWN JUICE"
      ]
     },
     "execution_count": 14,
     "metadata": {},
     "output_type": "execute_result"
    }
   ],
   "source": [
    "df = pd.DataFrame(data={\"x\":x, \"y\":y})\n",
    "df.head()"
   ]
  },
  {
   "cell_type": "code",
   "execution_count": 15,
   "metadata": {
    "collapsed": true
   },
   "outputs": [],
   "source": [
    "df[\"num_vowels\"] = df.apply(lambda row: num_vowels(row.x), axis=1)"
   ]
  },
  {
   "cell_type": "code",
   "execution_count": 16,
   "metadata": {
    "collapsed": true
   },
   "outputs": [],
   "source": [
    "df[\"num_words\"] = df.apply(lambda row: num_words(row.x), axis=1)"
   ]
  },
  {
   "cell_type": "code",
   "execution_count": 17,
   "metadata": {
    "collapsed": true
   },
   "outputs": [],
   "source": [
    "df[\"num_chars\"] = df.apply(lambda row: num_chars(row.x), axis=1)"
   ]
  },
  {
   "cell_type": "code",
   "execution_count": 18,
   "metadata": {
    "collapsed": true
   },
   "outputs": [],
   "source": [
    "df[\"num_digits\"] = df.apply(lambda row: num_digits(row.x), axis=1)"
   ]
  },
  {
   "cell_type": "code",
   "execution_count": 19,
   "metadata": {
    "collapsed": true
   },
   "outputs": [],
   "source": [
    "df[\"num_symbols\"] = df.apply(lambda row: num_symbols(row.x), axis=1)"
   ]
  },
  {
   "cell_type": "code",
   "execution_count": 20,
   "metadata": {},
   "outputs": [
    {
     "name": "stdout",
     "output_type": "stream",
     "text": [
      "Wall time: 3min 2s\n"
     ]
    }
   ],
   "source": [
    "%%time\n",
    "for letter in string.ascii_uppercase:\n",
    "    df[\"num_\" + letter] = df.apply(lambda row: num_letters(row.x, letter), axis=1)"
   ]
  },
  {
   "cell_type": "code",
   "execution_count": 21,
   "metadata": {
    "collapsed": true
   },
   "outputs": [],
   "source": [
    "df[\"is_plural\"] = df.apply(lambda row: is_plural(row.x), axis=1)"
   ]
  },
  {
   "cell_type": "code",
   "execution_count": 22,
   "metadata": {
    "collapsed": true
   },
   "outputs": [],
   "source": [
    "df[\"has_char_repeat\"] = df.apply(lambda row: has_char_repeat(row.x), axis=1)"
   ]
  },
  {
   "cell_type": "code",
   "execution_count": 23,
   "metadata": {
    "collapsed": true
   },
   "outputs": [],
   "source": [
    "df[\"has_color\"] = df.apply(lambda row: has_color(row.x), axis=1)"
   ]
  },
  {
   "cell_type": "code",
   "execution_count": 24,
   "metadata": {},
   "outputs": [
    {
     "data": {
      "text/html": [
       "<div>\n",
       "<style>\n",
       "    .dataframe thead tr:only-child th {\n",
       "        text-align: right;\n",
       "    }\n",
       "\n",
       "    .dataframe thead th {\n",
       "        text-align: left;\n",
       "    }\n",
       "\n",
       "    .dataframe tbody tr th {\n",
       "        vertical-align: top;\n",
       "    }\n",
       "</style>\n",
       "<table border=\"1\" class=\"dataframe\">\n",
       "  <thead>\n",
       "    <tr style=\"text-align: right;\">\n",
       "      <th></th>\n",
       "      <th>x</th>\n",
       "      <th>y</th>\n",
       "      <th>num_vowels</th>\n",
       "      <th>num_words</th>\n",
       "      <th>num_chars</th>\n",
       "      <th>num_digits</th>\n",
       "      <th>num_symbols</th>\n",
       "      <th>num_A</th>\n",
       "      <th>num_B</th>\n",
       "      <th>num_C</th>\n",
       "      <th>...</th>\n",
       "      <th>num_T</th>\n",
       "      <th>num_U</th>\n",
       "      <th>num_V</th>\n",
       "      <th>num_W</th>\n",
       "      <th>num_X</th>\n",
       "      <th>num_Y</th>\n",
       "      <th>num_Z</th>\n",
       "      <th>is_plural</th>\n",
       "      <th>has_char_repeat</th>\n",
       "      <th>has_color</th>\n",
       "    </tr>\n",
       "  </thead>\n",
       "  <tbody>\n",
       "    <tr>\n",
       "      <th>0</th>\n",
       "      <td>MXCN SHRDDD CHS BLND</td>\n",
       "      <td>MEXICAN SHREDDED CHEESE BLEND</td>\n",
       "      <td>0</td>\n",
       "      <td>4</td>\n",
       "      <td>20</td>\n",
       "      <td>0</td>\n",
       "      <td>0</td>\n",
       "      <td>0</td>\n",
       "      <td>1</td>\n",
       "      <td>2</td>\n",
       "      <td>...</td>\n",
       "      <td>0</td>\n",
       "      <td>0</td>\n",
       "      <td>0</td>\n",
       "      <td>0</td>\n",
       "      <td>1</td>\n",
       "      <td>0</td>\n",
       "      <td>0</td>\n",
       "      <td>0</td>\n",
       "      <td>1</td>\n",
       "      <td>0</td>\n",
       "    </tr>\n",
       "    <tr>\n",
       "      <th>1</th>\n",
       "      <td>VGTBL SHRTNNG</td>\n",
       "      <td>VEGETABLE SHORTENING</td>\n",
       "      <td>0</td>\n",
       "      <td>2</td>\n",
       "      <td>13</td>\n",
       "      <td>0</td>\n",
       "      <td>0</td>\n",
       "      <td>0</td>\n",
       "      <td>1</td>\n",
       "      <td>0</td>\n",
       "      <td>...</td>\n",
       "      <td>2</td>\n",
       "      <td>0</td>\n",
       "      <td>1</td>\n",
       "      <td>0</td>\n",
       "      <td>0</td>\n",
       "      <td>0</td>\n",
       "      <td>0</td>\n",
       "      <td>0</td>\n",
       "      <td>1</td>\n",
       "      <td>0</td>\n",
       "    </tr>\n",
       "    <tr>\n",
       "      <th>2</th>\n",
       "      <td>SQD</td>\n",
       "      <td>SQUID</td>\n",
       "      <td>0</td>\n",
       "      <td>1</td>\n",
       "      <td>3</td>\n",
       "      <td>0</td>\n",
       "      <td>0</td>\n",
       "      <td>0</td>\n",
       "      <td>0</td>\n",
       "      <td>0</td>\n",
       "      <td>...</td>\n",
       "      <td>0</td>\n",
       "      <td>0</td>\n",
       "      <td>0</td>\n",
       "      <td>0</td>\n",
       "      <td>0</td>\n",
       "      <td>0</td>\n",
       "      <td>0</td>\n",
       "      <td>0</td>\n",
       "      <td>0</td>\n",
       "      <td>0</td>\n",
       "    </tr>\n",
       "    <tr>\n",
       "      <th>3</th>\n",
       "      <td>SLCD MNZNLL LVS SLD</td>\n",
       "      <td>SLICED MANZANILLA OLIVES SALAD</td>\n",
       "      <td>0</td>\n",
       "      <td>4</td>\n",
       "      <td>19</td>\n",
       "      <td>0</td>\n",
       "      <td>0</td>\n",
       "      <td>0</td>\n",
       "      <td>0</td>\n",
       "      <td>1</td>\n",
       "      <td>...</td>\n",
       "      <td>0</td>\n",
       "      <td>0</td>\n",
       "      <td>1</td>\n",
       "      <td>0</td>\n",
       "      <td>0</td>\n",
       "      <td>0</td>\n",
       "      <td>1</td>\n",
       "      <td>0</td>\n",
       "      <td>1</td>\n",
       "      <td>0</td>\n",
       "    </tr>\n",
       "    <tr>\n",
       "      <th>4</th>\n",
       "      <td>PNPPL CHNKS TS WN JC</td>\n",
       "      <td>PINEAPPLE CHUNKS ITS OWN JUICE</td>\n",
       "      <td>0</td>\n",
       "      <td>5</td>\n",
       "      <td>20</td>\n",
       "      <td>0</td>\n",
       "      <td>0</td>\n",
       "      <td>0</td>\n",
       "      <td>0</td>\n",
       "      <td>2</td>\n",
       "      <td>...</td>\n",
       "      <td>1</td>\n",
       "      <td>0</td>\n",
       "      <td>0</td>\n",
       "      <td>1</td>\n",
       "      <td>0</td>\n",
       "      <td>0</td>\n",
       "      <td>0</td>\n",
       "      <td>0</td>\n",
       "      <td>1</td>\n",
       "      <td>0</td>\n",
       "    </tr>\n",
       "    <tr>\n",
       "      <th>5</th>\n",
       "      <td>TLN STYL MTBLLS</td>\n",
       "      <td>ITALIAN STYLE MEATBALLS</td>\n",
       "      <td>0</td>\n",
       "      <td>3</td>\n",
       "      <td>15</td>\n",
       "      <td>0</td>\n",
       "      <td>0</td>\n",
       "      <td>0</td>\n",
       "      <td>1</td>\n",
       "      <td>0</td>\n",
       "      <td>...</td>\n",
       "      <td>3</td>\n",
       "      <td>0</td>\n",
       "      <td>0</td>\n",
       "      <td>0</td>\n",
       "      <td>0</td>\n",
       "      <td>1</td>\n",
       "      <td>0</td>\n",
       "      <td>1</td>\n",
       "      <td>1</td>\n",
       "      <td>0</td>\n",
       "    </tr>\n",
       "    <tr>\n",
       "      <th>6</th>\n",
       "      <td>YGRT RSNS SNCKS</td>\n",
       "      <td>YOGURT RAISINS SNACKS</td>\n",
       "      <td>0</td>\n",
       "      <td>3</td>\n",
       "      <td>15</td>\n",
       "      <td>0</td>\n",
       "      <td>0</td>\n",
       "      <td>0</td>\n",
       "      <td>0</td>\n",
       "      <td>1</td>\n",
       "      <td>...</td>\n",
       "      <td>1</td>\n",
       "      <td>0</td>\n",
       "      <td>0</td>\n",
       "      <td>0</td>\n",
       "      <td>0</td>\n",
       "      <td>1</td>\n",
       "      <td>0</td>\n",
       "      <td>1</td>\n",
       "      <td>0</td>\n",
       "      <td>0</td>\n",
       "    </tr>\n",
       "    <tr>\n",
       "      <th>7</th>\n",
       "      <td>BJ BLND SSND SWT CRN WTH RD ND GRN PPPR</td>\n",
       "      <td>BAJA BLEND SEASONED SWEET CORN WITH RED AND GR...</td>\n",
       "      <td>0</td>\n",
       "      <td>10</td>\n",
       "      <td>39</td>\n",
       "      <td>0</td>\n",
       "      <td>0</td>\n",
       "      <td>0</td>\n",
       "      <td>2</td>\n",
       "      <td>1</td>\n",
       "      <td>...</td>\n",
       "      <td>2</td>\n",
       "      <td>0</td>\n",
       "      <td>0</td>\n",
       "      <td>2</td>\n",
       "      <td>0</td>\n",
       "      <td>0</td>\n",
       "      <td>0</td>\n",
       "      <td>0</td>\n",
       "      <td>1</td>\n",
       "      <td>1</td>\n",
       "    </tr>\n",
       "    <tr>\n",
       "      <th>8</th>\n",
       "      <td>SWRL CRNCH SWTND WHL WHT ND RC CRL</td>\n",
       "      <td>SWIRL CRUNCH SWEETEND WHOLE WHEAT AND RICE CEREAL</td>\n",
       "      <td>0</td>\n",
       "      <td>8</td>\n",
       "      <td>34</td>\n",
       "      <td>0</td>\n",
       "      <td>0</td>\n",
       "      <td>0</td>\n",
       "      <td>0</td>\n",
       "      <td>4</td>\n",
       "      <td>...</td>\n",
       "      <td>2</td>\n",
       "      <td>0</td>\n",
       "      <td>0</td>\n",
       "      <td>4</td>\n",
       "      <td>0</td>\n",
       "      <td>0</td>\n",
       "      <td>0</td>\n",
       "      <td>0</td>\n",
       "      <td>0</td>\n",
       "      <td>0</td>\n",
       "    </tr>\n",
       "    <tr>\n",
       "      <th>9</th>\n",
       "      <td>PRSCTT CTT WTH HRBS FLLY CKD HM</td>\n",
       "      <td>PROSCIUTTO COTTO WITH HERBS FULLY COOKED HAM</td>\n",
       "      <td>0</td>\n",
       "      <td>7</td>\n",
       "      <td>31</td>\n",
       "      <td>0</td>\n",
       "      <td>0</td>\n",
       "      <td>0</td>\n",
       "      <td>1</td>\n",
       "      <td>3</td>\n",
       "      <td>...</td>\n",
       "      <td>5</td>\n",
       "      <td>0</td>\n",
       "      <td>0</td>\n",
       "      <td>1</td>\n",
       "      <td>0</td>\n",
       "      <td>1</td>\n",
       "      <td>0</td>\n",
       "      <td>0</td>\n",
       "      <td>1</td>\n",
       "      <td>0</td>\n",
       "    </tr>\n",
       "  </tbody>\n",
       "</table>\n",
       "<p>10 rows × 36 columns</p>\n",
       "</div>"
      ],
      "text/plain": [
       "                                         x  \\\n",
       "0                     MXCN SHRDDD CHS BLND   \n",
       "1                            VGTBL SHRTNNG   \n",
       "2                                      SQD   \n",
       "3                      SLCD MNZNLL LVS SLD   \n",
       "4                     PNPPL CHNKS TS WN JC   \n",
       "5                          TLN STYL MTBLLS   \n",
       "6                          YGRT RSNS SNCKS   \n",
       "7  BJ BLND SSND SWT CRN WTH RD ND GRN PPPR   \n",
       "8       SWRL CRNCH SWTND WHL WHT ND RC CRL   \n",
       "9          PRSCTT CTT WTH HRBS FLLY CKD HM   \n",
       "\n",
       "                                                   y  num_vowels  num_words  \\\n",
       "0                      MEXICAN SHREDDED CHEESE BLEND           0          4   \n",
       "1                               VEGETABLE SHORTENING           0          2   \n",
       "2                                              SQUID           0          1   \n",
       "3                     SLICED MANZANILLA OLIVES SALAD           0          4   \n",
       "4                     PINEAPPLE CHUNKS ITS OWN JUICE           0          5   \n",
       "5                            ITALIAN STYLE MEATBALLS           0          3   \n",
       "6                              YOGURT RAISINS SNACKS           0          3   \n",
       "7  BAJA BLEND SEASONED SWEET CORN WITH RED AND GR...           0         10   \n",
       "8  SWIRL CRUNCH SWEETEND WHOLE WHEAT AND RICE CEREAL           0          8   \n",
       "9       PROSCIUTTO COTTO WITH HERBS FULLY COOKED HAM           0          7   \n",
       "\n",
       "   num_chars  num_digits  num_symbols  num_A  num_B  num_C    ...      num_T  \\\n",
       "0         20           0            0      0      1      2    ...          0   \n",
       "1         13           0            0      0      1      0    ...          2   \n",
       "2          3           0            0      0      0      0    ...          0   \n",
       "3         19           0            0      0      0      1    ...          0   \n",
       "4         20           0            0      0      0      2    ...          1   \n",
       "5         15           0            0      0      1      0    ...          3   \n",
       "6         15           0            0      0      0      1    ...          1   \n",
       "7         39           0            0      0      2      1    ...          2   \n",
       "8         34           0            0      0      0      4    ...          2   \n",
       "9         31           0            0      0      1      3    ...          5   \n",
       "\n",
       "   num_U  num_V  num_W  num_X  num_Y  num_Z  is_plural  has_char_repeat  \\\n",
       "0      0      0      0      1      0      0          0                1   \n",
       "1      0      1      0      0      0      0          0                1   \n",
       "2      0      0      0      0      0      0          0                0   \n",
       "3      0      1      0      0      0      1          0                1   \n",
       "4      0      0      1      0      0      0          0                1   \n",
       "5      0      0      0      0      1      0          1                1   \n",
       "6      0      0      0      0      1      0          1                0   \n",
       "7      0      0      2      0      0      0          0                1   \n",
       "8      0      0      4      0      0      0          0                0   \n",
       "9      0      0      1      0      1      0          0                1   \n",
       "\n",
       "   has_color  \n",
       "0          0  \n",
       "1          0  \n",
       "2          0  \n",
       "3          0  \n",
       "4          0  \n",
       "5          0  \n",
       "6          0  \n",
       "7          1  \n",
       "8          0  \n",
       "9          0  \n",
       "\n",
       "[10 rows x 36 columns]"
      ]
     },
     "execution_count": 24,
     "metadata": {},
     "output_type": "execute_result"
    }
   ],
   "source": [
    "df.head(10)"
   ]
  },
  {
   "cell_type": "code",
   "execution_count": 25,
   "metadata": {},
   "outputs": [
    {
     "data": {
      "text/plain": [
       "36"
      ]
     },
     "execution_count": 25,
     "metadata": {},
     "output_type": "execute_result"
    }
   ],
   "source": [
    "len(df.columns.values)"
   ]
  },
  {
   "cell_type": "code",
   "execution_count": 26,
   "metadata": {},
   "outputs": [
    {
     "data": {
      "text/plain": [
       "528610"
      ]
     },
     "execution_count": 26,
     "metadata": {},
     "output_type": "execute_result"
    }
   ],
   "source": [
    "len(df)"
   ]
  },
  {
   "cell_type": "code",
   "execution_count": 31,
   "metadata": {
    "collapsed": true
   },
   "outputs": [],
   "source": [
    "df.to_csv(\"featured_df.csv\", index=False, encoding=\"utf-8\")"
   ]
  },
  {
   "cell_type": "code",
   "execution_count": null,
   "metadata": {
    "collapsed": true
   },
   "outputs": [],
   "source": []
  }
 ],
 "metadata": {
  "kernelspec": {
   "display_name": "Python 3",
   "language": "python",
   "name": "python3"
  },
  "language_info": {
   "codemirror_mode": {
    "name": "ipython",
    "version": 3
   },
   "file_extension": ".py",
   "mimetype": "text/x-python",
   "name": "python",
   "nbconvert_exporter": "python",
   "pygments_lexer": "ipython3",
   "version": "3.5.4"
  }
 },
 "nbformat": 4,
 "nbformat_minor": 2
}
