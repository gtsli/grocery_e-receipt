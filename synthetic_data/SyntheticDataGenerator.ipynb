{
 "cells": [
  {
   "cell_type": "code",
   "execution_count": 19,
   "metadata": {},
   "outputs": [],
   "source": [
    "import json"
   ]
  },
  {
   "cell_type": "code",
   "execution_count": 20,
   "metadata": {},
   "outputs": [
    {
     "name": "stdout",
     "output_type": "stream",
     "text": [
      "111669\n"
     ]
    }
   ],
   "source": [
    "#### Process data to just take first three characters of every word for a given product item\n",
    "with open('cleaned_data.json') as json_file:  \n",
    "    data = json.load(json_file)\n",
    "    three_letter_shortening = []\n",
    "    for full_title in data:\n",
    "        full_title = full_title.upper()\n",
    "        full_title = full_title.split()\n",
    "        shortened_name = []\n",
    "        for token in full_title:\n",
    "            if len(token)>3:\n",
    "                shortened_name.append(token[:3])\n",
    "            else:\n",
    "                shortened_name.append(token)\n",
    "        three_letter_shortening.append(' '.join(shortened_name))\n",
    "    print(len(three_letter_shortening))"
   ]
  },
  {
   "cell_type": "code",
   "execution_count": null,
   "metadata": {},
   "outputs": [],
   "source": []
  }
 ],
 "metadata": {
  "kernelspec": {
   "display_name": "Python 3",
   "language": "python",
   "name": "python3"
  },
  "language_info": {
   "codemirror_mode": {
    "name": "ipython",
    "version": 3
   },
   "file_extension": ".py",
   "mimetype": "text/x-python",
   "name": "python",
   "nbconvert_exporter": "python",
   "pygments_lexer": "ipython3",
   "version": "3.6.8"
  }
 },
 "nbformat": 4,
 "nbformat_minor": 2
}
