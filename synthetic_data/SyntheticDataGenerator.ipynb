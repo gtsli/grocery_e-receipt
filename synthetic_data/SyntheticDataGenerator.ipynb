{
 "cells": [
  {
   "cell_type": "code",
   "execution_count": 3,
   "metadata": {
    "collapsed": true
   },
   "outputs": [],
   "source": [
    "import json"
   ]
  },
  {
   "cell_type": "code",
   "execution_count": 4,
   "metadata": {
    "collapsed": true
   },
   "outputs": [],
   "source": [
    "## create list of synthetic data, where each item is a tuple like (full_title, shortened name)\n",
    "syn_data = []"
   ]
  },
  {
   "cell_type": "code",
   "execution_count": 6,
   "metadata": {},
   "outputs": [
    {
     "name": "stderr",
     "output_type": "stream",
     "text": [
      "IOPub data rate exceeded.\n",
      "The notebook server will temporarily stop sending output\n",
      "to the client in order to avoid crashing it.\n",
      "To change this limit, set the config variable\n",
      "`--NotebookApp.iopub_data_rate_limit`.\n",
      "\n",
      "Current values:\n",
      "NotebookApp.iopub_data_rate_limit=1000000.0 (bytes/sec)\n",
      "NotebookApp.rate_limit_window=3.0 (secs)\n",
      "\n"
     ]
    }
   ],
   "source": [
    "#### Process data to just take first three characters of every word for a given product item\n",
    "with open('cleaned_data.json') as json_file:  \n",
    "    data = json.load(json_file)\n",
    "    three_letter_shortening = []\n",
    "    for full_title in data:\n",
    "        full_title = full_title.upper()\n",
    "        full_title = full_title.split()\n",
    "        shortened_name = []\n",
    "        for token in full_title:\n",
    "            if len(token)>3:\n",
    "                shortened_name.append(token[:3])\n",
    "            else:\n",
    "                shortened_name.append(token)\n",
    "        three_letter_shortening.append(' '.join(shortened_name))\n",
    "        syn_data.append((full_title, shortened_name))\n",
    "    print(len(three_letter_shortening))"
   ]
  },
  {
   "cell_type": "code",
   "execution_count": 8,
   "metadata": {},
   "outputs": [
    {
     "name": "stdout",
     "output_type": "stream",
     "text": [
      "111669\n"
     ]
    }
   ],
   "source": [
    "#### Process data to take first and last characters of every word for a given product item\n",
    "with open('cleaned_data.json') as json_file:  \n",
    "    data = json.load(json_file)\n",
    "    shorten = []\n",
    "    for full_title in data:\n",
    "        full_title = full_title.upper()\n",
    "        full_title = full_title.split()\n",
    "        shortened_name = []\n",
    "        for token in full_title:\n",
    "            if len(token)>2:\n",
    "                shortened_name.append(token[0] + token[-1])\n",
    "                #shortened_name.append(token[-1])\n",
    "            else:\n",
    "                shortened_name.append(token)\n",
    "        shorten.append(' '.join(shortened_name))\n",
    "#         print(full_title) \n",
    "#         print(shortened_name)\n",
    "    print(len(shorten))\n"
   ]
  },
  {
   "cell_type": "code",
   "execution_count": 12,
   "metadata": {},
   "outputs": [
    {
     "name": "stdout",
     "output_type": "stream",
     "text": [
      "111669\n"
     ]
    }
   ],
   "source": [
    "#### Process data to keep the first three consonants of every word for a given product item\n",
    "with open('cleaned_data.json') as json_file:  \n",
    "    data = json.load(json_file)\n",
    "    shorten = []\n",
    "    for full_title in data:\n",
    "        full_title = full_title.upper()\n",
    "        full_title = full_title.split()\n",
    "        shortened_name = []\n",
    "        for token in full_title:\n",
    "            table = str.maketrans(dict.fromkeys('AEIOU'))\n",
    "            token = token.translate(table)\n",
    "            if len(token)>3:\n",
    "                shortened_name.append(token[:3])\n",
    "            else:\n",
    "                shortened_name.append(token)\n",
    "        shorten.append(' '.join(shortened_name))\n",
    "#         print(full_title) \n",
    "#         print(shortened_name)\n",
    "    print(len(shorten))"
   ]
  },
  {
   "cell_type": "code",
   "execution_count": 13,
   "metadata": {},
   "outputs": [
    {
     "name": "stdout",
     "output_type": "stream",
     "text": [
      "111669\n"
     ]
    }
   ],
   "source": [
    "#### Process data to keep the first two and last consonants of every word for a given product item\n",
    "with open('cleaned_data.json') as json_file:  \n",
    "    data = json.load(json_file)\n",
    "    shorten = []\n",
    "    for full_title in data:\n",
    "        full_title = full_title.upper()\n",
    "        full_title = full_title.split()\n",
    "        shortened_name = []\n",
    "        for token in full_title:\n",
    "            table = str.maketrans(dict.fromkeys('AEIOU'))\n",
    "            token = token.translate(table)\n",
    "            if len(token)>3:\n",
    "                shortened_name.append(token[:2] + token[-1])\n",
    "            else:\n",
    "                shortened_name.append(token)\n",
    "        shorten.append(' '.join(shortened_name))\n",
    "#         print(full_title) \n",
    "#         print(shortened_name)\n",
    "    print(len(shorten))"
   ]
  },
  {
   "cell_type": "code",
   "execution_count": null,
   "metadata": {
    "collapsed": true
   },
   "outputs": [],
   "source": []
  }
 ],
 "metadata": {
  "kernelspec": {
   "display_name": "Python 3",
   "language": "python",
   "name": "python3"
  },
  "language_info": {
   "codemirror_mode": {
    "name": "ipython",
    "version": 3
   },
   "file_extension": ".py",
   "mimetype": "text/x-python",
   "name": "python",
   "nbconvert_exporter": "python",
   "pygments_lexer": "ipython3",
   "version": "3.6.3"
  }
 },
 "nbformat": 4,
 "nbformat_minor": 2
}
