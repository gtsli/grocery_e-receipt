{
 "cells": [
  {
   "cell_type": "code",
   "execution_count": 106,
   "metadata": {},
   "outputs": [],
   "source": [
    "import json"
   ]
  },
  {
   "cell_type": "markdown",
   "metadata": {},
   "source": [
    "## Create list of synthetic data, where each item is a tuple like (full_title, shortened name)\n"
   ]
  },
  {
   "cell_type": "code",
   "execution_count": 107,
   "metadata": {},
   "outputs": [],
   "source": [
    "#### Process data to just take first three characters of every word for a given product item\n",
    "def first_chars_rule():\n",
    "    with open('cleaned_data.json') as json_file:  \n",
    "        data = json.load(json_file)\n",
    "        three_letter_shortening = []\n",
    "        for full_title in data:\n",
    "            full_title = full_title.upper()\n",
    "            full_title = full_title.split()\n",
    "            shortened_name = []\n",
    "            for token in full_title:\n",
    "                if len(token)>3:\n",
    "                    shortened_name.append(token[:3])\n",
    "                else:\n",
    "                    shortened_name.append(token)\n",
    "            three_letter_shortening.append(' '.join(shortened_name))\n",
    "\n",
    "    ret_list = []\n",
    "    for i, title in enumerate(data):\n",
    "        ret_list.append((title, three_letter_shortening[i]))\n",
    "    return ret_list"
   ]
  },
  {
   "cell_type": "code",
   "execution_count": 108,
   "metadata": {},
   "outputs": [],
   "source": [
    "#### Process data to take first and last characters of every word for a given product item\n",
    "def first_last_char_rule():\n",
    "    with open('cleaned_data.json') as json_file:  \n",
    "        data = json.load(json_file)\n",
    "        shorten = []\n",
    "        for full_title in data:\n",
    "            full_title = full_title.upper()\n",
    "            full_title = full_title.split()\n",
    "            shortened_name = []\n",
    "            for token in full_title:\n",
    "                if len(token)>2:\n",
    "                    shortened_name.append(token[0] + token[-1])\n",
    "                else:\n",
    "                    shortened_name.append(token)\n",
    "            shorten.append(' '.join(shortened_name))\n",
    "\n",
    "    ret_list = []\n",
    "    for i, title in enumerate(data):\n",
    "        ret_list.append((title, shorten[i]))\n",
    "    return ret_list"
   ]
  },
  {
   "cell_type": "code",
   "execution_count": 109,
   "metadata": {},
   "outputs": [],
   "source": [
    "#### Process data to keep the first three consonants of every word for a given product item\n",
    "def first_consonants():\n",
    "    with open('cleaned_data.json') as json_file:  \n",
    "        data = json.load(json_file)\n",
    "        shorten = []\n",
    "        for full_title in data:\n",
    "            full_title = full_title.upper()\n",
    "            full_title = full_title.split()\n",
    "            shortened_name = []\n",
    "            for token in full_title:\n",
    "                table = str.maketrans(dict.fromkeys('AEIOU'))\n",
    "                token = token.translate(table)\n",
    "                if len(token)>3:\n",
    "                    shortened_name.append(token[:3])\n",
    "                else:\n",
    "                    shortened_name.append(token)\n",
    "            shorten.append(' '.join(shortened_name))\n",
    "\n",
    "    ret_list = []\n",
    "    for i, title in enumerate(data):\n",
    "        ret_list.append((title, shorten[i]))\n",
    "    return ret_list"
   ]
  },
  {
   "cell_type": "code",
   "execution_count": 110,
   "metadata": {},
   "outputs": [],
   "source": [
    "#### Process data to keep the first two and last consonants of every word for a given product item\n",
    "def first_last_consonants():\n",
    "    with open('cleaned_data.json') as json_file:  \n",
    "        data = json.load(json_file)\n",
    "        shorten = []\n",
    "        for full_title in data:\n",
    "            full_title = full_title.upper()\n",
    "            full_title = full_title.split()\n",
    "            shortened_name = []\n",
    "            for token in full_title:\n",
    "                table = str.maketrans(dict.fromkeys('AEIOU'))\n",
    "                token = token.translate(table)\n",
    "                if len(token)>3:\n",
    "                    shortened_name.append(token[:2] + token[-1])\n",
    "                else:\n",
    "                    shortened_name.append(token)\n",
    "            shorten.append(' '.join(shortened_name))\n",
    "    ret_list = []\n",
    "    for i, title in enumerate(data):\n",
    "        ret_list.append((title, shorten[i]))\n",
    "    return ret_list\n"
   ]
  },
  {
   "cell_type": "code",
   "execution_count": 111,
   "metadata": {},
   "outputs": [],
   "source": [
    "#### Process data to get first letter of each word in brand\n",
    "def brand_first_letters():\n",
    "    with open('cleaned_branded_data.json') as json_file:\n",
    "        data = json.load(json_file)\n",
    "        mapped_data = []\n",
    "        for full_title in data:\n",
    "            try:\n",
    "                orig_title = full_title\n",
    "                full_title = full_title.upper()\n",
    "                full_title = full_title.split(\",\")\n",
    "                name = \"\"\n",
    "                if len(full_title) == 2:\n",
    "                    brand = full_title[0].split(\" \")\n",
    "                    if len(brand) > 1:\n",
    "                        for eachWord in brand:\n",
    "                            name+=str(eachWord[0])\n",
    "                        name+=str(full_title[1])\n",
    "                    else:\n",
    "                        name=str(full_title[0])+str(full_title[1])\n",
    "                else:\n",
    "                    name=str(full_title[0])\n",
    "                mapped_data.append((orig_title.replace(\",\", \"\"), name.replace(\",\", \"\")))\n",
    "            except:\n",
    "                pass\n",
    "    return mapped_data "
   ]
  },
  {
   "cell_type": "code",
   "execution_count": 112,
   "metadata": {},
   "outputs": [],
   "source": [
    "#### Process data to remove all vowels\n",
    "def remove_vowels():\n",
    "    with open('cleaned_data.json') as json_file:\n",
    "        data = json.load(json_file)\n",
    "        shorten = []\n",
    "        for full_title in data:\n",
    "            full_title = full_title.upper()\n",
    "            full_title = full_title.split()\n",
    "            shortened_name = []\n",
    "            vowels = ['A', 'I', 'O', 'U', 'E']\n",
    "            full_name = \"\"\n",
    "            for token in full_title:\n",
    "                shortened_word = \"\"\n",
    "                for character in token:\n",
    "                    full_name += character\n",
    "                    if character not in vowels:\n",
    "                        shortened_word += character\n",
    "                shortened_name.append(shortened_word)\n",
    "            shorten.append(\" \".join(shortened_name))\n",
    "    ret_list = []\n",
    "    for i, title in enumerate(data):\n",
    "        ret_list.append((title, shorten[i]))\n",
    "    return ret_list"
   ]
  },
  {
   "cell_type": "markdown",
   "metadata": {},
   "source": [
    "# Generate Finalized Data"
   ]
  },
  {
   "cell_type": "code",
   "execution_count": 113,
   "metadata": {},
   "outputs": [
    {
     "name": "stdout",
     "output_type": "stream",
     "text": [
      "112665\n",
      "252920\n",
      "365585\n",
      "478250\n",
      "590915\n",
      "703580\n"
     ]
    }
   ],
   "source": [
    "final_data = []\n",
    "final_data+=remove_vowels()\n",
    "print (len(final_data))\n",
    "final_data+=brand_first_letters()\n",
    "print (len(final_data))\n",
    "final_data+=first_last_consonants()\n",
    "print (len(final_data))\n",
    "final_data+=first_consonants()\n",
    "print (len(final_data))\n",
    "final_data+=first_last_char_rule()\n",
    "print (len(final_data))\n",
    "final_data+=first_chars_rule()\n",
    "print (len(final_data))"
   ]
  },
  {
   "cell_type": "code",
   "execution_count": 114,
   "metadata": {},
   "outputs": [],
   "source": [
    "with open('final_train_labels.json', 'w') as outfile:\n",
    "    json.dump(final_data, outfile)"
   ]
  },
  {
   "cell_type": "code",
   "execution_count": null,
   "metadata": {},
   "outputs": [],
   "source": []
  }
 ],
 "metadata": {
  "kernelspec": {
   "display_name": "Python 3",
   "language": "python",
   "name": "python3"
  },
  "language_info": {
   "codemirror_mode": {
    "name": "ipython",
    "version": 3
   },
   "file_extension": ".py",
   "mimetype": "text/x-python",
   "name": "python",
   "nbconvert_exporter": "python",
   "pygments_lexer": "ipython3",
   "version": "3.6.7"
  }
 },
 "nbformat": 4,
 "nbformat_minor": 2
}
