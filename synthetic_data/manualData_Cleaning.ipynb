{
 "cells": [
  {
   "cell_type": "code",
   "execution_count": 1,
   "metadata": {},
   "outputs": [],
   "source": [
    "import pandas as pd\n",
    "import numpy as np\n",
    "import matplotlib.pyplot as plt\n",
    "import math"
   ]
  },
  {
   "cell_type": "markdown",
   "metadata": {},
   "source": [
    "# EDA"
   ]
  },
  {
   "cell_type": "code",
   "execution_count": 2,
   "metadata": {},
   "outputs": [
    {
     "data": {
      "text/html": [
       "<div>\n",
       "<style scoped>\n",
       "    .dataframe tbody tr th:only-of-type {\n",
       "        vertical-align: middle;\n",
       "    }\n",
       "\n",
       "    .dataframe tbody tr th {\n",
       "        vertical-align: top;\n",
       "    }\n",
       "\n",
       "    .dataframe thead th {\n",
       "        text-align: right;\n",
       "    }\n",
       "</style>\n",
       "<table border=\"1\" class=\"dataframe\">\n",
       "  <thead>\n",
       "    <tr style=\"text-align: right;\">\n",
       "      <th></th>\n",
       "      <th>reciept name</th>\n",
       "      <th>full product title</th>\n",
       "      <th>general product title</th>\n",
       "      <th>store</th>\n",
       "      <th>database</th>\n",
       "    </tr>\n",
       "  </thead>\n",
       "  <tbody>\n",
       "    <tr>\n",
       "      <th>0</th>\n",
       "      <td>ORGANIC GALA APPLE</td>\n",
       "      <td>Organic gala apples</td>\n",
       "      <td>Apples</td>\n",
       "      <td>Publix</td>\n",
       "      <td>Organic gala apples</td>\n",
       "    </tr>\n",
       "    <tr>\n",
       "      <th>1</th>\n",
       "      <td>ACT STRWBY/BLUEBRY</td>\n",
       "      <td>Activia Probiotic Yogurt</td>\n",
       "      <td>Yogurt</td>\n",
       "      <td>Publix</td>\n",
       "      <td>DANNON ACTIVIA FIBER PROBIOTIC LOWFAT YOGURT ...</td>\n",
       "    </tr>\n",
       "    <tr>\n",
       "      <th>2</th>\n",
       "      <td>OREO THINS PISTACH</td>\n",
       "      <td>Oreo Thins Pistachio</td>\n",
       "      <td>Oreos</td>\n",
       "      <td>Publix</td>\n",
       "      <td>OREO THINS COOKIES PISTACHIO 1X10.1 OZ</td>\n",
       "    </tr>\n",
       "    <tr>\n",
       "      <th>3</th>\n",
       "      <td>OG GW BABY SPINACH</td>\n",
       "      <td>Organic baby spinach</td>\n",
       "      <td>Spinach</td>\n",
       "      <td>Publix</td>\n",
       "      <td>ORGANIC BABY SPINACH</td>\n",
       "    </tr>\n",
       "    <tr>\n",
       "      <th>4</th>\n",
       "      <td>PAPAYA MARADOL</td>\n",
       "      <td>Papaya</td>\n",
       "      <td>Papaya</td>\n",
       "      <td>Publix</td>\n",
       "      <td>PAPAYA CHUNKS</td>\n",
       "    </tr>\n",
       "  </tbody>\n",
       "</table>\n",
       "</div>"
      ],
      "text/plain": [
       "          reciept name          full product title general product title  \\\n",
       "0  ORGANIC GALA APPLE         Organic gala apples                Apples    \n",
       "1  ACT STRWBY/BLUEBRY    Activia Probiotic Yogurt                Yogurt    \n",
       "2  OREO THINS PISTACH        Oreo Thins Pistachio                 Oreos    \n",
       "3  OG GW BABY SPINACH        Organic baby spinach               Spinach    \n",
       "4      PAPAYA MARADOL                      Papaya                Papaya    \n",
       "\n",
       "     store                                            database  \n",
       "0   Publix                                 Organic gala apples  \n",
       "1   Publix    DANNON ACTIVIA FIBER PROBIOTIC LOWFAT YOGURT ...  \n",
       "2   Publix              OREO THINS COOKIES PISTACHIO 1X10.1 OZ  \n",
       "3   Publix                                ORGANIC BABY SPINACH  \n",
       "4   Publix                                       PAPAYA CHUNKS  "
      ]
     },
     "execution_count": 2,
     "metadata": {},
     "output_type": "execute_result"
    }
   ],
   "source": [
    "data = pd.read_csv('ReceiptDataManual.csv') ##read csv as a dataframe\n",
    "fullData = data.copy()\n",
    "data.head() ## show the top 5"
   ]
  },
  {
   "cell_type": "code",
   "execution_count": 3,
   "metadata": {},
   "outputs": [
    {
     "data": {
      "text/plain": [
       "448"
      ]
     },
     "execution_count": 3,
     "metadata": {},
     "output_type": "execute_result"
    }
   ],
   "source": [
    "titles = data.database.tolist() ## get the long_name column into a list\n",
    "len(titles) ## print the length"
   ]
  },
  {
   "cell_type": "code",
   "execution_count": 4,
   "metadata": {},
   "outputs": [
    {
     "data": {
      "text/plain": [
       "['Organic gala apples',\n",
       " 'DANNON ACTIVIA FIBER PROBIOTIC LOWFAT YOGURT STRAWBERRY',\n",
       " 'OREO THINS COOKIES PISTACHIO 1X10.1 OZ',\n",
       " 'ORGANIC BABY SPINACH',\n",
       " 'PAPAYA CHUNKS',\n",
       " 'ORGANIC FUJI APPLES',\n",
       " 'SABRA CLASSIC HUMMUS',\n",
       " 'BABY CUT CARROTS',\n",
       " 'MOCHI ICE CREAM',\n",
       " 'CHICKEN BREAST']"
      ]
     },
     "execution_count": 4,
     "metadata": {},
     "output_type": "execute_result"
    }
   ],
   "source": [
    "for index in range(len(titles)):\n",
    "    if not (pd.isnull(titles[index])):\n",
    "        titles[index] = titles[index].lstrip()\n",
    "    else:\n",
    "        titles[index] = ''\n",
    "\n",
    "titles[:10] ##display what titles looks like"
   ]
  },
  {
   "cell_type": "code",
   "execution_count": 5,
   "metadata": {},
   "outputs": [],
   "source": [
    "possible_brands = [x.split(\",\")[0] for x in titles if len(x.split(\",\")) > 1] ## what is the 0th index for items with commas"
   ]
  },
  {
   "cell_type": "code",
   "execution_count": 6,
   "metadata": {},
   "outputs": [
    {
     "data": {
      "text/plain": [
       "['LINDT',\n",
       " \"GT'S\",\n",
       " 'LACROIX',\n",
       " 'LACROIX',\n",
       " 'Coca-Cola Zero Sugar Bottle',\n",
       " 'Sprite Bottle',\n",
       " 'Coca-Cola Cherry Bottles',\n",
       " \"CARROLL SHELBY'S\",\n",
       " 'RED BARRON',\n",
       " 'TERANA',\n",
       " 'KROGER',\n",
       " 'BARCEL',\n",
       " 'WEIS',\n",
       " 'PACE',\n",
       " 'PUBLIX',\n",
       " 'KIND HEALTHY GRAINS',\n",
       " 'HIDDEN VALLEY',\n",
       " 'NESTLE']"
      ]
     },
     "execution_count": 6,
     "metadata": {},
     "output_type": "execute_result"
    }
   ],
   "source": [
    "possible_brands[:]"
   ]
  },
  {
   "cell_type": "code",
   "execution_count": 7,
   "metadata": {},
   "outputs": [
    {
     "data": {
      "text/plain": [
       "18"
      ]
     },
     "execution_count": 7,
     "metadata": {},
     "output_type": "execute_result"
    }
   ],
   "source": [
    "len(possible_brands)"
   ]
  },
  {
   "cell_type": "code",
   "execution_count": 8,
   "metadata": {},
   "outputs": [
    {
     "data": {
      "text/plain": [
       "Counter({'LINDT': 1,\n",
       "         \"GT'S\": 1,\n",
       "         'LACROIX': 2,\n",
       "         'Coca-Cola Zero Sugar Bottle': 1,\n",
       "         'Sprite Bottle': 1,\n",
       "         'Coca-Cola Cherry Bottles': 1,\n",
       "         \"CARROLL SHELBY'S\": 1,\n",
       "         'RED BARRON': 1,\n",
       "         'TERANA': 1,\n",
       "         'KROGER': 1,\n",
       "         'BARCEL': 1,\n",
       "         'WEIS': 1,\n",
       "         'PACE': 1,\n",
       "         'PUBLIX': 1,\n",
       "         'KIND HEALTHY GRAINS': 1,\n",
       "         'HIDDEN VALLEY': 1,\n",
       "         'NESTLE': 1})"
      ]
     },
     "execution_count": 8,
     "metadata": {},
     "output_type": "execute_result"
    }
   ],
   "source": [
    "from collections import Counter \n",
    "z = Counter(possible_brands)\n",
    "z"
   ]
  },
  {
   "cell_type": "code",
   "execution_count": 9,
   "metadata": {},
   "outputs": [
    {
     "data": {
      "text/plain": [
       "'\\nRULES:\\n- The first index seems to be brand for the most part (few exceptions)\\n- When there are 3 items, the second index is the main product with the 3rd index being a descriptor/flavor/type\\n- When there are 4 items (only ~4k examples), there no longer seems to be a distinct pattern other than the last index \\nis still the descriptor. REMOVE THESE.\\n'"
      ]
     },
     "execution_count": 9,
     "metadata": {},
     "output_type": "execute_result"
    }
   ],
   "source": [
    "'''\n",
    "RULES:\n",
    "- The first index seems to be brand for the most part (few exceptions)\n",
    "- When there are 3 items, the second index is the main product with the 3rd index being a descriptor/flavor/type\n",
    "- When there are 4 items (only ~4k examples), there no longer seems to be a distinct pattern other than the last index \n",
    "is still the descriptor. REMOVE THESE.\n",
    "'''"
   ]
  },
  {
   "cell_type": "markdown",
   "metadata": {},
   "source": [
    "# Data Cleaning"
   ]
  },
  {
   "cell_type": "code",
   "execution_count": 10,
   "metadata": {},
   "outputs": [],
   "source": [
    "DROP_COLS = [\n",
    "    'reciept name',\n",
    "    'full product title',\n",
    "    'general product title',\n",
    "    'store '\n",
    "]\n",
    "data = data.drop(DROP_COLS, axis=1)"
   ]
  },
  {
   "cell_type": "code",
   "execution_count": 11,
   "metadata": {},
   "outputs": [
    {
     "data": {
      "text/html": [
       "<div>\n",
       "<style scoped>\n",
       "    .dataframe tbody tr th:only-of-type {\n",
       "        vertical-align: middle;\n",
       "    }\n",
       "\n",
       "    .dataframe tbody tr th {\n",
       "        vertical-align: top;\n",
       "    }\n",
       "\n",
       "    .dataframe thead th {\n",
       "        text-align: right;\n",
       "    }\n",
       "</style>\n",
       "<table border=\"1\" class=\"dataframe\">\n",
       "  <thead>\n",
       "    <tr style=\"text-align: right;\">\n",
       "      <th></th>\n",
       "      <th>database</th>\n",
       "    </tr>\n",
       "  </thead>\n",
       "  <tbody>\n",
       "    <tr>\n",
       "      <th>0</th>\n",
       "      <td>Organic gala apples</td>\n",
       "    </tr>\n",
       "    <tr>\n",
       "      <th>1</th>\n",
       "      <td>DANNON ACTIVIA FIBER PROBIOTIC LOWFAT YOGURT ...</td>\n",
       "    </tr>\n",
       "    <tr>\n",
       "      <th>2</th>\n",
       "      <td>OREO THINS COOKIES PISTACHIO 1X10.1 OZ</td>\n",
       "    </tr>\n",
       "    <tr>\n",
       "      <th>3</th>\n",
       "      <td>ORGANIC BABY SPINACH</td>\n",
       "    </tr>\n",
       "    <tr>\n",
       "      <th>4</th>\n",
       "      <td>PAPAYA CHUNKS</td>\n",
       "    </tr>\n",
       "  </tbody>\n",
       "</table>\n",
       "</div>"
      ],
      "text/plain": [
       "                                            database\n",
       "0                                Organic gala apples\n",
       "1   DANNON ACTIVIA FIBER PROBIOTIC LOWFAT YOGURT ...\n",
       "2             OREO THINS COOKIES PISTACHIO 1X10.1 OZ\n",
       "3                               ORGANIC BABY SPINACH\n",
       "4                                      PAPAYA CHUNKS"
      ]
     },
     "execution_count": 11,
     "metadata": {},
     "output_type": "execute_result"
    }
   ],
   "source": [
    "data.head()"
   ]
  },
  {
   "cell_type": "code",
   "execution_count": 12,
   "metadata": {
    "scrolled": false
   },
   "outputs": [],
   "source": [
    "for index in range(len(data.database)):\n",
    "    if not (pd.isnull(data.database[index])):\n",
    "        data.database[index] = data.database[index].lstrip()\n",
    "    else:\n",
    "        data.database[index] = ''"
   ]
  },
  {
   "cell_type": "code",
   "execution_count": 13,
   "metadata": {},
   "outputs": [],
   "source": [
    "data['num_commas'] = data.apply(lambda x: len(x.database.split(\",\")), axis=1)"
   ]
  },
  {
   "cell_type": "code",
   "execution_count": 14,
   "metadata": {},
   "outputs": [
    {
     "data": {
      "text/plain": [
       "448"
      ]
     },
     "execution_count": 14,
     "metadata": {},
     "output_type": "execute_result"
    }
   ],
   "source": [
    "len(data)"
   ]
  },
  {
   "cell_type": "code",
   "execution_count": 19,
   "metadata": {},
   "outputs": [
    {
     "name": "stderr",
     "output_type": "stream",
     "text": [
      "/Library/Frameworks/Python.framework/Versions/3.7/lib/python3.7/site-packages/ipykernel_launcher.py:4: SettingWithCopyWarning: \n",
      "A value is trying to be set on a copy of a slice from a DataFrame\n",
      "\n",
      "See the caveats in the documentation: http://pandas.pydata.org/pandas-docs/stable/indexing.html#indexing-view-versus-copy\n",
      "  after removing the cwd from sys.path.\n"
     ]
    }
   ],
   "source": [
    "# data = data[data['num_commas'] < 4]\n",
    "for index in range(len(data.database)):\n",
    "    if (data.num_commas[index] > 4):\n",
    "        data.database[index] = ''\n",
    "    #remove brands\n",
    "    for b in possible_brands:\n",
    "        if b in data.database[index]:\n",
    "            print(data.database[index])\n",
    "            data.database[index] = data.database[index].replace(b, '')\n",
    "            print(data.database[index])\n",
    "            print(\"=====\")\n"
   ]
  },
  {
   "cell_type": "code",
   "execution_count": 17,
   "metadata": {},
   "outputs": [
    {
     "data": {
      "text/plain": [
       "448"
      ]
     },
     "execution_count": 17,
     "metadata": {},
     "output_type": "execute_result"
    }
   ],
   "source": [
    "len(data)"
   ]
  },
  {
   "cell_type": "code",
   "execution_count": 18,
   "metadata": {},
   "outputs": [
    {
     "data": {
      "text/html": [
       "<div>\n",
       "<style scoped>\n",
       "    .dataframe tbody tr th:only-of-type {\n",
       "        vertical-align: middle;\n",
       "    }\n",
       "\n",
       "    .dataframe tbody tr th {\n",
       "        vertical-align: top;\n",
       "    }\n",
       "\n",
       "    .dataframe thead th {\n",
       "        text-align: right;\n",
       "    }\n",
       "</style>\n",
       "<table border=\"1\" class=\"dataframe\">\n",
       "  <thead>\n",
       "    <tr style=\"text-align: right;\">\n",
       "      <th></th>\n",
       "      <th>database</th>\n",
       "      <th>num_commas</th>\n",
       "    </tr>\n",
       "  </thead>\n",
       "  <tbody>\n",
       "    <tr>\n",
       "      <th>0</th>\n",
       "      <td>Organic gala apples</td>\n",
       "      <td>1</td>\n",
       "    </tr>\n",
       "    <tr>\n",
       "      <th>1</th>\n",
       "      <td>DANNON ACTIVIA FIBER PROBIOTIC LOWFAT YOGURT S...</td>\n",
       "      <td>1</td>\n",
       "    </tr>\n",
       "    <tr>\n",
       "      <th>2</th>\n",
       "      <td>OREO THINS COOKIES PISTACHIO 1X10.1 OZ</td>\n",
       "      <td>1</td>\n",
       "    </tr>\n",
       "    <tr>\n",
       "      <th>3</th>\n",
       "      <td>ORGANIC BABY SPINACH</td>\n",
       "      <td>1</td>\n",
       "    </tr>\n",
       "    <tr>\n",
       "      <th>4</th>\n",
       "      <td>PAPAYA CHUNKS</td>\n",
       "      <td>1</td>\n",
       "    </tr>\n",
       "    <tr>\n",
       "      <th>5</th>\n",
       "      <td>ORGANIC FUJI APPLES</td>\n",
       "      <td>1</td>\n",
       "    </tr>\n",
       "    <tr>\n",
       "      <th>6</th>\n",
       "      <td>SABRA CLASSIC HUMMUS</td>\n",
       "      <td>1</td>\n",
       "    </tr>\n",
       "    <tr>\n",
       "      <th>7</th>\n",
       "      <td>BABY CUT CARROTS</td>\n",
       "      <td>1</td>\n",
       "    </tr>\n",
       "    <tr>\n",
       "      <th>8</th>\n",
       "      <td>MOCHI ICE CREAM</td>\n",
       "      <td>1</td>\n",
       "    </tr>\n",
       "    <tr>\n",
       "      <th>9</th>\n",
       "      <td>CHICKEN BREAST</td>\n",
       "      <td>1</td>\n",
       "    </tr>\n",
       "    <tr>\n",
       "      <th>10</th>\n",
       "      <td>GREEN BEANS</td>\n",
       "      <td>1</td>\n",
       "    </tr>\n",
       "    <tr>\n",
       "      <th>11</th>\n",
       "      <td>KALE</td>\n",
       "      <td>1</td>\n",
       "    </tr>\n",
       "    <tr>\n",
       "      <th>12</th>\n",
       "      <td>RAINBOW BELL PEPPERS</td>\n",
       "      <td>1</td>\n",
       "    </tr>\n",
       "    <tr>\n",
       "      <th>13</th>\n",
       "      <td>CUT YAMS SWEET POTATOES</td>\n",
       "      <td>1</td>\n",
       "    </tr>\n",
       "    <tr>\n",
       "      <th>14</th>\n",
       "      <td>RUSSET POTATOES</td>\n",
       "      <td>1</td>\n",
       "    </tr>\n",
       "    <tr>\n",
       "      <th>15</th>\n",
       "      <td>BROCCOLI AND CAULIFLOWER</td>\n",
       "      <td>1</td>\n",
       "    </tr>\n",
       "    <tr>\n",
       "      <th>16</th>\n",
       "      <td>FRESH FROZEN VEGETABLES</td>\n",
       "      <td>1</td>\n",
       "    </tr>\n",
       "    <tr>\n",
       "      <th>17</th>\n",
       "      <td>CLEMENTINE</td>\n",
       "      <td>1</td>\n",
       "    </tr>\n",
       "    <tr>\n",
       "      <th>18</th>\n",
       "      <td>BANANA</td>\n",
       "      <td>1</td>\n",
       "    </tr>\n",
       "    <tr>\n",
       "      <th>19</th>\n",
       "      <td>GREEK YOGURT</td>\n",
       "      <td>1</td>\n",
       "    </tr>\n",
       "    <tr>\n",
       "      <th>20</th>\n",
       "      <td>PEACH PIE</td>\n",
       "      <td>1</td>\n",
       "    </tr>\n",
       "    <tr>\n",
       "      <th>21</th>\n",
       "      <td>COOKIES</td>\n",
       "      <td>1</td>\n",
       "    </tr>\n",
       "    <tr>\n",
       "      <th>22</th>\n",
       "      <td>TUNA CREATIONS</td>\n",
       "      <td>1</td>\n",
       "    </tr>\n",
       "    <tr>\n",
       "      <th>23</th>\n",
       "      <td>TUNA</td>\n",
       "      <td>1</td>\n",
       "    </tr>\n",
       "    <tr>\n",
       "      <th>24</th>\n",
       "      <td>OLIVE OIL</td>\n",
       "      <td>1</td>\n",
       "    </tr>\n",
       "    <tr>\n",
       "      <th>25</th>\n",
       "      <td>FAST RISE YEAST</td>\n",
       "      <td>1</td>\n",
       "    </tr>\n",
       "    <tr>\n",
       "      <th>26</th>\n",
       "      <td>FLOUR</td>\n",
       "      <td>1</td>\n",
       "    </tr>\n",
       "    <tr>\n",
       "      <th>27</th>\n",
       "      <td>FLOUR</td>\n",
       "      <td>1</td>\n",
       "    </tr>\n",
       "    <tr>\n",
       "      <th>28</th>\n",
       "      <td>SALSA</td>\n",
       "      <td>1</td>\n",
       "    </tr>\n",
       "    <tr>\n",
       "      <th>29</th>\n",
       "      <td>CUPCAKE</td>\n",
       "      <td>1</td>\n",
       "    </tr>\n",
       "    <tr>\n",
       "      <th>...</th>\n",
       "      <td>...</td>\n",
       "      <td>...</td>\n",
       "    </tr>\n",
       "    <tr>\n",
       "      <th>418</th>\n",
       "      <td>, CHUNKY SALSA</td>\n",
       "      <td>2</td>\n",
       "    </tr>\n",
       "    <tr>\n",
       "      <th>419</th>\n",
       "      <td>SOUR CREAM</td>\n",
       "      <td>1</td>\n",
       "    </tr>\n",
       "    <tr>\n",
       "      <th>420</th>\n",
       "      <td>LEAF SPINACH</td>\n",
       "      <td>1</td>\n",
       "    </tr>\n",
       "    <tr>\n",
       "      <th>421</th>\n",
       "      <td>CHIPOTLE TACO MIX</td>\n",
       "      <td>1</td>\n",
       "    </tr>\n",
       "    <tr>\n",
       "      <th>422</th>\n",
       "      <td>BROCCOLI</td>\n",
       "      <td>1</td>\n",
       "    </tr>\n",
       "    <tr>\n",
       "      <th>423</th>\n",
       "      <td>SOY SAUCE</td>\n",
       "      <td>1</td>\n",
       "    </tr>\n",
       "    <tr>\n",
       "      <th>424</th>\n",
       "      <td>GREEN GRAPE</td>\n",
       "      <td>1</td>\n",
       "    </tr>\n",
       "    <tr>\n",
       "      <th>425</th>\n",
       "      <td>SQUASH WITH VIDALIA ONIONS</td>\n",
       "      <td>1</td>\n",
       "    </tr>\n",
       "    <tr>\n",
       "      <th>426</th>\n",
       "      <td>ASIAN STYLE STIR FRY BLEND</td>\n",
       "      <td>1</td>\n",
       "    </tr>\n",
       "    <tr>\n",
       "      <th>427</th>\n",
       "      <td>Nature Valley Sweet &amp; Salty Roasted Mixed Nut ...</td>\n",
       "      <td>1</td>\n",
       "    </tr>\n",
       "    <tr>\n",
       "      <th>428</th>\n",
       "      <td>FIRE ROASTED RED BELL PEPPERS</td>\n",
       "      <td>1</td>\n",
       "    </tr>\n",
       "    <tr>\n",
       "      <th>429</th>\n",
       "      <td>, SNOW PEAS</td>\n",
       "      <td>2</td>\n",
       "    </tr>\n",
       "    <tr>\n",
       "      <th>430</th>\n",
       "      <td>, CHEWY WITH A CRUNCH GRANOLA BAR, DARK CHOCOL...</td>\n",
       "      <td>3</td>\n",
       "    </tr>\n",
       "    <tr>\n",
       "      <th>431</th>\n",
       "      <td>Nature Valley Sweet &amp; Salty Roasted Mixed Nut ...</td>\n",
       "      <td>1</td>\n",
       "    </tr>\n",
       "    <tr>\n",
       "      <th>432</th>\n",
       "      <td>ORGANIC ZUCCHINI SQUASH</td>\n",
       "      <td>1</td>\n",
       "    </tr>\n",
       "    <tr>\n",
       "      <th>433</th>\n",
       "      <td>BROCCOLI</td>\n",
       "      <td>1</td>\n",
       "    </tr>\n",
       "    <tr>\n",
       "      <th>434</th>\n",
       "      <td>DICED GREEN BELL PEPPERS</td>\n",
       "      <td>1</td>\n",
       "    </tr>\n",
       "    <tr>\n",
       "      <th>435</th>\n",
       "      <td>RED GRAPES</td>\n",
       "      <td>1</td>\n",
       "    </tr>\n",
       "    <tr>\n",
       "      <th>436</th>\n",
       "      <td>YELLOW ONIONS</td>\n",
       "      <td>1</td>\n",
       "    </tr>\n",
       "    <tr>\n",
       "      <th>437</th>\n",
       "      <td>ASIAN INSPIRED BEEF STRIPS</td>\n",
       "      <td>1</td>\n",
       "    </tr>\n",
       "    <tr>\n",
       "      <th>438</th>\n",
       "      <td>EVERYTHING BAGELS</td>\n",
       "      <td>1</td>\n",
       "    </tr>\n",
       "    <tr>\n",
       "      <th>439</th>\n",
       "      <td>SHREDDED MILD CHEDDAR CHEESE</td>\n",
       "      <td>1</td>\n",
       "    </tr>\n",
       "    <tr>\n",
       "      <th>440</th>\n",
       "      <td>BUFFALO WING SAUCE</td>\n",
       "      <td>1</td>\n",
       "    </tr>\n",
       "    <tr>\n",
       "      <th>441</th>\n",
       "      <td>, RANCH DRESSING</td>\n",
       "      <td>2</td>\n",
       "    </tr>\n",
       "    <tr>\n",
       "      <th>442</th>\n",
       "      <td>RAW STUFFED CHICKEN BREASTS</td>\n",
       "      <td>1</td>\n",
       "    </tr>\n",
       "    <tr>\n",
       "      <th>443</th>\n",
       "      <td>SEA SCALLOPS</td>\n",
       "      <td>1</td>\n",
       "    </tr>\n",
       "    <tr>\n",
       "      <th>444</th>\n",
       "      <td>PHILADELPHIA CREAM CHEESE-SOFT LIGHT</td>\n",
       "      <td>1</td>\n",
       "    </tr>\n",
       "    <tr>\n",
       "      <th>445</th>\n",
       "      <td></td>\n",
       "      <td>1</td>\n",
       "    </tr>\n",
       "    <tr>\n",
       "      <th>446</th>\n",
       "      <td>, GRAND ASSORTED CHOCOLATE</td>\n",
       "      <td>2</td>\n",
       "    </tr>\n",
       "    <tr>\n",
       "      <th>447</th>\n",
       "      <td>PHILADELPHIA CREAM CHEESE-SOFT LIGHT</td>\n",
       "      <td>1</td>\n",
       "    </tr>\n",
       "  </tbody>\n",
       "</table>\n",
       "<p>448 rows × 2 columns</p>\n",
       "</div>"
      ],
      "text/plain": [
       "                                              database  num_commas\n",
       "0                                  Organic gala apples           1\n",
       "1    DANNON ACTIVIA FIBER PROBIOTIC LOWFAT YOGURT S...           1\n",
       "2               OREO THINS COOKIES PISTACHIO 1X10.1 OZ           1\n",
       "3                                 ORGANIC BABY SPINACH           1\n",
       "4                                        PAPAYA CHUNKS           1\n",
       "5                                  ORGANIC FUJI APPLES           1\n",
       "6                                 SABRA CLASSIC HUMMUS           1\n",
       "7                                     BABY CUT CARROTS           1\n",
       "8                                      MOCHI ICE CREAM           1\n",
       "9                                       CHICKEN BREAST           1\n",
       "10                                         GREEN BEANS           1\n",
       "11                                                KALE           1\n",
       "12                                RAINBOW BELL PEPPERS           1\n",
       "13                             CUT YAMS SWEET POTATOES           1\n",
       "14                                     RUSSET POTATOES           1\n",
       "15                            BROCCOLI AND CAULIFLOWER           1\n",
       "16                             FRESH FROZEN VEGETABLES           1\n",
       "17                                          CLEMENTINE           1\n",
       "18                                              BANANA           1\n",
       "19                                        GREEK YOGURT           1\n",
       "20                                           PEACH PIE           1\n",
       "21                                             COOKIES           1\n",
       "22                                      TUNA CREATIONS           1\n",
       "23                                                TUNA           1\n",
       "24                                           OLIVE OIL           1\n",
       "25                                     FAST RISE YEAST           1\n",
       "26                                               FLOUR           1\n",
       "27                                               FLOUR           1\n",
       "28                                               SALSA           1\n",
       "29                                             CUPCAKE           1\n",
       "..                                                 ...         ...\n",
       "418                                     , CHUNKY SALSA           2\n",
       "419                                         SOUR CREAM           1\n",
       "420                                       LEAF SPINACH           1\n",
       "421                                  CHIPOTLE TACO MIX           1\n",
       "422                                           BROCCOLI           1\n",
       "423                                          SOY SAUCE           1\n",
       "424                                        GREEN GRAPE           1\n",
       "425                         SQUASH WITH VIDALIA ONIONS           1\n",
       "426                         ASIAN STYLE STIR FRY BLEND           1\n",
       "427  Nature Valley Sweet & Salty Roasted Mixed Nut ...           1\n",
       "428                      FIRE ROASTED RED BELL PEPPERS           1\n",
       "429                                        , SNOW PEAS           2\n",
       "430  , CHEWY WITH A CRUNCH GRANOLA BAR, DARK CHOCOL...           3\n",
       "431  Nature Valley Sweet & Salty Roasted Mixed Nut ...           1\n",
       "432                            ORGANIC ZUCCHINI SQUASH           1\n",
       "433                                           BROCCOLI           1\n",
       "434                           DICED GREEN BELL PEPPERS           1\n",
       "435                                         RED GRAPES           1\n",
       "436                                      YELLOW ONIONS           1\n",
       "437                         ASIAN INSPIRED BEEF STRIPS           1\n",
       "438                                  EVERYTHING BAGELS           1\n",
       "439                       SHREDDED MILD CHEDDAR CHEESE           1\n",
       "440                                 BUFFALO WING SAUCE           1\n",
       "441                                   , RANCH DRESSING           2\n",
       "442                        RAW STUFFED CHICKEN BREASTS           1\n",
       "443                                       SEA SCALLOPS           1\n",
       "444               PHILADELPHIA CREAM CHEESE-SOFT LIGHT           1\n",
       "445                                                              1\n",
       "446                         , GRAND ASSORTED CHOCOLATE           2\n",
       "447               PHILADELPHIA CREAM CHEESE-SOFT LIGHT           1\n",
       "\n",
       "[448 rows x 2 columns]"
      ]
     },
     "execution_count": 18,
     "metadata": {},
     "output_type": "execute_result"
    }
   ],
   "source": [
    "data"
   ]
  },
  {
   "cell_type": "code",
   "execution_count": null,
   "metadata": {},
   "outputs": [],
   "source": [
    "def remove_brand_descriptor(x):\n",
    "    x_ = x.split(\",\")\n",
    "    \n",
    "    if len(x_) > 1:\n",
    "        if 'fl oz' in x_[1]:\n",
    "            return x_[0].strip()\n",
    "        else:\n",
    "            print (x_[0].strip() + \" \" + x_[1].strip())\n",
    "            return x_[0].strip() + \" \" + x_[1].strip()\n",
    "    else:\n",
    "        return x_[0].strip()"
   ]
  },
  {
   "cell_type": "code",
   "execution_count": null,
   "metadata": {},
   "outputs": [],
   "source": [
    "data['cleaned_title'] = data.apply(lambda x: remove_brand_descriptor(x.database), axis=1)"
   ]
  },
  {
   "cell_type": "code",
   "execution_count": null,
   "metadata": {},
   "outputs": [],
   "source": [
    "data"
   ]
  },
  {
   "cell_type": "code",
   "execution_count": 140,
   "metadata": {},
   "outputs": [
    {
     "data": {
      "text/html": [
       "<div>\n",
       "<style scoped>\n",
       "    .dataframe tbody tr th:only-of-type {\n",
       "        vertical-align: middle;\n",
       "    }\n",
       "\n",
       "    .dataframe tbody tr th {\n",
       "        vertical-align: top;\n",
       "    }\n",
       "\n",
       "    .dataframe thead th {\n",
       "        text-align: right;\n",
       "    }\n",
       "</style>\n",
       "<table border=\"1\" class=\"dataframe\">\n",
       "  <thead>\n",
       "    <tr style=\"text-align: right;\">\n",
       "      <th></th>\n",
       "      <th>reciept name</th>\n",
       "      <th>full product title</th>\n",
       "      <th>general product title</th>\n",
       "      <th>store</th>\n",
       "      <th>database</th>\n",
       "    </tr>\n",
       "  </thead>\n",
       "  <tbody>\n",
       "    <tr>\n",
       "      <th>0</th>\n",
       "      <td>ORGANIC GALA APPLE</td>\n",
       "      <td>Organic gala apples</td>\n",
       "      <td>Apples</td>\n",
       "      <td>Publix</td>\n",
       "      <td>Organic gala apples</td>\n",
       "    </tr>\n",
       "    <tr>\n",
       "      <th>1</th>\n",
       "      <td>ACT STRWBY/BLUEBRY</td>\n",
       "      <td>Activia Probiotic Yogurt</td>\n",
       "      <td>Yogurt</td>\n",
       "      <td>Publix</td>\n",
       "      <td>DANNON ACTIVIA FIBER PROBIOTIC LOWFAT YOGURT ...</td>\n",
       "    </tr>\n",
       "    <tr>\n",
       "      <th>2</th>\n",
       "      <td>OREO THINS PISTACH</td>\n",
       "      <td>Oreo Thins Pistachio</td>\n",
       "      <td>Oreos</td>\n",
       "      <td>Publix</td>\n",
       "      <td>OREO THINS COOKIES PISTACHIO 1X10.1 OZ</td>\n",
       "    </tr>\n",
       "    <tr>\n",
       "      <th>3</th>\n",
       "      <td>OG GW BABY SPINACH</td>\n",
       "      <td>Organic baby spinach</td>\n",
       "      <td>Spinach</td>\n",
       "      <td>Publix</td>\n",
       "      <td>ORGANIC BABY SPINACH</td>\n",
       "    </tr>\n",
       "    <tr>\n",
       "      <th>4</th>\n",
       "      <td>PAPAYA MARADOL</td>\n",
       "      <td>Papaya</td>\n",
       "      <td>Papaya</td>\n",
       "      <td>Publix</td>\n",
       "      <td>PAPAYA CHUNKS</td>\n",
       "    </tr>\n",
       "  </tbody>\n",
       "</table>\n",
       "</div>"
      ],
      "text/plain": [
       "          reciept name          full product title general product title  \\\n",
       "0  ORGANIC GALA APPLE         Organic gala apples                Apples    \n",
       "1  ACT STRWBY/BLUEBRY    Activia Probiotic Yogurt                Yogurt    \n",
       "2  OREO THINS PISTACH        Oreo Thins Pistachio                 Oreos    \n",
       "3  OG GW BABY SPINACH        Organic baby spinach               Spinach    \n",
       "4      PAPAYA MARADOL                      Papaya                Papaya    \n",
       "\n",
       "     store                                            database  \n",
       "0   Publix                                 Organic gala apples  \n",
       "1   Publix    DANNON ACTIVIA FIBER PROBIOTIC LOWFAT YOGURT ...  \n",
       "2   Publix              OREO THINS COOKIES PISTACHIO 1X10.1 OZ  \n",
       "3   Publix                                ORGANIC BABY SPINACH  \n",
       "4   Publix                                       PAPAYA CHUNKS  "
      ]
     },
     "execution_count": 140,
     "metadata": {},
     "output_type": "execute_result"
    }
   ],
   "source": [
    "fullData.head()"
   ]
  },
  {
   "cell_type": "code",
   "execution_count": 146,
   "metadata": {},
   "outputs": [
    {
     "name": "stdout",
     "output_type": "stream",
     "text": [
      "{'ORGANIC GALA APPLE ': 'Organic gala apples', 'ACT STRWBY/BLUEBRY ': 'DANNON ACTIVIA FIBER PROBIOTIC LOWFAT YOGURT STRAWBERRY', 'OREO THINS PISTACH ': 'OREO THINS COOKIES PISTACHIO 1X10.1 OZ', 'OG GW BABY SPINACH ': 'ORGANIC BABY SPINACH', 'PAPAYA MARADOL ': 'PAPAYA CHUNKS', 'ORGANIC APPLES FUJ ': 'ORGANIC FUJI APPLES', 'SABRA RST GARL HUM ': 'SABRA CLASSIC HUMMUS', 'CARROTS BABY CUT ': 'BABY CUT CARROTS', 'MOCHI ICE CREAM ': 'MOCHI ICE CREAM', 'HTGF CHK BRST ': 'CHICKEN BREAST', 'GREEN BEANS ': 'GREEN BEANS', 'KRO KALE ': 'KALE', 'PEPPERS RAINBOW ': 'RAINBOW BELL PEPPERS', 'YAMS SWT JEWEL ': 'CUT YAMS SWEET POTATOES', 'HTGF POTATOES RSST ': 'RUSSET POTATOES', 'KROGER BRC&CAU ': 'BROCCOLI AND CAULIFLOWER', 'KROGER FROZEN VEG ': 'FRESH FROZEN VEGETABLES', 'CLEMNTNES 3# ': 'CLEMENTINE', 'BANANAS ': 'BANANA', 'CHOBANI YOGURT ': 'GREEK YOGURT', 'BC PCH PIE ': 'PEACH PIE', 'BC COOKIES ': 'COOKIES', 'STRKST TUNA CRTNS ': 'TUNA CREATIONS', 'STARKIST TUNA ': 'TUNA', 'KRO OLIVE OIL ': 'OLIVE OIL', 'KROGER YEAST ': 'KROGER FAST RISE YEAST', 'WHITE LILLY FLOUR ': 'FLOUR', 'KRO FLOUR ': 'FLOUR', 'KRO SALSA ': 'SALSA', 'CUPCAKE 6CT DEC ': 'CUPCAKE', 'AQUAFINA WATER ': 'WATER', 'GLAZED DONUT ': 'GLAZED DONUTS', 'PUBLIX MILK WH 0.5 ': 'WHOLE MILK', 'PF XTRA CHEDDAR GF ': '', 'PF CHEESE GOLDFISH ': '', 'PROG CHICK BROTH ': 'CHICKEN BROTH', 'MULTIGRAIN CHEERIO ': 'CHEERIOS CEREAL', 'PROGRESSO R&H STK ': 'SOUP', 'LAVDR PEEPS ': 'MARSHMALLOWS', 'PEZ DISPENSE ': 'CANDY & DISPENSER', 'JELLY BEANS ': 'JELLY BEANS', 'ROLD GOLD ': 'PRETZEL', 'GV CHIPS ': 'CHIPS', 'ROASTED ALMD ': 'ROASTED ALMONDS', 'MT DEW CD RE ': 'Mountain Dew Code Red Soda 12 Fluid Ounce Aluminum Can', 'ACTII BUTTER ': 'POPCORN', 'CHEESE NIPS ': 'CHEESE NIPS SNACKS CRACKER', 'AW CREAM SDA ': 'CREAM SODA', 'CNM ALMOND ': 'CINNAMON ALMONDS', 'RNCH CRACKER ': 'CRACKERS', 'ROOT BEER ': 'ROOT BEER', 'DR PEPPER ': 'DR PEPPER', 'DORITO 12 CT ': 'CHIPS', 'REESES PEAN ': '', 'GATORADE ': 'THIRST QUENCHER POWDER', 'GARDETTOS ': 'SNACK MIX', 'ASPARAGUS ': 'ASPARAGUS', 'PASTA ': 'PASTA', 'HONEY GLD POTATOES ': 'POTATOES', 'DE CECCO BOW FARFA ': 'FARFALLE', 'FRNDSHP SOUR CREAM ': 'SOUR CREAM', 'ATHENOS TR/CR FETA ': '', 'HUNTS KETCHUP ': 'HUNTS Tomato Ketchup', 'APPLES CRIPPS PINK ': 'RAW CRIPPS PINK APPLE JUICE', 'SABRA CLAS HUM 6PK ': 'SABRA CLASSIC HUMMUS', 'EGG BREAD-CHALLAH ': 'PREMIUM EGG CHALLAH ROLLS', 'KELL APPLE JACKS ': 'KELLOGGS APPLE JACKS CEREAL WITH APPLE & CINNANON', 'POST HONEY BUNCH ': 'HONEY BUNCHES OF OATS CEREAL', 'OLD FASHIONED OATS ': 'OLD FASHIONED OATS', 'RASPBERRIES ': 'RASPBERRIES', 'BLUEBERRIES ': 'BLUEBERRIES', 'STRAWBERRIES ': 'WHOLE STRAWBERRIES', 'AVOCADOS ': 'Avocados raw all commercial varieties', 'CHIA SEEDS ': 'CHIA SEEDS', 'DATES ': 'DATES', 'BABY SPINACH 120g ': 'BABY SPINACH', 'TORTILLA WRAPS WHOLEMEAL ': 'WHOLE GRAIN TORTILLA WRAPS', 'BEETROOT SLICED 450g ': 'SLICED BEETROOT PICKLED IN SWEET MALT VINEGAR', 'FZN MIXED BERRIES 500g ': 'MIXED BERRIES', 'HAM 4x100g ': 'UNCURED HAM', 'FROZ STEAM VEG 450g ': 'FRESH FROZEN VEGETABLES', 'RICE CRACKERS 200g ': 'RICE CRACKERS', 'PINK LADY APPLES ': 'PINK LADY APPLES', 'DIP SALSA ': 'SALSA', 'MAYONNAISE SQUEEZE ': 'SQUEEZE MAYONNAISE', 'WFM CLEMENTINE BAG ': 'Clementines raw', 'CROFT STRAWBRY SPR ': 'STRAWBERRY SPREAD', 'BEANS GREEN ': 'WHOLE GREEN BEANS', 'VIRGL CREAM SODA ': 'VIRGILS CREAM SODA', 'BULK ALMOND BUTTER ': 'ALMOND BUTTER', '365 LT CHNK TUNA ': 'CHUNK LIGHT TUNA', 'BLACKBERRIES ': 'BLACKBERRIES', 'CHKN BRST CUTLET ': 'LIGHTLY BREADED CHICKEN BREAST CUTLETS', 'CHKN GRND THIGH ': 'CHICKEN THIGH MEAT', 'OREO COOKIE ': 'OREO CHOCOLATE SANDWICH COOKIES', 'CHOBANI ': 'CHOBANI NON-FAT PLAIN GREEK YOGURT UPC: 818290010469', 'BREYERS ': 'Ice creams BREYERS All Natural Light Vanilla', 'AQUAF 2PK ': 'Beverages water bottled non-carbonated PEPSI AQUAFINA', 'MP EGGS ': 'LARGE WHITE EGGS', 'PUBLIX MED SALSA ': 'MEDIUM SALSA', 'SM RAISIN SEEDLESS ': 'SEEDLESS CALIFORNIA RAISINS', 'O R POPCORN ': 'ORVILLE REDENBACHERS Butter Popcorn', 'JIF PEANUT BUTTER ': 'PEANUT BUTTER', 'PUB DRY RST PNUT ': 'DRY ROASTED PEANUTS', 'L/L DBL CHOC CHIP ': '', 'L/L PB CHOC CHIP ': 'ORIGINAL DOUBLE CHOCOLATE CHIP COOKIE', 'B/D WHL NAT ALMDS ': 'BLUE DIAMOND ALMONDS WHOLE NATURAL', 'LIMES PERSIAN ': 'PERSIAN LIMES', 'NAPPA CABBAGE ': 'NAPA CABBAGE', 'PAPAYA ': 'Papayas raw', 'MATCHA KIT KAT ': 'Candies KIT KAT Wafer Bar', 'PICKLD SOUR RADISH ': 'Radishes hawaiian style pickled', 'CA NAVEL ORANGE ': 'CALIFORNIA NAVEL ORANGES', 'QUAK QUICK OATS ': 'Cereals QUAKER Quick Oats Dry', 'PUBLIX HVY WHP CRM ': 'HEAVY WHIPPING CREAM', 'BNLS CHICK BREAST ': 'BONELESS CHICKEN BREAST', 'LAPASTA SQSH RAVLI ': 'BUTTERNUT SQUASH RAVIOLI', 'DIGORNO PIZZA ': 'DIGIORNO Pizza cheese topping rising crust frozen baked', 'WESSON OIL ': 'WESSON Vegetable Oil', 'KING ARTHUR FLOUR ': 'UNBLEACHED ALL-PURPOSE FLOUR', 'FLA NATURAL JUICE ': 'FLORIDAS NATURAL 100% PURE FLORIDA ORANGE JUICE', 'KRO VGTBL CKSPRY ': 'VEGETABLE OIL COOKING SPRAY', 'BARLLA MINI FARFLE ': 'MINI FARFALLE ENRICHED MACARONI PRODUCT', 'LANDOLAKES HVY CRM ': 'LAND O LAKES RICH & CREAMY HEAVY WHIPPING CREAM', 'POTATOES RUSSET ': 'RUSSET POTATOES', 'KRO MUSHROOMS ': 'MUSHROOMS', 'APPLES HONEYCRISP ': 'HONEYCRISP APPLES', 'PLBRY CRSCNT ROLLS ': 'Pillsbury Original Crescent Rounds 8 Count', 'NTHN BF FRNK ': 'BEEF FRANKS', 'FAGE TOTAL YOGURT ': 'TOTAL GREEK STRAINED YOGURT', 'BOK CHOY ORG ': 'BOK CHOY', 'CUCUMBERS ': 'FRESH CUCUMBERS', 'KRO VAN EXTRCT ': 'PURE VANILLA EXTRACT', 'BRHD PRV CHS ': 'BOARS HEAD PROVOLONE CHEESE', 'POST HB OAT CRL ': 'HONEY BUNCHES OF OATS', 'ODWL JUICE ': 'ODWALLA 100% JUICE', 'PREGO PASTA SAUCE ': 'PASTA SAUCE', 'TFYN PITA BR ': 'CLASSIC WHITE PITA BREAD', 'LA BNDTA TORTILLA ': 'LA BANDERITA SOFT TACO FLOUR TORTILLAS', 'BRHD HNY HAM ': 'HONEY HAM', 'SALMON ATL FLT ': 'SALMON', 'ZUCCHINI ': 'ZUCCHINI', 'TOMATOES RED OTV ': 'TOMATOES ON THE VINE', 'KROGER MILK ': 'MILK', 'RONZ LINGUINE ': 'LINGUINE', 'BROCCOLI CROWNS ': 'BROCCOLI', 'APL GALA ': 'GALA APPLES', 'DKB BAGELS CIN/RSN\\t ': 'RAISIN CINNAMON BAGELS', 'CHOBANI 0% 4 PACK ': 'GREEK YOGURT', 'CHOBANI 2% 4 PACK ': 'GREEK YOGURT', 'ORG APPLES HONEYCR ': 'HONEYCRISP APPLES', 'NASOYA CUBED TFU ': 'TOFU', 'MAYFIELD SELECTS ': 'ICE CREAM', 'GOOD THN SWT POTAT ': 'GOOD THINS CRACKERS SWEET POTATO 1X6.5 OZ', 'KBLR FUDGE STRIPES ': 'FUDGE STRIPES COOKIES', 'PUBLIX EGGS JUMBO ': 'EGGS', 'CHO PLAIN 5% 32OZ ': 'GREEK YOGURT', 'PRINGLES ': 'PRINGLES', 'SLIM JIM ': 'SLIM JIM Original Smoked Snack Sticks', 'PLSBRY COOKI ': 'Pillsbury Chocolate Chip Cookie Dough', 'YOCRUNCH ': 'YOCRUNCH LOWFAT YOGURT VANILLA', 'V8 ': 'V8 BEVERAGE VEGETABLE', 'BANANA ': 'BANANA', 'MP 2 PC MILK ': 'MILK', 'CHEETOS ': 'Cheetos Puffs Cheese Flavored Snacks 2.375 Ounce Plastic Bag', 'LAYS ': 'Lays Baked Potato Crisps 10.25 ounce Plastic Bag', 'MARUCHN SOUP ': 'RAMEN NOODLES', 'CRKLN OATBRN ': 'Kelloggs Cracklin Oat Bran Cereal 17oz', 'LEAN CUISINE ': 'LEAN CUISINE CLASSIC MACARONI & BEEF', 'COKE CLASSIC ': 'Coca-Cola Bottle 20 fl oz', 'FRITOS ': 'Fritos Original Corn Chips 4.0 Ounce Plastic Bag', 'BROCCO CAUL ': 'BROCCOLI', 'STO BABY SPINACH ': 'BABY SPINACH', 'CLEMNTNES ': 'CLEMENTINE', 'BROCCOLI ': 'BROCCOLI', 'TURKEY HLL ICE CRM ': 'ICE CREAM', 'AIDL SAUSAGE ': '', 'KROGER EGGS ': 'EGGS', 'PLANTAINS ': '', 'BH MAPLE HONEY HAM ': 'MAPLE HONEY HAM', 'GW EVRTHNG BGLS 4C ': 'EVERYTHING BAGELS BAGELS', 'TROPICANA OJ ': 'PURE 100% FLORIDA ORANGE JUICE', 'PFRM GOLDFISH ': '', 'NTLA HZLNT SPREAD ': 'HAZELNUT SPREAD', 'CABBAGE NAPPA ': 'NAPPA CABBAGE', 'BARLLA LINGUINE ': 'LINGUINE ENRICHED MACARONI PRODUCT', 'BELG MOZ BLS ': 'FRESH MOZZARELLA', 'PEPPERS BELL RED ': '', 'PEACHES WHITE ': '', 'POST HNY BNCH OAT ': 'HONEY BUNCHES OF OATS CEREAL', 'PHLLY CREAM CHEESE ': 'PHILADELPHIA CREAM CHEESE-SOFT PLAIN', 'PRDU CH THGH ': 'PERDUE CHICKEN THIGHS', 'STNFR GARLIC NAAN ': 'GARLIC NAAN', 'KRO PNAPL CHNK JCE ': 'PINEAPPLE CHUNKS', 'MSSN TORTLLA ': 'TORTILLA', 'PILLSBURY CRESCENT ': 'CRESCENT', 'O M FRANKS ': 'FRANKS', 'LEMONS ': '', 'QUAKER OATMEAL ': '', 'MANDARINS BAG ': '', 'BKCN COOKIES ': '', 'PRSL COOKIE ': '', 'PRSL 12 GRAIN BRD': '', 'KRO BUFFALO ': '', 'KRO TUNA PCH ': '', 'KRO LMN PEPPR ': '', 'KRO TUNA ': '', 'KRO VITAMIN D MILK ': 'VITAMIN D MILK', 'KRO POTATO ': '', 'ONIONS SWT YELLOW ': '', 'APL GALA EAST XF ': 'GALA APPLES', 'CABBAGE ': '', 'KRO CAULIFLOWER FLPC ': '', 'KRO HONEY BEAR ': '', 'KRO TOMATOES ': '', 'CAMPBELLS CH ': '', 'CAMPBELLS ': '', 'CAPRI SUN ': '', 'PEARLS ': 'PEARLS', 'MP PASTA SCE ': 'PASTA SAUCE', 'DEVOUR ': '', 'NEWYOR BREAD ': '', 'FAIRLIFE ': '', 'OS CRAN POM ': '', 'CAMPARI TOM ': '', 'KFT SINGLES ': '', 'HARD SALAMI ': '', 'APL GOLD DEL ': 'GOLDEN DELICIOUS APPLES', 'BREAD ': 'BREAD', 'CIDER ': 'CIDER', 'ORGANIC RND YELLOW TORT CHIPS ': 'ORGANIC TORTILLA CHIPS', 'ORGANIC SUGAR ': '', 'BEANS ORGANIC GARBANZO ': 'ORGANIC GARBANZO BEANS', 'CHOC CHUNKS SEMI SWEET 10 OZ ': '', 'SPAGHETTI TOMATO SAUCE ORGANIC ': '', 'A-POTATO EACH RUSSET ': '', 'R-CARROTS WHOLE ORG ': '', 'A-AVOCADOS EACH HASS 40 CT ': '', 'A-CUCUMBERS PERSIAN 14 OZ ': '', 'TRADITIONAL REFRIED BEANS ': '', 'GV 5LB BRST ': '', 'GV 2 RF MLK ': '', 'PANCAKE MIX ': 'PANCAKE MIX', 'HNY MPL BCN ': '', 'SAUS LINKS ': 'SAUSAGE LINKS', 'GARLIC SALT ': 'GARLIC SALT', 'JALAPENO ': '', 'GV CHED SHED ': '', 'GV BRWN RICE ': '', 'BELL PEPPER ': '', 'RED PEPPER ': '', 'ORANGE PEPPER ': '', 'EGGS ': '', 'CILANTRO ': '', '1PCT MILK ': '', 'KROGER JUICE ': '', 'GM CINN TST CRUNCH ': 'GENERAL MILLS CEREAL CINNAMON TOAST CRUNCH', 'KRO JAM ': '', 'STO POWER GREENS ': 'POWER GREENS', 'STO RED DEL POUCH ': '', 'CARROTS ': 'CARROTS', 'KRO COF MOOSE TRK ': 'GREEK YOGURT', 'LINDT CHOCOLATE ': 'LINDT MILK CHOCOLATE', 'GREEN PEPPERS ': 'GREEN PEPPER', 'LIMES ': 'PERSIAN LIMES', 'AVOCADO HASS ': 'AVOCADO', 'ONION YLW COLOSS ': 'YELLOW ONION', 'POTATO RUSSET ': 'RUSSET POTATO', 'KRO BREAD ': 'BREAD', 'GTS KOMBCHA ': \"GT'S ORGANIC RAW KOMBUCHA\", 'CHETO HOT PUFFS ': 'Cheetos Hot 9.5z', 'CHETO PUFFS CHEESE ': 'Cheetos Puffs Cheese Flavored Snacks 2.375 Ounce Plastic Bag', 'LAYS PARTY SIZE ': 'Lays Baked Potato Crisps 10.25 ounce Plastic Bag', 'LACROIX BERRY WTR ': 'LACROIX CURATE NATURALLY ESSENCED SPARKLING WATER', 'LACROIX ORANGE ': 'LACROIX CURATE NATURALLY ESSENCED SPARKLING WATER', 'COCA-COLA CLASSIC ': 'Coca-Cola Bottle 20 fl oz', 'COCA-COLA ZERO ': 'Coca-Cola Zero Sugar Bottle', 'SPRITE ': 'Sprite Bottle', 'CHERRY COKE ': 'Coca-Cola Cherry Bottles', 'C SHLBY CHLI ': \"CARROLL SHELBY'S ORIGINAL TEXAS BRAND\", 'RED BARRON PIZZA ': 'RED BARRON PIZZA', 'CHICKN BROTH ': 'CHICKEN BROTH', 'PORT WINE ': '', 'GV BBQ ': 'BARBEQUE SAUCE', 'KETCHUP ': 'KETCHUP', 'GV ORANG JCE ': 'ORANGE JUICE', '3 ORANGES ': 'ORANGES', 'SHALLOTS ': 'SHALLOTS', 'GREEN ONION ': '', 'GINGER ROOT ': 'GINGER', 'CARROTS SNACK SIZE ': 'CARROTS', 'TOTINOS PIZZA ': '', 'APPLES MCINTOSH LG ': '', 'PEARS BARTLETT ': '', 'CHWY PPRMNT MENTOS ': '', 'OJ TROP PURE ': '', 'PUBLIX MILK ': '', 'KIT KAT ': '', 'ALMOND JOY SNACK ': '', 'SUNKIST ORANGE ': '', 'TGIF POPCORN CKN ': '', 'DELIZZA ECLAIRS ': '', 'UNBLEACHED BRD FLR ': '', 'CANTALOUPES ': '', 'MOTTS APP WHT GRP ': '', 'PBLX ITAL BRD CRMB ': '', 'KENS BALS/BASIL ': '', 'KENS RANCH ': '', 'PETER PAN PNUT/BTR ': '', 'MAXWELL HOUSE COFF ': '', 'PUBLIX MARINARA SA ': '', 'EUREKA WHEAT BRD ': '', 'KRO 1% LF MILK ': '', 'KROGER KTL CHPS ': '', 'MCCORMCK CHLI MX ': '', 'ROMAINE HEARTS ': '', 'KRO GRND TRKY ': '', 'CKN BRST BL SL ': '', 'KROGER MUSTARD ': '', 'KRO PASTA SAUCE ': '', 'KROGER BEANS ': '', 'APL CRIPPS PINK ': '', 'KROGER FRZN VEG ': '', 'KRO GRK VAN YOGURT ': '', 'PRSL PIZZA ': '', 'STO BABY ARUGULA ': '', 'NBSC BLVTA ': '', 'MCCAFE COFFEE ': '', 'KROGER OATS ': '', 'HALOTOP ICE CREAM ': '', 'KRO PEANUT BUTTER ': '', 'MRES DRSNG ': '', 'CASCADIAN GRANOLA ': '', 'ST COOKIES ': '', 'CA PZ KTCH PIZZA ': '', 'STO BLUE TORTILLA ': '', 'STO WHITE TORTILLA ': '', 'KRO DRIED CRANBERR ': '', 'STO ORG TOFU': 'ORGANIC SOFT TOFU', 'STO FRZ CHERRIES': 'MARASCHINO CHERRIES', 'KRO PICKLES': 'PICKLES', 'KRO STHWEST KIT': 'PREMIUM SOUTHWEST SALAD KIT', 'KRO SHRED CHEESE': 'SHREDDED CHEESE', 'AVOCADO HASS': 'HASS AVOCADOS', 'GARLIC X-JUMBO': 'WHOLE CLOVE GARLIC', 'GRAPEFRUIT RED ESTPC': 'RED GRAPEFRUIT', 'VGND SWT POT SPR PC': '', 'CELERY': 'CELERY', 'MC CILANTRO LEAVES': 'TERANA CHOPPED CILANTRO LEAVES', 'TOMATO ON THE VINE': 'TOMATOES ON THE VINE', 'AVOCADOS HASS': 'HASS AVOCADOS', 'CHERRIES': 'MARASCHINO CHERRIES', 'PEACHES PREMIUM': 'PEACHES', 'ONION SPANISH': 'ONION', 'MCCORMICK OREGANO': 'OREGANO', 'MANDARINS': 'MANDARINS', 'BANANAS': 'BANANAS', 'CHICKEN TENDERS': 'CHICKEN TENDERS', 'TERRAPIN IPA': '', 'GARDEN LIFE ROMAIN': '', 'CUCUMBERS': 'fresh cucumbers', 'PBX ART SPIN DIP': 'ARTICHOKE SPINACH DIP', '3PC CHICK TEN DIN': 'CHICKEN TENDERS', 'CAPE COD WAVES SLT': 'POTATO CHIPS', 'BARCEL TAKIS FUEGO': 'BARCEL TAKIS', 'PUBLIX FROZEN FRUI': 'FROZEN FRUIT BLEND', 'DAISY COTT CHS 2%': 'COTTAGE CHEESE', 'PEP FARM GOLDFISH': '', 'SIG POPCORN WHITE': 'WHITE POPCORN', 'SIG GREEN BEANS WH': 'WHOLE GREEN BEANS', 'COLLEGE INN BOLD': 'BEEF BROTH', 'QUAKER CEREAL LIFE': '', 'OCEAN SPRAY JUICE': '', 'MARTINELLI CIDAR S': '', 'WELCHS SPARKLING': 'SPARKLING GRAPE JUICE', 'NBC OREO CKY REG': 'NABISCO OREO COOKIES OREO 1X10.700 OZ', 'COCA COLA CLASSIC': '', 'PILLS BREAD FLOUR': 'BREAD FLOUR', 'GATORADE CHERRY': 'Gatorade Frost Glacier Cherry Thirst Quencher 32 Fluid Ounce Bottle', 'GATORADE GLACIER': 'Gatorade Frost Glacier Cherry Thirst Quencher 32 Fluid Ounce Bottle', 'MS GARLIC SALT': 'GARLIC SALT', 'ARIZONA SWT TEA': '', 'PLN CRN RCE SNK': '', 'TWINIGS CLSC PRNCE': '', 'BC COOL IN BLUE 6': '', 'CL GEL FOOD COLORS': 'GEL FOOD COLORS', 'BIGELOW TEA OOLONG': 'ORGANIC OOLONG TEA BAGS', 'MINI PRETZELS': 'MINI PRETZELS', 'CD CRAN LM SLTZER': 'CRANBERRY LIME SELTZER', 'DELI': 'WEIS CLASSIC BAGELS', 'PBX SHR MON/JK CHS': 'COLBY AND MONTEREY JACK FINELY SHREDDED CHEESE', 'LEAN GROUND BEEF': 'LEAN GROUND BEEF', 'KFT CUPS 3 CHEESE': '', 'MARUCH ORIENT 6PK': 'RAMEN NOODLES', 'GRANDS! BUTTERMILK': 'BUTTERMILK BISCUITS', 'PACE THIK/CHUNK SA': 'PACE CHUNKY SALSA', 'PUBLIX SOUR CREAM LT': 'SOUR CREAM', 'SPINACH PUBLIX': 'LEAF SPINACH', 'MCCORMICK TACO MIX': 'CHIPOTLE TACO MIX', 'BRC FLRT EAT SMART': 'BROCCOLI', 'KIKKOMAN SOY SAUCE': 'SOY SAUCE', 'GRAPES WHT SDLS': 'GREEN GRAPE', 'slice onion squash': 'SQUASH WITH VIDALIA ONIONS', 'STIR FRY MX 4 SRV': 'ASIAN STYLE STIR FRY BLEND', 'NV PROTEIN BARS': 'Nature Valley Sweet & Salty Roasted Mixed Nut Granola Bar', 'BELL PEPPERS RED': 'FIRE ROASTED RED BELL PEPPERS', 'PEAS SNOW MICRO': 'PUBLIX SNOW PEAS', 'KIND NUTRITI FB': 'KIND HEALTHY GRAINS CHEWY WITH A CRUNCH GRANOLA BAR', 'NATR VAL BAR FB': 'Nature Valley Sweet & Salty Roasted Mixed Nut Granola Bar', 'ORG ZUCCHINI': 'ORGANIC ZUCCHINI SQUASH', 'BROCCOLETTI': 'BROCCOLI', 'PEPPERS GREEN BELL': 'DICED GREEN BELL PEPPERS', 'GRAPES RED SDLS': 'RED GRAPES', 'ONIONS YELLOW': 'YELLOW ONIONS', 'BEEF FOR STIR FRY': 'ASIAN INSPIRED BEEF STRIPS', 'GW EVRTHNG BGLS 4C': 'EVERYTHING BAGELS', 'PBX SHRD MILD CHD': 'SHREDDED MILD CHEDDAR CHEESE', 'FRNKS BUFF WNG SAU': 'BUFFALO WING SAUCE', 'PUB RANCH DRESS': 'HIDDEN VALLEY RANCH DRESSING', 'BNLS CHICK BREST': 'RAW STUFFED CHICKEN BREASTS', 'SEA SCALLOPS': 'SEA SCALLOPS', 'PHIL CREAM CHEESE': 'PHILADELPHIA CREAM CHEESE-SOFT LIGHT', 'santtitas yel corn': '', 'NESTLE MORSELS': 'NESTLE GRAND ASSORTED CHOCOLATE', 'PUBLIX CREAM CHEES': 'PHILADELPHIA CREAM CHEESE-SOFT LIGHT'}\n"
     ]
    }
   ],
   "source": [
    "# new_titles = list(set(data.cleaned_title))\n",
    "# new_titles\n",
    "\n",
    "new_titles = {\"\": \"\"}\n",
    "for ind in range(len(data.cleaned_title)):\n",
    "    if not fullData[\"reciept name\"][ind] in new_titles:\n",
    "        new_titles[fullData[\"reciept name\"][ind]] = data.cleaned_title[ind]\n",
    "new_titles.pop(\"\")       \n",
    "print(new_titles)"
   ]
  },
  {
   "cell_type": "code",
   "execution_count": 147,
   "metadata": {},
   "outputs": [],
   "source": [
    "import json\n",
    "with open('cleaned_branded_manual_data.json', 'w') as outfile:\n",
    "    json.dump(new_titles, outfile)"
   ]
  },
  {
   "cell_type": "code",
   "execution_count": null,
   "metadata": {
    "collapsed": true
   },
   "outputs": [],
   "source": []
  }
 ],
 "metadata": {
  "kernelspec": {
   "display_name": "Python 3",
   "language": "python",
   "name": "python3"
  },
  "language_info": {
   "codemirror_mode": {
    "name": "ipython",
    "version": 3
   },
   "file_extension": ".py",
   "mimetype": "text/x-python",
   "name": "python",
   "nbconvert_exporter": "python",
   "pygments_lexer": "ipython3",
   "version": "3.7.2"
  }
 },
 "nbformat": 4,
 "nbformat_minor": 2
}
