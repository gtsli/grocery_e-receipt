{
 "cells": [
  {
   "cell_type": "code",
   "execution_count": 85,
   "metadata": {},
   "outputs": [],
   "source": [
    "'''\n",
    "import libraries and set print options\n",
    "'''\n",
    "import pandas as pd\n",
    "import numpy as np\n",
    "import matplotlib.pyplot as plt\n",
    "import json\n",
    "import csv\n",
    "pd.set_option('display.max_rows', 1000)"
   ]
  },
  {
   "cell_type": "code",
   "execution_count": 86,
   "metadata": {},
   "outputs": [
    {
     "data": {
      "text/html": [
       "<div>\n",
       "<style scoped>\n",
       "    .dataframe tbody tr th:only-of-type {\n",
       "        vertical-align: middle;\n",
       "    }\n",
       "\n",
       "    .dataframe tbody tr th {\n",
       "        vertical-align: top;\n",
       "    }\n",
       "\n",
       "    .dataframe thead th {\n",
       "        text-align: right;\n",
       "    }\n",
       "</style>\n",
       "<table border=\"1\" class=\"dataframe\">\n",
       "  <thead>\n",
       "    <tr style=\"text-align: right;\">\n",
       "      <th></th>\n",
       "      <th>NBDID</th>\n",
       "      <th>full_product_name</th>\n",
       "    </tr>\n",
       "  </thead>\n",
       "  <tbody>\n",
       "    <tr>\n",
       "      <th>0</th>\n",
       "      <td>1001</td>\n",
       "      <td>Butter, salted</td>\n",
       "    </tr>\n",
       "    <tr>\n",
       "      <th>1</th>\n",
       "      <td>1002</td>\n",
       "      <td>Butter, whipped, with salt</td>\n",
       "    </tr>\n",
       "    <tr>\n",
       "      <th>2</th>\n",
       "      <td>1003</td>\n",
       "      <td>Butter oil, anhydrous</td>\n",
       "    </tr>\n",
       "    <tr>\n",
       "      <th>3</th>\n",
       "      <td>1004</td>\n",
       "      <td>Cheese, blue</td>\n",
       "    </tr>\n",
       "    <tr>\n",
       "      <th>4</th>\n",
       "      <td>1005</td>\n",
       "      <td>Cheese, brick</td>\n",
       "    </tr>\n",
       "  </tbody>\n",
       "</table>\n",
       "</div>"
      ],
      "text/plain": [
       "   NBDID           full_product_name\n",
       "0   1001              Butter, salted\n",
       "1   1002  Butter, whipped, with salt\n",
       "2   1003       Butter oil, anhydrous\n",
       "3   1004                Cheese, blue\n",
       "4   1005               Cheese, brick"
      ]
     },
     "execution_count": 86,
     "metadata": {},
     "output_type": "execute_result"
    }
   ],
   "source": [
    "data = pd.read_csv('SR_Legacy_products.csv') ##read csv as a dataframe\n",
    "full_data = data.copy()\n",
    "data.head() ## show the top 5"
   ]
  },
  {
   "cell_type": "markdown",
   "metadata": {},
   "source": [
    "## RULES:\n",
    "### - First word is the main product\n",
    "### - Second word is a distinguishing descriptor\n",
    "### - If 3 words total, don’t need 3rd word### - If 4+ words, 3rd word is helpful"
   ]
  },
  {
   "cell_type": "markdown",
   "metadata": {},
   "source": [
    "# Data Cleaning - Process Is Commented"
   ]
  },
  {
   "cell_type": "code",
   "execution_count": 87,
   "metadata": {},
   "outputs": [
    {
     "data": {
      "text/html": [
       "<div>\n",
       "<style scoped>\n",
       "    .dataframe tbody tr th:only-of-type {\n",
       "        vertical-align: middle;\n",
       "    }\n",
       "\n",
       "    .dataframe tbody tr th {\n",
       "        vertical-align: top;\n",
       "    }\n",
       "\n",
       "    .dataframe thead th {\n",
       "        text-align: right;\n",
       "    }\n",
       "</style>\n",
       "<table border=\"1\" class=\"dataframe\">\n",
       "  <thead>\n",
       "    <tr style=\"text-align: right;\">\n",
       "      <th></th>\n",
       "      <th>full_product_name</th>\n",
       "    </tr>\n",
       "  </thead>\n",
       "  <tbody>\n",
       "    <tr>\n",
       "      <th>0</th>\n",
       "      <td>Butter, salted</td>\n",
       "    </tr>\n",
       "    <tr>\n",
       "      <th>1</th>\n",
       "      <td>Butter, whipped, with salt</td>\n",
       "    </tr>\n",
       "    <tr>\n",
       "      <th>2</th>\n",
       "      <td>Butter oil, anhydrous</td>\n",
       "    </tr>\n",
       "    <tr>\n",
       "      <th>3</th>\n",
       "      <td>Cheese, blue</td>\n",
       "    </tr>\n",
       "    <tr>\n",
       "      <th>4</th>\n",
       "      <td>Cheese, brick</td>\n",
       "    </tr>\n",
       "  </tbody>\n",
       "</table>\n",
       "</div>"
      ],
      "text/plain": [
       "            full_product_name\n",
       "0              Butter, salted\n",
       "1  Butter, whipped, with salt\n",
       "2       Butter oil, anhydrous\n",
       "3                Cheese, blue\n",
       "4               Cheese, brick"
      ]
     },
     "execution_count": 87,
     "metadata": {},
     "output_type": "execute_result"
    }
   ],
   "source": [
    "DROP_COLS = [\n",
    "    'NBDID'\n",
    "]\n",
    "data = data.drop(DROP_COLS, axis=1) ## drop unnecessary columns for now\n",
    "data.head()"
   ]
  },
  {
   "cell_type": "code",
   "execution_count": 88,
   "metadata": {},
   "outputs": [],
   "source": [
    "'''\n",
    "Find the number of commas in each title \n",
    "'''\n",
    "data['num_commas'] = data.apply(lambda x: len(x.full_product_name.split(\",\"))-1, axis=1)\n",
    "#data = data[data['num_commas'] < 4]"
   ]
  },
  {
   "cell_type": "code",
   "execution_count": 89,
   "metadata": {},
   "outputs": [
    {
     "data": {
      "text/plain": [
       "7793"
      ]
     },
     "execution_count": 89,
     "metadata": {},
     "output_type": "execute_result"
    }
   ],
   "source": [
    "len(data)"
   ]
  },
  {
   "cell_type": "code",
   "execution_count": 103,
   "metadata": {},
   "outputs": [],
   "source": [
    "'''\n",
    "This will remove 3rd word if three words total, otherwise, will remove any words after the third one\n",
    "Will also reverse the order of the words\n",
    "'''\n",
    "def remove_extra_words(x):\n",
    "    x_ = x.split(\",\")\n",
    "    if len(x_) == 2 or len(x_) == 3:\n",
    "        if 'raw' in x_[1]:\n",
    "            return x_[0].strip()\n",
    "        else:\n",
    "            return x_[1].strip() + ' ' + x_[0].strip()\n",
    "    elif len(x_) >= 4:\n",
    "        return x_[2].strip() + ' ' + x_[1].strip() + ' ' + x_[0].strip()\n",
    "    else:\n",
    "        return x_[0].strip()"
   ]
  },
  {
   "cell_type": "code",
   "execution_count": 104,
   "metadata": {},
   "outputs": [],
   "source": [
    "'''\n",
    "This will remove all words after two\n",
    "'''\n",
    "def two_words_only(x):\n",
    "    x_ = x.split(\",\")\n",
    "    if (len(x_) > 1):\n",
    "        if 'raw' in x_[1]:\n",
    "            return x_[0].strip()\n",
    "        else:\n",
    "            return x_[1].strip() + ' ' + x_[0].strip()\n",
    "    else:\n",
    "        return x_[0].strip()"
   ]
  },
  {
   "cell_type": "code",
   "execution_count": 105,
   "metadata": {},
   "outputs": [],
   "source": [
    "'''\n",
    "Apply the method to obtain different column with the cleaning process applied\n",
    "'''\n",
    "data['clean_long_title'] = data.apply(lambda x: remove_extra_words(x.full_product_name), axis=1)"
   ]
  },
  {
   "cell_type": "code",
   "execution_count": 106,
   "metadata": {},
   "outputs": [],
   "source": [
    "'''\n",
    "Apply the method to obtain different column with the cleaning process applied\n",
    "'''\n",
    "data['clean_short_title'] = data.apply(lambda x: two_words_only(x.full_product_name), axis=1)"
   ]
  },
  {
   "cell_type": "code",
   "execution_count": 107,
   "metadata": {},
   "outputs": [
    {
     "data": {
      "text/html": [
       "<div>\n",
       "<style scoped>\n",
       "    .dataframe tbody tr th:only-of-type {\n",
       "        vertical-align: middle;\n",
       "    }\n",
       "\n",
       "    .dataframe tbody tr th {\n",
       "        vertical-align: top;\n",
       "    }\n",
       "\n",
       "    .dataframe thead th {\n",
       "        text-align: right;\n",
       "    }\n",
       "</style>\n",
       "<table border=\"1\" class=\"dataframe\">\n",
       "  <thead>\n",
       "    <tr style=\"text-align: right;\">\n",
       "      <th></th>\n",
       "      <th>full_product_name</th>\n",
       "      <th>num_commas</th>\n",
       "      <th>clean_long_title</th>\n",
       "      <th>clean_short_title</th>\n",
       "    </tr>\n",
       "  </thead>\n",
       "  <tbody>\n",
       "    <tr>\n",
       "      <th>7788</th>\n",
       "      <td>Fish, mackerel, salted</td>\n",
       "      <td>2</td>\n",
       "      <td>mackerel Fish</td>\n",
       "      <td>mackerel Fish</td>\n",
       "    </tr>\n",
       "    <tr>\n",
       "      <th>7789</th>\n",
       "      <td>Mollusks, scallop, (bay and sea), cooked, steamed</td>\n",
       "      <td>4</td>\n",
       "      <td>(bay and sea) scallop Mollusks</td>\n",
       "      <td>scallop Mollusks</td>\n",
       "    </tr>\n",
       "    <tr>\n",
       "      <th>7790</th>\n",
       "      <td>Syrup, Cane</td>\n",
       "      <td>1</td>\n",
       "      <td>Cane Syrup</td>\n",
       "      <td>Cane Syrup</td>\n",
       "    </tr>\n",
       "    <tr>\n",
       "      <th>7791</th>\n",
       "      <td>Mollusks, snail, raw</td>\n",
       "      <td>2</td>\n",
       "      <td>snail Mollusks</td>\n",
       "      <td>snail Mollusks</td>\n",
       "    </tr>\n",
       "    <tr>\n",
       "      <th>7792</th>\n",
       "      <td>Turtle, green, raw</td>\n",
       "      <td>2</td>\n",
       "      <td>green Turtle</td>\n",
       "      <td>green Turtle</td>\n",
       "    </tr>\n",
       "  </tbody>\n",
       "</table>\n",
       "</div>"
      ],
      "text/plain": [
       "                                      full_product_name  num_commas  \\\n",
       "7788                             Fish, mackerel, salted           2   \n",
       "7789  Mollusks, scallop, (bay and sea), cooked, steamed           4   \n",
       "7790                                        Syrup, Cane           1   \n",
       "7791                               Mollusks, snail, raw           2   \n",
       "7792                                 Turtle, green, raw           2   \n",
       "\n",
       "                    clean_long_title clean_short_title  \n",
       "7788                   mackerel Fish     mackerel Fish  \n",
       "7789  (bay and sea) scallop Mollusks  scallop Mollusks  \n",
       "7790                      Cane Syrup        Cane Syrup  \n",
       "7791                  snail Mollusks    snail Mollusks  \n",
       "7792                    green Turtle      green Turtle  "
      ]
     },
     "execution_count": 107,
     "metadata": {},
     "output_type": "execute_result"
    }
   ],
   "source": [
    "data.tail() ##print dataframe"
   ]
  },
  {
   "cell_type": "code",
   "execution_count": 108,
   "metadata": {},
   "outputs": [],
   "source": [
    "'''\n",
    "Turn the dataframe's clean titles into a list and clean out bad case\n",
    "'''\n",
    "clean_long_titles = [x for x in list(set(data.clean_long_title)) if x != \"\"]"
   ]
  },
  {
   "cell_type": "code",
   "execution_count": 109,
   "metadata": {},
   "outputs": [],
   "source": [
    "'''\n",
    "Turn the dataframe's clean titles into a list and clean out bad case\n",
    "'''\n",
    "clean_short_titles = [x for x in list(set(data.clean_short_title)) if x != \"\"]"
   ]
  },
  {
   "cell_type": "code",
   "execution_count": 110,
   "metadata": {},
   "outputs": [],
   "source": [
    "'''\n",
    "Save the lists as a json file\n",
    "'''\n",
    "with open('cleaned_long_SR_Legacy_data.json', 'w') as outfile:\n",
    "    json.dump(clean_titles, outfile)\n",
    "    \n",
    "with open('cleaned_short_SR_Legacy_data.json', 'w') as outfile:\n",
    "    json.dump(clean_titles, outfile)"
   ]
  },
  {
   "cell_type": "code",
   "execution_count": 111,
   "metadata": {},
   "outputs": [],
   "source": [
    "'''\n",
    "Put clean data in csv so we can visualize it\n",
    "'''\n",
    "# csvfile = 'cleaned_SR_Legacy_data.csv'\n",
    "# with open(csvfile, \"w\") as fp:\n",
    "#     wr = csv.writer(fp, dialect='excel')\n",
    "# #     wr.writerows(clean_titles)\n",
    "#     wr.writerow(['title'])\n",
    "#     for row in clean_titles:\n",
    "#         wr.writerow([row])\n",
    "\n",
    "csvfile = 'cleaned_SR_Legacy_data.csv'\n",
    "with open(csvfile, \"w\") as fp:\n",
    "    wr = csv.writer(fp, dialect='excel')\n",
    "#     wr.writerows(clean_titles)\n",
    "    wr.writerow(['long clean title', 'short clean title'])\n",
    "    for i in range(len(data)):\n",
    "        wr.writerow([data.clean_long_title[i], data.clean_short_title[i]])"
   ]
  },
  {
   "cell_type": "code",
   "execution_count": null,
   "metadata": {},
   "outputs": [],
   "source": []
  }
 ],
 "metadata": {
  "kernelspec": {
   "display_name": "Python 3",
   "language": "python",
   "name": "python3"
  },
  "language_info": {
   "codemirror_mode": {
    "name": "ipython",
    "version": 3
   },
   "file_extension": ".py",
   "mimetype": "text/x-python",
   "name": "python",
   "nbconvert_exporter": "python",
   "pygments_lexer": "ipython3",
   "version": "3.7.2"
  }
 },
 "nbformat": 4,
 "nbformat_minor": 2
}
