{
 "cells": [
  {
   "cell_type": "code",
   "execution_count": 4,
   "metadata": {},
   "outputs": [],
   "source": [
    "import csv"
   ]
  },
  {
   "cell_type": "code",
   "execution_count": 5,
   "metadata": {},
   "outputs": [],
   "source": [
    "#Read the text file with all the SR_Legacy food items \n",
    "f = open('../data/FOOD_DES.txt', \"r\", encoding = \"ISO-8859-1\")\n",
    "lines = f.readlines()\n",
    "f.close()"
   ]
  },
  {
   "cell_type": "code",
   "execution_count": 6,
   "metadata": {},
   "outputs": [],
   "source": [
    "#Line by line, grab only relevant information from each row of the text file to save to txt\n",
    "csv_lines = []\n",
    "for line in lines:\n",
    "    line_tokens = line.split('~^~') # sample line: ~01003~^~0100~^~Butter oil, anhydrous~^~ ....\n",
    "                                    # '01003' = NBDID\n",
    "                                    # 'Butter oil, anhydrous' = full product name \n",
    "    line_relevant = [line_tokens[0][1:], line_tokens[2]] \n",
    "    csv_lines.append(line_relevant)"
   ]
  },
  {
   "cell_type": "code",
   "execution_count": 7,
   "metadata": {},
   "outputs": [],
   "source": [
    "with open('../data/sr_legacy_products.csv', 'w') as writeFile:\n",
    "    writer = csv.writer(writeFile)\n",
    "    writer.writerow(['NBDID', 'full-Product_name'])\n",
    "    writer.writerows(csv_lines)\n",
    "\n",
    "writeFile.close()"
   ]
  },
  {
   "cell_type": "code",
   "execution_count": null,
   "metadata": {},
   "outputs": [],
   "source": []
  }
 ],
 "metadata": {
  "kernelspec": {
   "display_name": "Python 3",
   "language": "python",
   "name": "python3"
  },
  "language_info": {
   "codemirror_mode": {
    "name": "ipython",
    "version": 3
   },
   "file_extension": ".py",
   "mimetype": "text/x-python",
   "name": "python",
   "nbconvert_exporter": "python",
   "pygments_lexer": "ipython3",
   "version": "3.7.2"
  }
 },
 "nbformat": 4,
 "nbformat_minor": 2
}
