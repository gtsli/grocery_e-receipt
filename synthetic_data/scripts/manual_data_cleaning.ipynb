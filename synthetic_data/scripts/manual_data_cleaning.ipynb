{
 "cells": [
  {
   "cell_type": "code",
   "execution_count": 100,
   "metadata": {},
   "outputs": [],
   "source": [
    "'''\n",
    "import libraries and set print options\n",
    "'''\n",
    "import pandas as pd\n",
    "import csv\n",
    "pd.set_option('display.max_rows', 1000)"
   ]
  },
  {
   "cell_type": "code",
   "execution_count": 101,
   "metadata": {},
   "outputs": [
    {
     "data": {
      "text/html": [
       "<div>\n",
       "<style scoped>\n",
       "    .dataframe tbody tr th:only-of-type {\n",
       "        vertical-align: middle;\n",
       "    }\n",
       "\n",
       "    .dataframe tbody tr th {\n",
       "        vertical-align: top;\n",
       "    }\n",
       "\n",
       "    .dataframe thead th {\n",
       "        text-align: right;\n",
       "    }\n",
       "</style>\n",
       "<table border=\"1\" class=\"dataframe\">\n",
       "  <thead>\n",
       "    <tr style=\"text-align: right;\">\n",
       "      <th></th>\n",
       "      <th>receipt_name</th>\n",
       "      <th>full_product_title</th>\n",
       "      <th>general_product_title</th>\n",
       "      <th>store</th>\n",
       "      <th>product_database</th>\n",
       "    </tr>\n",
       "  </thead>\n",
       "  <tbody>\n",
       "    <tr>\n",
       "      <th>0</th>\n",
       "      <td>ORGANIC GALA APPLE</td>\n",
       "      <td>Organic gala apples</td>\n",
       "      <td>Apples</td>\n",
       "      <td>Publix</td>\n",
       "      <td>Organic gala apples</td>\n",
       "    </tr>\n",
       "    <tr>\n",
       "      <th>1</th>\n",
       "      <td>ACT STRWBY/BLUEBRY</td>\n",
       "      <td>Activia Probiotic Yogurt</td>\n",
       "      <td>Yogurt</td>\n",
       "      <td>Publix</td>\n",
       "      <td>DANNON ACTIVIA FIBER PROBIOTIC LOWFAT YOGURT ...</td>\n",
       "    </tr>\n",
       "    <tr>\n",
       "      <th>2</th>\n",
       "      <td>OREO THINS PISTACH</td>\n",
       "      <td>Oreo Thins Pistachio</td>\n",
       "      <td>Oreos</td>\n",
       "      <td>Publix</td>\n",
       "      <td>OREO THINS COOKIES PISTACHIO 1X10.1 OZ</td>\n",
       "    </tr>\n",
       "    <tr>\n",
       "      <th>3</th>\n",
       "      <td>OG GW BABY SPINACH</td>\n",
       "      <td>Organic baby spinach</td>\n",
       "      <td>Spinach</td>\n",
       "      <td>Publix</td>\n",
       "      <td>ORGANIC BABY SPINACH</td>\n",
       "    </tr>\n",
       "    <tr>\n",
       "      <th>4</th>\n",
       "      <td>PAPAYA MARADOL</td>\n",
       "      <td>Papaya</td>\n",
       "      <td>Papaya</td>\n",
       "      <td>Publix</td>\n",
       "      <td>PAPAYA CHUNKS</td>\n",
       "    </tr>\n",
       "  </tbody>\n",
       "</table>\n",
       "</div>"
      ],
      "text/plain": [
       "          receipt_name          full_product_title general_product_title  \\\n",
       "0  ORGANIC GALA APPLE         Organic gala apples                Apples    \n",
       "1  ACT STRWBY/BLUEBRY    Activia Probiotic Yogurt                Yogurt    \n",
       "2  OREO THINS PISTACH        Oreo Thins Pistachio                 Oreos    \n",
       "3  OG GW BABY SPINACH        Organic baby spinach               Spinach    \n",
       "4      PAPAYA MARADOL                      Papaya                Papaya    \n",
       "\n",
       "      store                                   product_database  \n",
       "0   Publix                                 Organic gala apples  \n",
       "1   Publix    DANNON ACTIVIA FIBER PROBIOTIC LOWFAT YOGURT ...  \n",
       "2   Publix              OREO THINS COOKIES PISTACHIO 1X10.1 OZ  \n",
       "3   Publix                                ORGANIC BABY SPINACH  \n",
       "4   Publix                                       PAPAYA CHUNKS  "
      ]
     },
     "execution_count": 101,
     "metadata": {},
     "output_type": "execute_result"
    }
   ],
   "source": [
    "'''\n",
    "get data from receipt data manual csv. Keep a clean copy for later reference\n",
    "'''\n",
    "\n",
    "data = pd.read_csv('../data/receipt_data_manual.csv') ##read csv as a dataframe\n",
    "full_data = data.copy()\n",
    "data.head() ## show the top 5"
   ]
  },
  {
   "cell_type": "code",
   "execution_count": 102,
   "metadata": {},
   "outputs": [],
   "source": [
    "'''\n",
    "clean nulls to blanks. Stip extra spaces\n",
    "'''\n",
    "for i in range(len(data.product_database)):\n",
    "    if (pd.isnull(data.product_database[i])):\n",
    "        data.product_database[i]=''\n",
    "    else:\n",
    "        data.product_database[i] = data.product_database[i].strip()"
   ]
  },
  {
   "cell_type": "markdown",
   "metadata": {},
   "source": [
    "## RULES:\n",
    "### - The zeroth index seems to be brand for the most part (few exceptions)\n",
    "### - When there are 3 items, the first index is the main product with the 2nd index being a descriptor/flavor/type\n",
    "### - When there are 4 items (only ~4k examples), the 2nd index is the product, the 0th index is still brand, the 3rd index is the descriptor"
   ]
  },
  {
   "cell_type": "markdown",
   "metadata": {},
   "source": [
    "# Data Cleaning - Process Is Commented"
   ]
  },
  {
   "cell_type": "code",
   "execution_count": 103,
   "metadata": {},
   "outputs": [
    {
     "data": {
      "text/html": [
       "<div>\n",
       "<style scoped>\n",
       "    .dataframe tbody tr th:only-of-type {\n",
       "        vertical-align: middle;\n",
       "    }\n",
       "\n",
       "    .dataframe tbody tr th {\n",
       "        vertical-align: top;\n",
       "    }\n",
       "\n",
       "    .dataframe thead th {\n",
       "        text-align: right;\n",
       "    }\n",
       "</style>\n",
       "<table border=\"1\" class=\"dataframe\">\n",
       "  <thead>\n",
       "    <tr style=\"text-align: right;\">\n",
       "      <th></th>\n",
       "      <th>product_database</th>\n",
       "    </tr>\n",
       "  </thead>\n",
       "  <tbody>\n",
       "    <tr>\n",
       "      <th>0</th>\n",
       "      <td>Organic gala apples</td>\n",
       "    </tr>\n",
       "    <tr>\n",
       "      <th>1</th>\n",
       "      <td>DANNON ACTIVIA FIBER PROBIOTIC LOWFAT YOGURT S...</td>\n",
       "    </tr>\n",
       "    <tr>\n",
       "      <th>2</th>\n",
       "      <td>OREO THINS COOKIES PISTACHIO 1X10.1 OZ</td>\n",
       "    </tr>\n",
       "    <tr>\n",
       "      <th>3</th>\n",
       "      <td>ORGANIC BABY SPINACH</td>\n",
       "    </tr>\n",
       "    <tr>\n",
       "      <th>4</th>\n",
       "      <td>PAPAYA CHUNKS</td>\n",
       "    </tr>\n",
       "  </tbody>\n",
       "</table>\n",
       "</div>"
      ],
      "text/plain": [
       "                                    product_database\n",
       "0                                Organic gala apples\n",
       "1  DANNON ACTIVIA FIBER PROBIOTIC LOWFAT YOGURT S...\n",
       "2             OREO THINS COOKIES PISTACHIO 1X10.1 OZ\n",
       "3                               ORGANIC BABY SPINACH\n",
       "4                                      PAPAYA CHUNKS"
      ]
     },
     "execution_count": 103,
     "metadata": {},
     "output_type": "execute_result"
    }
   ],
   "source": [
    "'''\n",
    "Drop irrelevant columns\n",
    "'''\n",
    "\n",
    "if 'no_brand_descriptor_title' in data.columns:\n",
    "    DROP_COLS = [\n",
    "        'receipt_name',\n",
    "        'full_product_title',\n",
    "        'general_product_title',\n",
    "        'store',\n",
    "        'no_brand_descriptor_title', \n",
    "        'no_descriptor_title'\n",
    "    ]\n",
    "else:\n",
    "    DROP_COLS = [\n",
    "        'receipt_name',\n",
    "        'full_product_title',\n",
    "        'general_product_title',\n",
    "        'store'\n",
    "    ]\n",
    "data = data.drop(DROP_COLS, axis=1) ## drop unnecessary columns for now\n",
    "data.head()"
   ]
  },
  {
   "cell_type": "code",
   "execution_count": 104,
   "metadata": {},
   "outputs": [
    {
     "name": "stderr",
     "output_type": "stream",
     "text": [
      "/Library/Frameworks/Python.framework/Versions/3.7/lib/python3.7/site-packages/ipykernel_launcher.py:9: SettingWithCopyWarning: \n",
      "A value is trying to be set on a copy of a slice from a DataFrame\n",
      "\n",
      "See the caveats in the documentation: http://pandas.pydata.org/pandas-docs/stable/indexing.html#indexing-view-versus-copy\n",
      "  if __name__ == '__main__':\n"
     ]
    }
   ],
   "source": [
    "'''\n",
    "Find the number of commas in each title and only use those with less than 5\n",
    "'''\n",
    "data['num_commas'] = data.apply(lambda x: len(x.product_database.split(\",\"))-1, axis=1)\n",
    "\n",
    "# data = data[data['num_commas'] < 4]\n",
    "for index in range(len(data.product_database)):\n",
    "    if (data.num_commas[index] >= 4):\n",
    "        data.product_database[index] = ''"
   ]
  },
  {
   "cell_type": "code",
   "execution_count": 105,
   "metadata": {},
   "outputs": [
    {
     "data": {
      "text/plain": [
       "444"
      ]
     },
     "execution_count": 105,
     "metadata": {},
     "output_type": "execute_result"
    }
   ],
   "source": [
    "len(data)"
   ]
  },
  {
   "cell_type": "code",
   "execution_count": 106,
   "metadata": {},
   "outputs": [],
   "source": [
    "'''\n",
    "This will keep brands and separate it from the rest of the titles with a \",\". EX: \"FRESH & EASY, CANOLA OIL\"\n",
    "'''\n",
    "def remove_descriptor(x):\n",
    "    x_ = x.split(\",\")\n",
    "    if len(x_) == 2 or len(x_) == 3:\n",
    "        if 'fl oz' in x_[1]:\n",
    "            return x_[0].strip()\n",
    "        else:\n",
    "            return x_[0].strip() + \", \" + x_[1].strip()\n",
    "    elif len(x_) == 4:\n",
    "        return x_[0].strip() + \", \" + x_[2].strip()\n",
    "    else:\n",
    "        return x_[0].strip()"
   ]
  },
  {
   "cell_type": "code",
   "execution_count": 107,
   "metadata": {},
   "outputs": [],
   "source": [
    "'''\n",
    "This will keep brands and separate it from the rest of the titles with a \",\". EX: \"FRESH & EASY, CANOLA OIL\"\n",
    "'''\n",
    "def remove_brand_descriptor(x):\n",
    "    x_ = x.split(\",\")\n",
    "    \n",
    "    if len(x_) > 1:\n",
    "        if 'fl oz' in x_[1]:\n",
    "            return x_[0].strip()\n",
    "        else:\n",
    "            return x_[1].strip()\n",
    "    elif len(x_) == 4:\n",
    "        return x_[2].strip()\n",
    "    else:\n",
    "        return x_[0].strip()"
   ]
  },
  {
   "cell_type": "code",
   "execution_count": 108,
   "metadata": {},
   "outputs": [],
   "source": [
    "'''\n",
    "Apply the 2 methods to obtain two different columns with the cleaning process applied\n",
    "'''\n",
    "data['no_brand_descriptor_title'] = data.apply(lambda x: remove_brand_descriptor(x.product_database), axis=1)\n",
    "data['no_descriptor_title'] = data.apply(lambda x: remove_descriptor(x.product_database), axis=1)"
   ]
  },
  {
   "cell_type": "code",
   "execution_count": 109,
   "metadata": {},
   "outputs": [
    {
     "data": {
      "text/html": [
       "<div>\n",
       "<style scoped>\n",
       "    .dataframe tbody tr th:only-of-type {\n",
       "        vertical-align: middle;\n",
       "    }\n",
       "\n",
       "    .dataframe tbody tr th {\n",
       "        vertical-align: top;\n",
       "    }\n",
       "\n",
       "    .dataframe thead th {\n",
       "        text-align: right;\n",
       "    }\n",
       "</style>\n",
       "<table border=\"1\" class=\"dataframe\">\n",
       "  <thead>\n",
       "    <tr style=\"text-align: right;\">\n",
       "      <th></th>\n",
       "      <th>product_database</th>\n",
       "      <th>num_commas</th>\n",
       "      <th>no_brand_descriptor_title</th>\n",
       "      <th>no_descriptor_title</th>\n",
       "    </tr>\n",
       "  </thead>\n",
       "  <tbody>\n",
       "    <tr>\n",
       "      <th>439</th>\n",
       "      <td>SEA SCALLOPS</td>\n",
       "      <td>0</td>\n",
       "      <td>SEA SCALLOPS</td>\n",
       "      <td>SEA SCALLOPS</td>\n",
       "    </tr>\n",
       "    <tr>\n",
       "      <th>440</th>\n",
       "      <td>PHILADELPHIA CREAM CHEESE-SOFT LIGHT</td>\n",
       "      <td>0</td>\n",
       "      <td>PHILADELPHIA CREAM CHEESE-SOFT LIGHT</td>\n",
       "      <td>PHILADELPHIA CREAM CHEESE-SOFT LIGHT</td>\n",
       "    </tr>\n",
       "    <tr>\n",
       "      <th>441</th>\n",
       "      <td>CORN</td>\n",
       "      <td>0</td>\n",
       "      <td>CORN</td>\n",
       "      <td>CORN</td>\n",
       "    </tr>\n",
       "    <tr>\n",
       "      <th>442</th>\n",
       "      <td>NESTLE, GRAND ASSORTED CHOCOLATE</td>\n",
       "      <td>1</td>\n",
       "      <td>GRAND ASSORTED CHOCOLATE</td>\n",
       "      <td>NESTLE, GRAND ASSORTED CHOCOLATE</td>\n",
       "    </tr>\n",
       "    <tr>\n",
       "      <th>443</th>\n",
       "      <td>PHILADELPHIA CREAM CHEESE-SOFT LIGHT</td>\n",
       "      <td>0</td>\n",
       "      <td>PHILADELPHIA CREAM CHEESE-SOFT LIGHT</td>\n",
       "      <td>PHILADELPHIA CREAM CHEESE-SOFT LIGHT</td>\n",
       "    </tr>\n",
       "  </tbody>\n",
       "</table>\n",
       "</div>"
      ],
      "text/plain": [
       "                         product_database  num_commas  \\\n",
       "439                          SEA SCALLOPS           0   \n",
       "440  PHILADELPHIA CREAM CHEESE-SOFT LIGHT           0   \n",
       "441                                  CORN           0   \n",
       "442      NESTLE, GRAND ASSORTED CHOCOLATE           1   \n",
       "443  PHILADELPHIA CREAM CHEESE-SOFT LIGHT           0   \n",
       "\n",
       "                no_brand_descriptor_title  \\\n",
       "439                          SEA SCALLOPS   \n",
       "440  PHILADELPHIA CREAM CHEESE-SOFT LIGHT   \n",
       "441                                  CORN   \n",
       "442              GRAND ASSORTED CHOCOLATE   \n",
       "443  PHILADELPHIA CREAM CHEESE-SOFT LIGHT   \n",
       "\n",
       "                      no_descriptor_title  \n",
       "439                          SEA SCALLOPS  \n",
       "440  PHILADELPHIA CREAM CHEESE-SOFT LIGHT  \n",
       "441                                  CORN  \n",
       "442      NESTLE, GRAND ASSORTED CHOCOLATE  \n",
       "443  PHILADELPHIA CREAM CHEESE-SOFT LIGHT  "
      ]
     },
     "execution_count": 109,
     "metadata": {},
     "output_type": "execute_result"
    }
   ],
   "source": [
    "data.tail() ##print dataframe"
   ]
  },
  {
   "cell_type": "code",
   "execution_count": 110,
   "metadata": {},
   "outputs": [],
   "source": [
    "'''\n",
    "Get rid of leading and ending spaces, make all one case, in csv file\n",
    "'''\n",
    "        \n",
    "for i in range(len(full_data.product_database)):\n",
    "    full_data.receipt_name[i] = '' if pd.isnull(full_data.receipt_name[i]) else (full_data.receipt_name[i].upper()).strip()\n",
    "    full_data.full_product_title[i] = '' if pd.isnull(full_data.full_product_title[i]) else (full_data.full_product_title[i].lower()).strip()\n",
    "    full_data.general_product_title[i] = '' if pd.isnull(full_data.general_product_title[i]) else (full_data.general_product_title[i].lower()).strip()\n",
    "    full_data.store[i] = '' if pd.isnull(full_data.store[i]) else (full_data.store[i].lower()).strip()"
   ]
  },
  {
   "cell_type": "code",
   "execution_count": 111,
   "metadata": {},
   "outputs": [],
   "source": [
    "'''\n",
    "Create csv rows where there is a product match. Put all unmatched products in a separate file. Don't include duplicates\n",
    "'''\n",
    "csvRows = []\n",
    "no_match_row = []\n",
    "normal_set = set([\"a\"])\n",
    "csvRows.append(['receipt_name', 'full_product_title', 'general_product_title', 'store', 'database', 'no_brand_descriptor_title', 'no_descriptor_title'])\n",
    "for i in range(len(full_data.product_database)):\n",
    "    if (full_data.receipt_name[i] not in normal_set):\n",
    "        normal_set.add(full_data.receipt_name[i])\n",
    "        if (data.product_database[i] == ''):\n",
    "            no_match_row.append([full_data.receipt_name[i], full_data.full_product_title[i], full_data.general_product_title[i], full_data.store[i]])\n",
    "        else:\n",
    "            csvRows.append([full_data.receipt_name[i], full_data.full_product_title[i], full_data.general_product_title[i], full_data.store[i], data.product_database[i], data.no_brand_descriptor_title[i], data.no_descriptor_title[i]])"
   ]
  },
  {
   "cell_type": "code",
   "execution_count": 112,
   "metadata": {},
   "outputs": [],
   "source": [
    "'''\n",
    "Create new, cleaned csv of manual data\n",
    "'''\n",
    "csvfile = '../data/cleaned_receipt_data_manual.csv'\n",
    "with open(csvfile, \"w\") as fp:\n",
    "    wr = csv.writer(fp, dialect='excel')\n",
    "    wr.writerows(csvRows)"
   ]
  },
  {
   "cell_type": "code",
   "execution_count": 113,
   "metadata": {},
   "outputs": [],
   "source": [
    "'''\n",
    "Create csv of manual data with no matches\n",
    "'''\n",
    "csvfile = '../data/no_matches_manual_data.csv'\n",
    "with open(csvfile, \"w\") as fp:\n",
    "    wr = csv.writer(fp, dialect='excel')\n",
    "    wr.writerows(no_match_row)"
   ]
  },
  {
   "cell_type": "code",
   "execution_count": null,
   "metadata": {},
   "outputs": [],
   "source": []
  }
 ],
 "metadata": {
  "kernelspec": {
   "display_name": "Python 3",
   "language": "python",
   "name": "python3"
  },
  "language_info": {
   "codemirror_mode": {
    "name": "ipython",
    "version": 3
   },
   "file_extension": ".py",
   "mimetype": "text/x-python",
   "name": "python",
   "nbconvert_exporter": "python",
   "pygments_lexer": "ipython3",
   "version": "3.7.2"
  }
 },
 "nbformat": 4,
 "nbformat_minor": 2
}
