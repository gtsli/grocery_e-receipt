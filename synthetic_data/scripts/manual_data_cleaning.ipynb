{
 "cells": [
  {
   "cell_type": "code",
   "execution_count": 1,
   "metadata": {},
   "outputs": [],
   "source": [
    "'''\n",
    "import libraries and set print options\n",
    "'''\n",
    "import pandas as pd\n",
    "import numpy as np\n",
    "import matplotlib.pyplot as plt\n",
    "import csv\n",
    "pd.set_option('display.max_rows', 1000)"
   ]
  },
  {
   "cell_type": "markdown",
   "metadata": {},
   "source": [
    "# Exploratory Data Analysis - DISREGARD"
   ]
  },
  {
   "cell_type": "code",
   "execution_count": 2,
   "metadata": {},
   "outputs": [
    {
     "data": {
      "text/html": [
       "<div>\n",
       "<style scoped>\n",
       "    .dataframe tbody tr th:only-of-type {\n",
       "        vertical-align: middle;\n",
       "    }\n",
       "\n",
       "    .dataframe tbody tr th {\n",
       "        vertical-align: top;\n",
       "    }\n",
       "\n",
       "    .dataframe thead th {\n",
       "        text-align: right;\n",
       "    }\n",
       "</style>\n",
       "<table border=\"1\" class=\"dataframe\">\n",
       "  <thead>\n",
       "    <tr style=\"text-align: right;\">\n",
       "      <th></th>\n",
       "      <th>receipt_name</th>\n",
       "      <th>full_product_title</th>\n",
       "      <th>general_product_title</th>\n",
       "      <th>store</th>\n",
       "      <th>database</th>\n",
       "      <th>no_brand_descriptor_title</th>\n",
       "      <th>no_descriptor_title</th>\n",
       "    </tr>\n",
       "  </thead>\n",
       "  <tbody>\n",
       "    <tr>\n",
       "      <th>0</th>\n",
       "      <td>ORGANIC GALA APPLE</td>\n",
       "      <td>organic gala apples</td>\n",
       "      <td>apples</td>\n",
       "      <td>publix</td>\n",
       "      <td>Organic gala apples</td>\n",
       "      <td>Organic gala apples</td>\n",
       "      <td>Organic gala apples</td>\n",
       "    </tr>\n",
       "    <tr>\n",
       "      <th>1</th>\n",
       "      <td>ACT STRWBY/BLUEBRY</td>\n",
       "      <td>activia probiotic yogurt</td>\n",
       "      <td>yogurt</td>\n",
       "      <td>publix</td>\n",
       "      <td>DANNON ACTIVIA FIBER PROBIOTIC LOWFAT YOGURT S...</td>\n",
       "      <td>DANNON ACTIVIA FIBER PROBIOTIC LOWFAT YOGURT S...</td>\n",
       "      <td>DANNON ACTIVIA FIBER PROBIOTIC LOWFAT YOGURT S...</td>\n",
       "    </tr>\n",
       "    <tr>\n",
       "      <th>2</th>\n",
       "      <td>OREO THINS PISTACH</td>\n",
       "      <td>oreo thins pistachio</td>\n",
       "      <td>oreos</td>\n",
       "      <td>publix</td>\n",
       "      <td>OREO THINS COOKIES PISTACHIO 1X10.1 OZ</td>\n",
       "      <td>OREO THINS COOKIES PISTACHIO 1X10.1 OZ</td>\n",
       "      <td>OREO THINS COOKIES PISTACHIO 1X10.1 OZ</td>\n",
       "    </tr>\n",
       "    <tr>\n",
       "      <th>3</th>\n",
       "      <td>OG GW BABY SPINACH</td>\n",
       "      <td>organic baby spinach</td>\n",
       "      <td>spinach</td>\n",
       "      <td>publix</td>\n",
       "      <td>ORGANIC BABY SPINACH</td>\n",
       "      <td>ORGANIC BABY SPINACH</td>\n",
       "      <td>ORGANIC BABY SPINACH</td>\n",
       "    </tr>\n",
       "    <tr>\n",
       "      <th>4</th>\n",
       "      <td>PAPAYA MARADOL</td>\n",
       "      <td>papaya</td>\n",
       "      <td>papaya</td>\n",
       "      <td>publix</td>\n",
       "      <td>PAPAYA CHUNKS</td>\n",
       "      <td>PAPAYA CHUNKS</td>\n",
       "      <td>PAPAYA CHUNKS</td>\n",
       "    </tr>\n",
       "  </tbody>\n",
       "</table>\n",
       "</div>"
      ],
      "text/plain": [
       "         receipt_name        full_product_title general_product_title   store  \\\n",
       "0  ORGANIC GALA APPLE       organic gala apples                apples  publix   \n",
       "1  ACT STRWBY/BLUEBRY  activia probiotic yogurt                yogurt  publix   \n",
       "2  OREO THINS PISTACH      oreo thins pistachio                 oreos  publix   \n",
       "3  OG GW BABY SPINACH      organic baby spinach               spinach  publix   \n",
       "4      PAPAYA MARADOL                    papaya                papaya  publix   \n",
       "\n",
       "                                            database  \\\n",
       "0                                Organic gala apples   \n",
       "1  DANNON ACTIVIA FIBER PROBIOTIC LOWFAT YOGURT S...   \n",
       "2             OREO THINS COOKIES PISTACHIO 1X10.1 OZ   \n",
       "3                               ORGANIC BABY SPINACH   \n",
       "4                                      PAPAYA CHUNKS   \n",
       "\n",
       "                           no_brand_descriptor_title  \\\n",
       "0                                Organic gala apples   \n",
       "1  DANNON ACTIVIA FIBER PROBIOTIC LOWFAT YOGURT S...   \n",
       "2             OREO THINS COOKIES PISTACHIO 1X10.1 OZ   \n",
       "3                               ORGANIC BABY SPINACH   \n",
       "4                                      PAPAYA CHUNKS   \n",
       "\n",
       "                                 no_descriptor_title  \n",
       "0                                Organic gala apples  \n",
       "1  DANNON ACTIVIA FIBER PROBIOTIC LOWFAT YOGURT S...  \n",
       "2             OREO THINS COOKIES PISTACHIO 1X10.1 OZ  \n",
       "3                               ORGANIC BABY SPINACH  \n",
       "4                                      PAPAYA CHUNKS  "
      ]
     },
     "execution_count": 2,
     "metadata": {},
     "output_type": "execute_result"
    }
   ],
   "source": [
    "data = pd.read_csv('../data/receipt_data_manual.csv') ##read csv as a dataframe\n",
    "full_data = data.copy()\n",
    "data.head() ## show the top 5"
   ]
  },
  {
   "cell_type": "code",
   "execution_count": 3,
   "metadata": {},
   "outputs": [],
   "source": [
    "for i in range(len(data.database)):\n",
    "    if (pd.isnull(data.database[i])):\n",
    "        data.database[i]=''\n",
    "    else:\n",
    "        data.database[i] = data.database[i].strip()"
   ]
  },
  {
   "cell_type": "code",
   "execution_count": 4,
   "metadata": {},
   "outputs": [
    {
     "data": {
      "text/plain": [
       "448"
      ]
     },
     "execution_count": 4,
     "metadata": {},
     "output_type": "execute_result"
    }
   ],
   "source": [
    "titles = data.database.tolist() ## get the long_name column into a list\n",
    "len(titles) ## print the length"
   ]
  },
  {
   "cell_type": "code",
   "execution_count": 5,
   "metadata": {},
   "outputs": [
    {
     "data": {
      "text/plain": [
       "['LINDT',\n",
       " \"GT'S\",\n",
       " 'LACROIX',\n",
       " 'LACROIX',\n",
       " 'Coca-Cola Zero Sugar Bottle',\n",
       " 'Sprite Bottle',\n",
       " 'Coca-Cola Cherry Bottles',\n",
       " \"CARROLL SHELBY'S\",\n",
       " 'RED BARRON',\n",
       " 'TERANA']"
      ]
     },
     "execution_count": 5,
     "metadata": {},
     "output_type": "execute_result"
    }
   ],
   "source": [
    "possible_brands = [x.split(\",\")[0] for x in titles if len(x.split(\",\")) > 1] ## what is the 0th index for items with commas\n",
    "possible_brands[:10]"
   ]
  },
  {
   "cell_type": "code",
   "execution_count": 6,
   "metadata": {},
   "outputs": [
    {
     "name": "stdout",
     "output_type": "stream",
     "text": [
      "2\n"
     ]
    },
    {
     "data": {
      "text/plain": [
       "['RED BARRON, PIZZA, SAUSAGE, SUPREME', 'BARCEL, TAKIS, TORTILLA CHIPS, HOT']"
      ]
     },
     "execution_count": 6,
     "metadata": {},
     "output_type": "execute_result"
    }
   ],
   "source": [
    "possible_brands = [x for x in titles if len(x.split(\",\")) == 4]\n",
    "print (len(possible_brands))\n",
    "possible_brands"
   ]
  },
  {
   "cell_type": "markdown",
   "metadata": {},
   "source": [
    "## RULES:\n",
    "### - The zeroth index seems to be brand for the most part (few exceptions)\n",
    "### - When there are 3 items, the first index is the main product with the 2nd index being a descriptor/flavor/type\n",
    "### - When there are 4 items (only ~4k examples), the 2nd index is the product, the 0th index is still brand, the 3rd index is the descriptor"
   ]
  },
  {
   "cell_type": "markdown",
   "metadata": {},
   "source": [
    "# Data Cleaning - Process Is Commented"
   ]
  },
  {
   "cell_type": "code",
   "execution_count": 7,
   "metadata": {},
   "outputs": [
    {
     "data": {
      "text/html": [
       "<div>\n",
       "<style scoped>\n",
       "    .dataframe tbody tr th:only-of-type {\n",
       "        vertical-align: middle;\n",
       "    }\n",
       "\n",
       "    .dataframe tbody tr th {\n",
       "        vertical-align: top;\n",
       "    }\n",
       "\n",
       "    .dataframe thead th {\n",
       "        text-align: right;\n",
       "    }\n",
       "</style>\n",
       "<table border=\"1\" class=\"dataframe\">\n",
       "  <thead>\n",
       "    <tr style=\"text-align: right;\">\n",
       "      <th></th>\n",
       "      <th>database</th>\n",
       "    </tr>\n",
       "  </thead>\n",
       "  <tbody>\n",
       "    <tr>\n",
       "      <th>0</th>\n",
       "      <td>Organic gala apples</td>\n",
       "    </tr>\n",
       "    <tr>\n",
       "      <th>1</th>\n",
       "      <td>DANNON ACTIVIA FIBER PROBIOTIC LOWFAT YOGURT S...</td>\n",
       "    </tr>\n",
       "    <tr>\n",
       "      <th>2</th>\n",
       "      <td>OREO THINS COOKIES PISTACHIO 1X10.1 OZ</td>\n",
       "    </tr>\n",
       "    <tr>\n",
       "      <th>3</th>\n",
       "      <td>ORGANIC BABY SPINACH</td>\n",
       "    </tr>\n",
       "    <tr>\n",
       "      <th>4</th>\n",
       "      <td>PAPAYA CHUNKS</td>\n",
       "    </tr>\n",
       "  </tbody>\n",
       "</table>\n",
       "</div>"
      ],
      "text/plain": [
       "                                            database\n",
       "0                                Organic gala apples\n",
       "1  DANNON ACTIVIA FIBER PROBIOTIC LOWFAT YOGURT S...\n",
       "2             OREO THINS COOKIES PISTACHIO 1X10.1 OZ\n",
       "3                               ORGANIC BABY SPINACH\n",
       "4                                      PAPAYA CHUNKS"
      ]
     },
     "execution_count": 7,
     "metadata": {},
     "output_type": "execute_result"
    }
   ],
   "source": [
    "if 'no_brand_descriptor_title' in data.columns:\n",
    "    DROP_COLS = [\n",
    "        'receipt_name',\n",
    "        'full_product_title',\n",
    "        'general_product_title',\n",
    "        'store',\n",
    "        'no_brand_descriptor_title', \n",
    "        'no_descriptor_title'\n",
    "    ]\n",
    "else:\n",
    "    DROP_COLS = [\n",
    "        'receipt_name',\n",
    "        'full_product_title',\n",
    "        'general_product_title',\n",
    "        'store'\n",
    "    ]\n",
    "data = data.drop(DROP_COLS, axis=1) ## drop unnecessary columns for now\n",
    "data.head()"
   ]
  },
  {
   "cell_type": "code",
   "execution_count": 8,
   "metadata": {},
   "outputs": [],
   "source": [
    "'''\n",
    "Find the number of commas in each title and only use those with less than 5\n",
    "'''\n",
    "data['num_commas'] = data.apply(lambda x: len(x.database.split(\",\"))-1, axis=1)\n",
    "\n",
    "# data = data[data['num_commas'] < 4]\n",
    "for index in range(len(data.database)):\n",
    "    if (data.num_commas[index] >= 4):\n",
    "        data.database[index] = ''"
   ]
  },
  {
   "cell_type": "code",
   "execution_count": 9,
   "metadata": {},
   "outputs": [
    {
     "data": {
      "text/plain": [
       "448"
      ]
     },
     "execution_count": 9,
     "metadata": {},
     "output_type": "execute_result"
    }
   ],
   "source": [
    "len(data)"
   ]
  },
  {
   "cell_type": "code",
   "execution_count": 10,
   "metadata": {},
   "outputs": [],
   "source": [
    "'''\n",
    "This will keep brands and separate it from the rest of the titles with a \",\". EX: \"FRESH & EASY, CANOLA OIL\"\n",
    "'''\n",
    "def remove_descriptor(x):\n",
    "    x_ = x.split(\",\")\n",
    "    if len(x_) == 2 or len(x_) == 3:\n",
    "        if 'fl oz' in x_[1]:\n",
    "            return x_[0].strip()\n",
    "        else:\n",
    "            return x_[0].strip() + \", \" + x_[1].strip()\n",
    "    elif len(x_) == 4:\n",
    "        return x_[0].strip() + \", \" + x_[2].strip()\n",
    "    else:\n",
    "        return x_[0].strip()"
   ]
  },
  {
   "cell_type": "code",
   "execution_count": 11,
   "metadata": {},
   "outputs": [],
   "source": [
    "'''\n",
    "This will keep brands and separate it from the rest of the titles with a \",\". EX: \"FRESH & EASY, CANOLA OIL\"\n",
    "'''\n",
    "def remove_brand_descriptor(x):\n",
    "    x_ = x.split(\",\")\n",
    "    \n",
    "    if len(x_) > 1:\n",
    "        if 'fl oz' in x_[1]:\n",
    "            return x_[0].strip()\n",
    "        else:\n",
    "            return x_[1].strip()\n",
    "    elif len(x_) == 4:\n",
    "        return x_[2].strip()\n",
    "    else:\n",
    "        return x_[0].strip()"
   ]
  },
  {
   "cell_type": "code",
   "execution_count": 12,
   "metadata": {},
   "outputs": [],
   "source": [
    "'''\n",
    "Apply the 2 methods to obtain two different columns with the cleaning process applied\n",
    "'''\n",
    "data['no_brand_descriptor_title'] = data.apply(lambda x: remove_brand_descriptor(x.database), axis=1)\n",
    "data['no_descriptor_title'] = data.apply(lambda x: remove_descriptor(x.database), axis=1)"
   ]
  },
  {
   "cell_type": "code",
   "execution_count": 13,
   "metadata": {},
   "outputs": [
    {
     "data": {
      "text/html": [
       "<div>\n",
       "<style scoped>\n",
       "    .dataframe tbody tr th:only-of-type {\n",
       "        vertical-align: middle;\n",
       "    }\n",
       "\n",
       "    .dataframe tbody tr th {\n",
       "        vertical-align: top;\n",
       "    }\n",
       "\n",
       "    .dataframe thead th {\n",
       "        text-align: right;\n",
       "    }\n",
       "</style>\n",
       "<table border=\"1\" class=\"dataframe\">\n",
       "  <thead>\n",
       "    <tr style=\"text-align: right;\">\n",
       "      <th></th>\n",
       "      <th>database</th>\n",
       "      <th>num_commas</th>\n",
       "      <th>no_brand_descriptor_title</th>\n",
       "      <th>no_descriptor_title</th>\n",
       "    </tr>\n",
       "  </thead>\n",
       "  <tbody>\n",
       "    <tr>\n",
       "      <th>443</th>\n",
       "      <td>SEA SCALLOPS</td>\n",
       "      <td>0</td>\n",
       "      <td>SEA SCALLOPS</td>\n",
       "      <td>SEA SCALLOPS</td>\n",
       "    </tr>\n",
       "    <tr>\n",
       "      <th>444</th>\n",
       "      <td>PHILADELPHIA CREAM CHEESE-SOFT LIGHT</td>\n",
       "      <td>0</td>\n",
       "      <td>PHILADELPHIA CREAM CHEESE-SOFT LIGHT</td>\n",
       "      <td>PHILADELPHIA CREAM CHEESE-SOFT LIGHT</td>\n",
       "    </tr>\n",
       "    <tr>\n",
       "      <th>445</th>\n",
       "      <td></td>\n",
       "      <td>0</td>\n",
       "      <td></td>\n",
       "      <td></td>\n",
       "    </tr>\n",
       "    <tr>\n",
       "      <th>446</th>\n",
       "      <td>NESTLE, GRAND ASSORTED CHOCOLATE</td>\n",
       "      <td>1</td>\n",
       "      <td>GRAND ASSORTED CHOCOLATE</td>\n",
       "      <td>NESTLE, GRAND ASSORTED CHOCOLATE</td>\n",
       "    </tr>\n",
       "    <tr>\n",
       "      <th>447</th>\n",
       "      <td>PHILADELPHIA CREAM CHEESE-SOFT LIGHT</td>\n",
       "      <td>0</td>\n",
       "      <td>PHILADELPHIA CREAM CHEESE-SOFT LIGHT</td>\n",
       "      <td>PHILADELPHIA CREAM CHEESE-SOFT LIGHT</td>\n",
       "    </tr>\n",
       "  </tbody>\n",
       "</table>\n",
       "</div>"
      ],
      "text/plain": [
       "                                 database  num_commas  \\\n",
       "443                          SEA SCALLOPS           0   \n",
       "444  PHILADELPHIA CREAM CHEESE-SOFT LIGHT           0   \n",
       "445                                                 0   \n",
       "446      NESTLE, GRAND ASSORTED CHOCOLATE           1   \n",
       "447  PHILADELPHIA CREAM CHEESE-SOFT LIGHT           0   \n",
       "\n",
       "                no_brand_descriptor_title  \\\n",
       "443                          SEA SCALLOPS   \n",
       "444  PHILADELPHIA CREAM CHEESE-SOFT LIGHT   \n",
       "445                                         \n",
       "446              GRAND ASSORTED CHOCOLATE   \n",
       "447  PHILADELPHIA CREAM CHEESE-SOFT LIGHT   \n",
       "\n",
       "                      no_descriptor_title  \n",
       "443                          SEA SCALLOPS  \n",
       "444  PHILADELPHIA CREAM CHEESE-SOFT LIGHT  \n",
       "445                                        \n",
       "446      NESTLE, GRAND ASSORTED CHOCOLATE  \n",
       "447  PHILADELPHIA CREAM CHEESE-SOFT LIGHT  "
      ]
     },
     "execution_count": 13,
     "metadata": {},
     "output_type": "execute_result"
    }
   ],
   "source": [
    "data.tail() ##print dataframe"
   ]
  },
  {
   "cell_type": "code",
   "execution_count": 14,
   "metadata": {},
   "outputs": [],
   "source": [
    "'''\n",
    "Get rid of leading and ending spaces, make all one case, in csv file\n",
    "'''\n",
    "        \n",
    "for i in range(len(full_data.database)):\n",
    "    full_data.receipt_name[i] = '' if pd.isnull(full_data.receipt_name[i]) else (full_data.receipt_name[i].upper()).strip()\n",
    "    full_data.full_product_title[i] = '' if pd.isnull(full_data.full_product_title[i]) else (full_data.full_product_title[i].lower()).strip()\n",
    "    full_data.general_product_title[i] = '' if pd.isnull(full_data.general_product_title[i]) else (full_data.general_product_title[i].lower()).strip()\n",
    "    full_data.store[i] = '' if pd.isnull(full_data.store[i]) else (full_data.store[i].lower()).strip()"
   ]
  },
  {
   "cell_type": "code",
   "execution_count": 15,
   "metadata": {},
   "outputs": [
    {
     "name": "stdout",
     "output_type": "stream",
     "text": [
      "['PF XTRA CHEDDAR GF', 'pepperidge farms xtra cheddar goldfish', 'goldfish', 'publix', '', '', '']\n",
      "['PF CHEESE GOLDFISH', 'pepperidge farms cheese goldfish', 'goldfish', 'publix', '', '', '']\n",
      "['REESES PEAN', 'reeses peanut butter cups', 'peanut butter cups', 'walmart', '', '', '']\n",
      "['ATHENOS TR/CR FETA', 'athenos traditional crumbled feta', 'publix', 'feta crumbled', '', '', '']\n",
      "['L/L DBL CHOC CHIP', 'lenny & larrys double chocolate chip', 'double chocolate chip', 'publix', '', '', '']\n",
      "['AIDL SAUSAGE', 'aidell sausage', 'sausage', 'kroger', '', '', '']\n",
      "['PLANTAINS', 'plantains', 'plantains', 'kroger', '', '', '']\n",
      "['PFRM GOLDFISH', 'pepperidge farm goldfish', 'goldfish', 'kroger', '', '', '']\n",
      "['PEPPERS BELL RED', 'red bell peppers', 'red bell peppers', 'kroger', '', '', '']\n",
      "['PEACHES WHITE', 'white peaches', 'white peaches', 'kroger', '', '', '']\n",
      "['BLUEBERRIES', 'blueberries', 'blueberries', 'kroger', '', '', '']\n",
      "['LEMONS', 'lemons', 'lemons', 'kroger', '', '', '']\n",
      "['QUAKER OATMEAL', 'quaker oatmeal', 'oatmeal', 'kroger', '', '', '']\n",
      "['MANDARINS BAG', 'mandarins bag', 'mandarins', 'kroger', '', '', '']\n",
      "['BKCN COOKIES', '', '', '', '', '', '']\n",
      "['PRSL COOKIE', 'private selection cookie', 'cookie', 'kroger', '', '', '']\n",
      "['PRSL 12 GRAIN BRD', '', '', '', '', '', '']\n",
      "['QUAKER OATMEAL', 'quaker oatmeal', 'oatmeal', 'kroger', '', '', '']\n",
      "['KRO BUFFALO', 'kroger buffalo', 'buffalo', 'kroger', '', '', '']\n",
      "['KRO TUNA PCH', 'kroger tuna', 'tuna', 'kroger', '', '', '']\n",
      "['KRO LMN PEPPR', 'kroger lemon pepper', 'lemon pepper', 'kroger', '', '', '']\n",
      "['KRO TUNA', 'kroger tuna', 'tuna', 'kroger', '', '', '']\n",
      "['KRO POTATO', 'kroger potato', 'potato', 'kroger', '', '', '']\n",
      "['ONIONS SWT YELLOW', 'onions sweet yellow', 'onions', 'kroger', '', '', '']\n",
      "['CABBAGE', 'cabbage', 'cabbage', 'kroger', '', '', '']\n",
      "['KRO CAULIFLOWER FLPC', 'kroger cauliflower', 'cauliflower', 'kroger', '', '', '']\n",
      "['KRO MUSHROOMS', 'kroger mushrooms', 'mushrooms', 'kroger', '', '', '']\n",
      "['KRO HONEY BEAR', 'kroger honey bear', 'honey', 'kroger', '', '', '']\n",
      "['KRO TOMATOES', 'kroger tomatoes', 'tomatoes', 'kroger', '', '', '']\n",
      "['KRO SALSA', 'kroger salsa', 'salsa', 'kroger', '', '', '']\n",
      "['PRINGLES', 'pringles', 'chips', 'target', '', '', '']\n",
      "['CAMPBELLS CH', 'campbells cream of chicken', 'soup', 'target', '', '', '']\n",
      "['CAMPBELLS', 'campbells', 'soup', 'target', '', '', '']\n",
      "['MARUCHN SOUP', 'maruchan soup', 'ramen', 'target', '', '', '']\n",
      "['MP 2 PC MILK', 'market pantry 2 percent milk', 'milk', 'target', '', '', '']\n",
      "['CAPRI SUN', 'capri sun', 'juice', 'target', '', '', '']\n",
      "['DEVOUR', 'devour', 'devour', 'target', '', '', '']\n",
      "['NEWYOR BREAD', 'newyork bread', 'garlic bread', 'target', '', '', '']\n",
      "['FAIRLIFE', 'fairlife', 'ice cream', 'target', '', '', '']\n",
      "['OS CRAN POM', 'ocean spray cranberry pomegranate juice', 'juice', 'walmart', '', '', '']\n",
      "['CAMPARI TOM', 'campari tomatoes', 'tomatoes', 'walmart', '', '', '']\n",
      "['KFT SINGLES', 'kraft singles', 'cheese', 'walmart', '', '', '']\n",
      "['HARD SALAMI', 'hard salami', 'salami', 'walmart', '', '', '']\n",
      "['ORGANIC SUGAR', 'organic sugar', 'sugar', 'trader joes', '', '', '']\n",
      "['CHOC CHUNKS SEMI SWEET 10 OZ', 'semi sweet chocolate chunks', 'chocolate', 'trader joes', '', '', '']\n",
      "['SPAGHETTI TOMATO SAUCE ORGANIC', 'organic spaghetti tomato sauce', 'tomato sauce', 'trader joes', '', '', '']\n",
      "['A-POTATO EACH RUSSET', 'russet potato', 'potato', 'trader joes', '', '', '']\n",
      "['R-CARROTS WHOLE ORG', 'organic carrots', 'carrot', 'trader joes', '', '', '']\n",
      "['A-AVOCADOS EACH HASS 40 CT', 'hass avocados', 'avocados', 'trader joes', '', '', '']\n",
      "['A-CUCUMBERS PERSIAN 14 OZ', 'persian cucumbers', 'cucumbers', 'trader joes', '', '', '']\n",
      "['TRADITIONAL REFRIED BEANS', 'refried beans', 'beans', 'trader joes', '', '', '']\n",
      "['GV 5LB BRST', 'great value chicken breast', 'chicken breast', 'walmart', '', '', '']\n",
      "['GV 2 RF MLK', 'great value 2% reduced fat milk', 'milk', 'walmart', '', '', '']\n",
      "['HNY MPL BCN', 'honey maple bacon', 'bacon', 'walmart', '', '', '']\n",
      "['JALAPENO', 'jalapeno', 'jalapeno', 'walmart', '', '', '']\n",
      "['GV CHED SHED', 'great value shredded cheddar', 'cheese', 'walmart', '', '', '']\n",
      "['GV BRWN RICE', 'great value brown rice', 'brown rice', 'walmart', '', '', '']\n",
      "['BELL PEPPER', 'bell pepper', 'bell pepper', 'walmart', '', '', '']\n",
      "['RED PEPPER', 'red pepper', 'red pepper', 'walmart', '', '', '']\n",
      "['ORANGE PEPPER', 'orange pepper', 'orange pepper', 'walmart', '', '', '']\n",
      "['EGGS', 'eggs', 'eggs', 'walmart', '', '', '']\n",
      "['CILANTRO', 'cilantro', 'ciltrano', 'walmart', '', '', '']\n",
      "['1PCT MILK', '1% milk', 'milk', 'kroger', '', '', '']\n",
      "['KROGER JUICE', 'kroger juice', 'orange juice', 'kroger', '', '', '']\n",
      "['KRO JAM', 'kroger jam', 'jam', 'kroger', '', '', '']\n",
      "['BANANAS', 'bananas', 'bananas', 'kroger', '', '', '']\n",
      "['STO RED DEL POUCH', 'simple truth organic red delicious apples', 'apples', 'kroger', '', '', '']\n",
      "['PORT WINE', 'port wine', 'wine', 'walmart', '', '', '']\n",
      "['GREEN ONION', 'green onion', 'green onion', 'walmart', '', '', '']\n",
      "['TOTINOS PIZZA', 'totinos pizza rolls', 'pizza rolls', 'publix', '', '', '']\n",
      "['APPLES MCINTOSH LG', 'large mcintosh apples', 'apples', 'publix', '', '', '']\n",
      "['PEARS BARTLETT', 'bartlett pears', 'pears', 'publix', '', '', '']\n",
      "['CHWY PPRMNT MENTOS', 'chewy peppermint mentos', 'mints', 'publix', '', '', '']\n",
      "['OJ TROP PURE', 'tropicana pure orange juice', 'orange juice', 'publix', '', '', '']\n",
      "['PUBLIX MILK', 'publix milk', 'milk', 'publix', '', '', '']\n",
      "['KIT KAT', 'kit kat', 'candy', 'publix', '', '', '']\n",
      "['ALMOND JOY SNACK', 'almond joy snack', 'candy', 'publix', '', '', '']\n",
      "['SUNKIST ORANGE', 'sunkist orange', 'oranges', 'publix', '', '', '']\n",
      "['TGIF POPCORN CKN', 'tgif popcorn chicken', 'popcorn chicken', 'publix', '', '', '']\n",
      "['DELIZZA ECLAIRS', 'delizza eclairs', 'eclairs', 'publix', '', '', '']\n",
      "['UNBLEACHED BRD FLR', 'unbleached bread flour', 'bread flour', 'publix', '', '', '']\n",
      "['CANTALOUPES', 'cantaloupes', 'cantaloupes', 'publix', '', '', '']\n",
      "['MOTTS APP WHT GRP', 'motts apple white grape juice', 'juice', 'publix', '', '', '']\n",
      "['PBLX ITAL BRD CRMB', 'publix italian bread crumbs', 'bread crumbs', 'publix', '', '', '']\n",
      "['KENS BALS/BASIL', 'kens balsamic/basil dressing', 'salad dressing', 'publix', '', '', '']\n",
      "['KENS RANCH', 'kens ranch', 'ranch', 'publix', '', '', '']\n",
      "['PETER PAN PNUT/BTR', 'peter pan peanut butter', 'peanut butter', 'publix', '', '', '']\n",
      "['MAXWELL HOUSE COFF', 'maxwell house coffee', 'coffee', 'publix', '', '', '']\n",
      "['PUBLIX MARINARA SA', 'publix marinara sauce', 'marinara sauce', 'publix', '', '', '']\n",
      "['EUREKA WHEAT BRD', 'eureka wheat bread', 'bread', 'publix', '', '', '']\n",
      "['KRO 1% LF MILK', 'kroger 1% lowfat milk', 'milk', 'kroger', '', '', '']\n",
      "['KROGER KTL CHPS', 'kroger kettle chips', 'chips', 'kroger', '', '', '']\n",
      "['KRO BREAD', 'kroger bread', 'bread', 'kroger', '', '', '']\n",
      "['MCCORMCK CHLI MX', 'mccormick chili mix', 'spices', 'kroger', '', '', '']\n",
      "['ROMAINE HEARTS', 'romaine hearts', 'romaine', 'kroger', '', '', '']\n",
      "['KRO GRND TRKY', 'kroger ground turkey', 'ground turkey', 'kroger', '', '', '']\n",
      "['CKN BRST BL SL', 'chicken breast boneless skinless', 'chicken breast', 'kroger', '', '', '']\n",
      "['KROGER MUSTARD', 'kroger mustard', 'mustard', 'kroger', '', '', '']\n",
      "['KRO PASTA SAUCE', 'kroger pasta sauce', 'pasta sauce', 'kroger', '', '', '']\n",
      "['KROGER BEANS', 'kroger beans', 'beans', 'kroger', '', '', '']\n",
      "['APL CRIPPS PINK', 'cripps pink apple', 'apples', 'kroger', '', '', '']\n",
      "['KROGER FRZN VEG', 'kroger frozen vegetables', 'frozen vegetables', 'kroger', '', '', '']\n",
      "['KRO GRK VAN YOGURT', 'kroger greek vanilla yogurt', 'yogurt', 'kroger', '', '', '']\n",
      "['PRSL PIZZA', 'private selections pizza', 'pizza', 'kroger', '', '', '']\n",
      "['STO BABY ARUGULA', 'simple truth organic baby arugula', 'baby arugula', 'kroger', '', '', '']\n",
      "['NBSC BLVTA', 'nabisco belvita', 'breakfast biscuit', 'kroger', '', '', '']\n",
      "['MCCAFE COFFEE', 'mccafe coffee', 'coffee', 'kroger', '', '', '']\n",
      "['KRO HONEY BEAR', 'kroger honey bear', 'honey', 'kroger', '', '', '']\n",
      "['KROGER OATS', 'kroger oats', 'oats', 'kroger', '', '', '']\n",
      "['HALOTOP ICE CREAM', 'halo top ice cream', 'ice cream', 'kroger', '', '', '']\n",
      "['KRO PEANUT BUTTER', 'kroger peanut butter', 'peanut butter', 'kroger', '', '', '']\n",
      "['MRES DRSNG', 'maries dressing', 'salad dressing', 'kroger', '', '', '']\n",
      "['CASCADIAN GRANOLA', 'cascadian farms granola', 'granola', 'kroger', '', '', '']\n",
      "['ST COOKIES', 'simple truth cookies', 'cookies', 'kroger', '', '', '']\n",
      "['CA PZ KTCH PIZZA', 'california pizza kitchen pizza', 'pizza', 'kroger', '', '', '']\n",
      "['STO BLUE TORTILLA', 'simple truth organic blue tortilla chips', 'tortilla chips', 'kroger', '', '', '']\n",
      "['KROGER EGGS', 'kroger eggs', 'eggs', 'kroger', '', '', '']\n",
      "['STO WHITE TORTILLA', 'simple truth organic white tortilla chips', 'tortilla chips', 'kroger', '', '', '']\n",
      "['KRO DRIED CRANBERR', 'kroger dried cranberries', 'cranberries', 'kroger', '', '', '']\n",
      "['APPLES HONEYCRISP', 'honeycrisp apples', 'apples', 'kroger', '', '', '']\n",
      "['VGND SWT POT SPR PC', 'veggie noodle sweet potato spirals', 'veggie noodle sweet potato spirals', 'kroger', '', '', '']\n",
      "['TERRAPIN IPA', 'terrapin ipa', 'terrapin ipa', 'publix', '', '', '']\n",
      "['GARDEN LIFE ROMAIN', 'garden life romain lettuce', 'lettuce', 'publix', '', '', '']\n",
      "['PEP FARM GOLDFISH', 'pepridge farm goldfish', 'goldfish', 'shaws', '', '', '']\n",
      "['QUAKER CEREAL LIFE', 'quaker life cereal', 'cereal', 'shaws', '', '', '']\n",
      "['OCEAN SPRAY JUICE', 'ocean spray juice', 'juice', 'shaws', '', '', '']\n",
      "['MARTINELLI CIDAR S', 'martinelli cidar', 'cidar', 'shaws', '', '', '']\n",
      "['COCA COLA CLASSIC', 'coca cola classic', 'coke', 'shaws', '', '', '']\n",
      "['ARIZONA SWT TEA', 'arizona sweat tea', 'sweat tea', 'shaws', '', '', '']\n",
      "['PLN CRN RCE SNK', 'plain corn rice snack', 'corn rice snack', 'shaws', '', '', '']\n",
      "['TWINIGS CLSC PRNCE', 'twinings classic prince of whales', 'tea', 'shaws', '', '', '']\n",
      "['BC COOL IN BLUE 6', 'bc cool in blue 6 types', 'sprinkles', 'shaws', '', '', '']\n",
      "['KFT CUPS 3 CHEESE', 'kraft macaroni and cheese cups tripple cheese', 'mac and cheese cups', 'publix', '', '', '']\n",
      "['SANTTITAS YEL CORN', 'santtitas yellow corn', 'yellow corn', 'publix', '', '', '']\n"
     ]
    }
   ],
   "source": [
    "for i in range(len(full_data.database)):\n",
    "    if (data.database[i] == ''):\n",
    "        print([full_data.receipt_name[i], full_data.full_product_title[i], full_data.general_product_title[i], full_data.store[i], data.database[i], data.no_brand_descriptor_title[i], data.no_descriptor_title[i]])\n",
    "   "
   ]
  },
  {
   "cell_type": "code",
   "execution_count": 18,
   "metadata": {},
   "outputs": [],
   "source": [
    "'''\n",
    "Create csv rows where there is a product match. Put all unmatched products in a separate file\n",
    "'''\n",
    "csvRows = []\n",
    "no_match_row = []\n",
    "csvRows.append(['receipt_name', 'full_product_title', 'general_product_title', 'store', 'database', 'no_brand_descriptor_title', 'no_descriptor_title'])\n",
    "for i in range(len(full_data.database)):\n",
    "    if (data.database[i] == ''):\n",
    "        no_match_row.append([full_data.receipt_name[i], full_data.full_product_title[i], full_data.general_product_title[i], full_data.store[i]])\n",
    "    else:\n",
    "        csvRows.append([full_data.receipt_name[i], full_data.full_product_title[i], full_data.general_product_title[i], full_data.store[i], data.database[i], data.no_brand_descriptor_title[i], data.no_descriptor_title[i]])\n",
    "    "
   ]
  },
  {
   "cell_type": "code",
   "execution_count": 19,
   "metadata": {},
   "outputs": [],
   "source": [
    "'''\n",
    "Create new, cleaned csv of manual data\n",
    "'''\n",
    "csvfile = '../data/cleaned_receipt_data_manual.csv'\n",
    "with open(csvfile, \"w\") as fp:\n",
    "    wr = csv.writer(fp, dialect='excel')\n",
    "    wr.writerows(csvRows)"
   ]
  },
  {
   "cell_type": "code",
   "execution_count": 20,
   "metadata": {},
   "outputs": [],
   "source": [
    "'''\n",
    "Create csv of manual data with no matches\n",
    "'''\n",
    "csvfile = '../data/no_matches_manual_data.csv'\n",
    "with open(csvfile, \"w\") as fp:\n",
    "    wr = csv.writer(fp, dialect='excel')\n",
    "    wr.writerows(no_match_row)"
   ]
  },
  {
   "cell_type": "code",
   "execution_count": null,
   "metadata": {},
   "outputs": [],
   "source": []
  }
 ],
 "metadata": {
  "kernelspec": {
   "display_name": "Python 3",
   "language": "python",
   "name": "python3"
  },
  "language_info": {
   "codemirror_mode": {
    "name": "ipython",
    "version": 3
   },
   "file_extension": ".py",
   "mimetype": "text/x-python",
   "name": "python",
   "nbconvert_exporter": "python",
   "pygments_lexer": "ipython3",
   "version": "3.7.2"
  }
 },
 "nbformat": 4,
 "nbformat_minor": 2
}
