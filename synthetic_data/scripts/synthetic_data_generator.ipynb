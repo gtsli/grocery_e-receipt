{
 "cells": [
  {
   "cell_type": "code",
   "execution_count": 1,
   "metadata": {},
   "outputs": [],
   "source": [
    "import json"
   ]
  },
  {
   "cell_type": "markdown",
   "metadata": {},
   "source": [
    "## Create list of synthetic data, where each item is a tuple like (full_title, shortened name)\n"
   ]
  },
  {
   "cell_type": "code",
   "execution_count": 2,
   "metadata": {},
   "outputs": [],
   "source": [
    "#### Process data to just take first three characters of every word for a given product item\n",
    "def first_chars_rule(source):\n",
    "    with open(source) as json_file:  \n",
    "        data = json.load(json_file)\n",
    "        three_letter_shortening = []\n",
    "        for full_title in data:\n",
    "            full_title = full_title.upper()\n",
    "            full_title = full_title.split()\n",
    "            shortened_name = []\n",
    "            for token in full_title:\n",
    "                if len(token)>3:\n",
    "                    shortened_name.append(token[:3])\n",
    "                else:\n",
    "                    shortened_name.append(token)\n",
    "            three_letter_shortening.append(' '.join(shortened_name))\n",
    "\n",
    "    ret_list = []\n",
    "    for i, title in enumerate(data):\n",
    "        ret_list.append((title, three_letter_shortening[i]))\n",
    "    return ret_list"
   ]
  },
  {
   "cell_type": "code",
   "execution_count": 3,
   "metadata": {},
   "outputs": [],
   "source": [
    "#### Process data to take first and last characters of every word for a given product item\n",
    "def first_last_char_rule(source):\n",
    "    with open(source) as json_file:  \n",
    "        data = json.load(json_file)\n",
    "        shorten = []\n",
    "        for full_title in data:\n",
    "            full_title = full_title.upper()\n",
    "            full_title = full_title.split()\n",
    "            shortened_name = []\n",
    "            for token in full_title:\n",
    "                if len(token)>2:\n",
    "                    shortened_name.append(token[0] + token[-1])\n",
    "                else:\n",
    "                    shortened_name.append(token)\n",
    "            shorten.append(' '.join(shortened_name))\n",
    "\n",
    "    ret_list = []\n",
    "    for i, title in enumerate(data):\n",
    "        ret_list.append((title, shorten[i]))\n",
    "    return ret_list"
   ]
  },
  {
   "cell_type": "code",
   "execution_count": 4,
   "metadata": {},
   "outputs": [],
   "source": [
    "#### Process data to keep the first three consonants of every word for a given product item\n",
    "def first_consonants(source):\n",
    "    with open(source) as json_file:  \n",
    "        data = json.load(json_file)\n",
    "        shorten = []\n",
    "        for full_title in data:\n",
    "            full_title = full_title.upper()\n",
    "            full_title = full_title.split()\n",
    "            shortened_name = []\n",
    "            for token in full_title:\n",
    "                table = str.maketrans(dict.fromkeys('AEIOU'))\n",
    "                token = token.translate(table)\n",
    "                if len(token)>3:\n",
    "                    shortened_name.append(token[:3])\n",
    "                else:\n",
    "                    shortened_name.append(token)\n",
    "            shorten.append(' '.join(shortened_name))\n",
    "\n",
    "    ret_list = []\n",
    "    for i, title in enumerate(data):\n",
    "        ret_list.append((title, shorten[i]))\n",
    "    return ret_list"
   ]
  },
  {
   "cell_type": "code",
   "execution_count": 5,
   "metadata": {},
   "outputs": [],
   "source": [
    "#### Process data to keep the first two and last consonants of every word for a given product item\n",
    "def first_last_consonants(source):\n",
    "    with open(source) as json_file:  \n",
    "        data = json.load(json_file)\n",
    "        shorten = []\n",
    "        for full_title in data:\n",
    "            full_title = full_title.upper()\n",
    "            full_title = full_title.split()\n",
    "            shortened_name = []\n",
    "            for token in full_title:\n",
    "                table = str.maketrans(dict.fromkeys('AEIOU'))\n",
    "                token = token.translate(table)\n",
    "                if len(token)>3:\n",
    "                    shortened_name.append(token[:2] + token[-1])\n",
    "                else:\n",
    "                    shortened_name.append(token)\n",
    "            shorten.append(' '.join(shortened_name))\n",
    "    ret_list = []\n",
    "    for i, title in enumerate(data):\n",
    "        ret_list.append((title, shorten[i]))\n",
    "    return ret_list\n"
   ]
  },
  {
   "cell_type": "code",
   "execution_count": 6,
   "metadata": {},
   "outputs": [],
   "source": [
    "#### Process data to get first letter of each word in brand\n",
    "def brand_first_letters(source):\n",
    "    with open(source) as json_file:\n",
    "        data = json.load(json_file)\n",
    "        mapped_data = []\n",
    "        for full_title in data:\n",
    "            try:\n",
    "                orig_title = full_title\n",
    "                full_title = full_title.upper()\n",
    "                full_title = full_title.split(\",\")\n",
    "                name = \"\"\n",
    "                if len(full_title) == 2:\n",
    "                    brand = full_title[0].split(\" \")\n",
    "                    if len(brand) > 1:\n",
    "                        for eachWord in brand:\n",
    "                            name+=str(eachWord[0])\n",
    "                        name+=str(full_title[1])\n",
    "                    else:\n",
    "                        name=str(full_title[0])+str(full_title[1])\n",
    "                else:\n",
    "                    name=str(full_title[0])\n",
    "                mapped_data.append((orig_title.replace(\",\", \"\"), name.replace(\",\", \"\")))\n",
    "            except:\n",
    "                pass\n",
    "    return mapped_data "
   ]
  },
  {
   "cell_type": "code",
   "execution_count": 7,
   "metadata": {},
   "outputs": [],
   "source": [
    "#### Process data to get first letter of each word\n",
    "#### This is used for brands using brands.json during feature engineering for gbdt\n",
    "def first_letters(source):\n",
    "    with open(source) as json_file:\n",
    "        data = json.load(json_file)\n",
    "        shorten = []\n",
    "        for x in data:\n",
    "            if len(x.split()) > 1:\n",
    "                words = x.split()\n",
    "                shortened = \"\"\n",
    "                for word in words:\n",
    "                    shortened += word[0]\n",
    "                shorten.append(shortened)\n",
    "            else:\n",
    "                shorten.append(x)\n",
    "        ret_list = []\n",
    "        for i, title in enumerate(data):\n",
    "            ret_list.append((title, shorten[i]))\n",
    "        return ret_list"
   ]
  },
  {
   "cell_type": "code",
   "execution_count": 8,
   "metadata": {},
   "outputs": [],
   "source": [
    "#### Process data to remove all vowels\n",
    "def remove_vowels(source):\n",
    "    with open(source) as json_file:\n",
    "        data = json.load(json_file)\n",
    "        shorten = []\n",
    "        for full_title in data:\n",
    "            full_title = full_title.upper()\n",
    "            full_title = full_title.split()\n",
    "            shortened_name = []\n",
    "            vowels = ['A', 'I', 'O', 'U', 'E']\n",
    "            full_name = \"\"\n",
    "            for token in full_title:\n",
    "                shortened_word = \"\"\n",
    "                for character in token:\n",
    "                    full_name += character\n",
    "                    if character not in vowels:\n",
    "                        shortened_word += character\n",
    "                shortened_name.append(shortened_word)\n",
    "            shorten.append(\" \".join(shortened_name))\n",
    "    ret_list = []\n",
    "    for i, title in enumerate(data):\n",
    "        ret_list.append((title, shorten[i]))\n",
    "    return ret_list"
   ]
  },
  {
   "cell_type": "markdown",
   "metadata": {},
   "source": [
    "# Generate Finalized Data"
   ]
  },
  {
   "cell_type": "code",
   "execution_count": 9,
   "metadata": {},
   "outputs": [
    {
     "name": "stdout",
     "output_type": "stream",
     "text": [
      "105730\n",
      "211460\n",
      "317190\n",
      "422920\n",
      "528650\n"
     ]
    }
   ],
   "source": [
    "final_data = []\n",
    "final_data+=remove_vowels('../data/cleaned_data.json')\n",
    "print (len(final_data))\n",
    "# final_data+=brand_first_letters('../data/cleaned_branded_data.json')\n",
    "# print (len(final_data))\n",
    "final_data+=first_last_consonants('../data/cleaned_data.json')\n",
    "print (len(final_data))\n",
    "final_data+=first_consonants('../data/cleaned_data.json')\n",
    "print (len(final_data))\n",
    "final_data+=first_last_char_rule('../data/cleaned_data.json')\n",
    "print (len(final_data))\n",
    "final_data+=first_chars_rule('../data/cleaned_data.json')\n",
    "print (len(final_data))"
   ]
  },
  {
   "cell_type": "code",
   "execution_count": 10,
   "metadata": {},
   "outputs": [],
   "source": [
    "with open('../data/final_train_labels.json', 'w') as outfile:\n",
    "    json.dump(final_data, outfile)"
   ]
  },
  {
   "cell_type": "code",
   "execution_count": 22,
   "metadata": {},
   "outputs": [
    {
     "name": "stdout",
     "output_type": "stream",
     "text": [
      "6598\n",
      "13196\n",
      "19794\n",
      "26392\n",
      "32990\n",
      "39588\n"
     ]
    }
   ],
   "source": [
    "abbreviated_brands = []\n",
    "abbreviated_brands+=remove_vowels('../data/brands.json')\n",
    "print (len(abbreviated_brands))\n",
    "abbreviated_brands+=first_letters('../data/brands.json')\n",
    "print (len(abbreviated_brands))\n",
    "abbreviated_brands+=first_last_consonants('../data/brands.json')\n",
    "print (len(abbreviated_brands))\n",
    "abbreviated_brands+=first_consonants('../data/brands.json')\n",
    "print (len(abbreviated_brands))\n",
    "abbreviated_brands+=first_last_char_rule('../data/brands.json')\n",
    "print (len(abbreviated_brands))\n",
    "abbreviated_brands+=first_chars_rule('../data/brands.json')\n",
    "print (len(abbreviated_brands))"
   ]
  },
  {
   "cell_type": "code",
   "execution_count": 23,
   "metadata": {},
   "outputs": [],
   "source": [
    "with open('../data/abbreviated_brands.json', 'w') as outfile:\n",
    "    json.dump(abbreviated_brands, outfile)"
   ]
  },
  {
   "cell_type": "code",
   "execution_count": 13,
   "metadata": {},
   "outputs": [
    {
     "name": "stdout",
     "output_type": "stream",
     "text": [
      "18\n",
      "36\n",
      "54\n",
      "72\n",
      "90\n"
     ]
    }
   ],
   "source": [
    "abbreviated_descriptors = []\n",
    "abbreviated_descriptors+=remove_vowels('../data/descriptors.json')\n",
    "print (len(abbreviated_descriptors))\n",
    "abbreviated_descriptors+=first_last_consonants('../data/descriptors.json')\n",
    "print (len(abbreviated_descriptors))\n",
    "abbreviated_descriptors+=first_consonants('../data/descriptors.json')\n",
    "print (len(abbreviated_descriptors))\n",
    "abbreviated_descriptors+=first_last_char_rule('../data/descriptors.json')\n",
    "print (len(abbreviated_descriptors))\n",
    "abbreviated_descriptors+=first_chars_rule('../data/descriptors.json')\n",
    "print (len(abbreviated_descriptors))"
   ]
  },
  {
   "cell_type": "code",
   "execution_count": 14,
   "metadata": {},
   "outputs": [],
   "source": [
    "with open('../data/abbreviated_descriptors.json', 'w') as outfile:\n",
    "    json.dump(abbreviated_descriptors, outfile)"
   ]
  },
  {
   "cell_type": "code",
   "execution_count": 15,
   "metadata": {},
   "outputs": [
    {
     "name": "stdout",
     "output_type": "stream",
     "text": [
      "140106\n",
      "668731\n",
      "280212\n",
      "420318\n",
      "560424\n",
      "700530\n"
     ]
    }
   ],
   "source": [
    "final_branded_train_labels = []\n",
    "final_branded_train_labels+=remove_vowels('../data/cleaned_branded_data_no_commas.json')\n",
    "print (len(final_branded_train_labels))\n",
    "final_data+=brand_first_letters('../data/cleaned_branded_data.json')\n",
    "print (len(final_data))\n",
    "final_branded_train_labels+=first_last_consonants('../data/cleaned_branded_data_no_commas.json')\n",
    "print (len(final_branded_train_labels))\n",
    "final_branded_train_labels+=first_consonants('../data/cleaned_branded_data_no_commas.json')\n",
    "print (len(final_branded_train_labels))\n",
    "final_branded_train_labels+=first_last_char_rule('../data/cleaned_branded_data_no_commas.json')\n",
    "print (len(final_branded_train_labels))\n",
    "final_branded_train_labels+=first_chars_rule('../data/cleaned_branded_data_no_commas.json')\n",
    "print (len(final_branded_train_labels))"
   ]
  },
  {
   "cell_type": "code",
   "execution_count": 16,
   "metadata": {},
   "outputs": [],
   "source": [
    "with open('../data/final_branded_train_labels.json', 'w') as outfile:\n",
    "    json.dump(final_branded_train_labels, outfile)"
   ]
  }
 ],
 "metadata": {
  "kernelspec": {
   "display_name": "Python 3",
   "language": "python",
   "name": "python3"
  },
  "language_info": {
   "codemirror_mode": {
    "name": "ipython",
    "version": 3
   },
   "file_extension": ".py",
   "mimetype": "text/x-python",
   "name": "python",
   "nbconvert_exporter": "python",
   "pygments_lexer": "ipython3",
   "version": "3.7.2"
  }
 },
 "nbformat": 4,
 "nbformat_minor": 2
}
